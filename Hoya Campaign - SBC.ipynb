{
 "cells": [
  {
   "cell_type": "markdown",
   "metadata": {
    "application/vnd.databricks.v1+cell": {
     "cellMetadata": {},
     "inputWidgets": {},
     "nuid": "e4ca9750-72ce-4cb6-8d1b-b816292f6634",
     "showTitle": false,
     "title": ""
    }
   },
   "source": [
    "## Hoya Campaign for Ótica Holy Glassses\n",
    "\n",
    "## \n",
    "\n",
    "#### Main objective: Get all customers that bought Hoya products before 2024."
   ]
  },
  {
   "cell_type": "code",
   "execution_count": 0,
   "metadata": {
    "application/vnd.databricks.v1+cell": {
     "cellMetadata": {
      "byteLimit": 2048000,
      "rowLimit": 10000
     },
     "inputWidgets": {},
     "nuid": "a80e9922-a4a2-45b0-ab62-181a978a9c35",
     "showTitle": false,
     "title": ""
    }
   },
   "outputs": [],
   "source": [
    "%python\n",
    "\n",
    "# Using Python to get the most updated sales file path\n",
    "\n",
    "all_files = dbutils.fs.ls('dbfs:/FileStore/tables/')\n",
    "sales_files = [file for file in all_files if file.name.startswith('exportacao_venda')]\n",
    "sales_files = sorted(sales_files, key=lambda file: file.modificationTime, reverse=True)\n",
    "last_file = sales_files[0].path\n",
    "last_file\n",
    "\n",
    "# Using PySpark to create the DataFrame using necessary encoding\n",
    "df = spark.read.csv(last_file, inferSchema=True, header=True, encoding='latin1')\n",
    "\n",
    "# Transforming to pandas to use ffill method\n",
    "df_pandas = df.toPandas()\n",
    "df_pandas.fillna(method='ffill', inplace=True)\n",
    "\n",
    "# Getting back to PySpark\n",
    "df = spark.createDataFrame(df_pandas)\n",
    "\n",
    "# Creating table to use SQL\n",
    "df.createOrReplaceTempView('hoya_campaign')"
   ]
  },
  {
   "cell_type": "code",
   "execution_count": 0,
   "metadata": {
    "application/vnd.databricks.v1+cell": {
     "cellMetadata": {
      "byteLimit": 2048000,
      "rowLimit": 10000
     },
     "inputWidgets": {},
     "nuid": "285b4e72-b94f-4d82-b559-d0f0749b618a",
     "showTitle": false,
     "title": ""
    },
    "jupyter": {
     "outputs_hidden": true
    }
   },
   "outputs": [
    {
     "output_type": "display_data",
     "data": {
      "text/html": [
       "<style scoped>\n",
       "  .table-result-container {\n",
       "    max-height: 300px;\n",
       "    overflow: auto;\n",
       "  }\n",
       "  table, th, td {\n",
       "    border: 1px solid black;\n",
       "    border-collapse: collapse;\n",
       "  }\n",
       "  th, td {\n",
       "    padding: 5px;\n",
       "  }\n",
       "  th {\n",
       "    text-align: left;\n",
       "  }\n",
       "</style><div class='table-result-container'><table class='table-result'><thead style='background-color: white'><tr><th>Cliente</th><th>Telefones</th><th>Item - Descrição</th></tr></thead><tbody><tr><td>Sueli Rosa Gama</td><td>(11) 9.4782-7724 (Sueli)</td><td>Hoya Argos Progressive Organic 1.50 No-Risk</td></tr><tr><td>Teresinha M.s Almeira</td><td>(11) 9.6389-6856 (Terezinha)</td><td>Hoya Hoyalux Wide Bks 1.50 No-Risk</td></tr><tr><td>Guilherme Quintino</td><td>(11) 9.9986-0415</td><td>Hoya Nulux Sportive Organic 1.50 Polarizada Hv Hard</td></tr><tr><td>Erika Luca da Silva</td><td>(11) 9.9280-4390</td><td>Hoya Amplus Organic 1.50 Cleanextra</td></tr><tr><td>Antonio Carlos Rodrigues</td><td>(11) 9.4824-0805 (Diogo)</td><td>Hoya Lente Pronta Hilux Vs Premium Organic 1.50 Bluecontrol</td></tr><tr><td>Lidia Silvia</td><td>(11) 9.1452-0258</td><td>Hoya Amplus Organic 1.50 Hv Hard</td></tr><tr><td>Denis Oliveira Zamproni</td><td>(11) 9.7270-1676</td><td>Hoya Lente Pronta Hilux Vs Premium Organic 1.50 Bluecontrol</td></tr><tr><td>Yhasmin Fernandes</td><td>(11) 9.6273-0420 (Yhasmin)</td><td>Hoya Lente Pronta Hilux Pnx Trivex Hv Longlife</td></tr><tr><td>Bruna Alves Torres</td><td>(11) 9.5161-9954</td><td>Hoya Amplus Organic 1.50 Cleanextra</td></tr><tr><td>Angela Cazotti</td><td>(11) 9.7230-3880</td><td>Hoya Lente Pronta Nulux Eynoa 1.67 Hv Meiryo</td></tr><tr><td>Vinicius Tavares Santos</td><td>(11) 9.8772-0293</td><td>Hoya Lente Pronta Nulux Eynoa 1.67 Hv Meiryo</td></tr><tr><td>Maria Bernadete</td><td>(11) 9.5291-3495</td><td>Hoya Amplus Organic 1.50 Cleanextra</td></tr><tr><td>Charles Morales</td><td>(11) 9.8901-9592</td><td>Hoya Argos Progressive Pnx Trivex No-Risk Bluecontrol</td></tr><tr><td>Olga Kosimenko Gregio</td><td>(11) 9.9304-0469</td><td>Hoya Amplus Poli Cleanextra</td></tr><tr><td>Maria Izabele Simoes Matos</td><td>(11) 9.9564-3428</td><td>Hoya Lente Pronta Hilux Vs Premium Organic 1.50 Bluecontrol</td></tr><tr><td>Maura Leite Inacio Silva</td><td>(11) 9.8791-6569</td><td>Hoya Hoyalux Wide Bks 1.50 Cleanextra</td></tr><tr><td>Eudete Soares</td><td>(11) 9.9557-2851</td><td>Hoya Amplus Organic 1.50 Cleanextra</td></tr><tr><td>Washington Oliveira</td><td>(11) 9.6591-8835 (Washington)</td><td>Hoya Lente Pronta Nulux Eynoa 1.67 Hv Meiryo</td></tr><tr><td>Angela de Cassia</td><td>(11) 9.9885-9336</td><td>Hoya Amplus Organic 1.50 Cleanextra</td></tr><tr><td>Leandro Dias</td><td>(11) 9.9383-5764</td><td>Hoya Lente Pronta Hilux Pnx Trivex Hv Aqua</td></tr><tr><td>Carina Brussolo</td><td>(11) 9.9437-9866</td><td>Hoya Lente Pronta Hilux Vs Premium Organic 1.50 Bluecontrol</td></tr><tr><td>Renata Borges</td><td>(11) 9.5221-5821 (Renata)</td><td>Hoya Vs Surfaçada Hilux Organic 1.50 Sensity 2 Cleanextra</td></tr><tr><td>Eliete Maria dos Santos</td><td>(11) 9.5891-8656 (Eliete)</td><td>Hoya Amplus Organic 1.50 Cleanextra</td></tr><tr><td>Fabiano Rodrigo Sakamoto</td><td>(11) 9.4941-8556</td><td>Hoya Lente Pronta Hilux Vs Premium Organic 1.50 Bluecontrol</td></tr><tr><td>Marileide Pereira</td><td>(11) 9.6969-0169</td><td>Hoya Amplus Organic 1.50 Cleanextra</td></tr><tr><td>Marco Antonio Martins Ferreira</td><td>(11) 9.8591-9190</td><td>Hoya Argos Progressive Organic 1.50 Sensity 2 Cleanextra</td></tr><tr><td>Edleide Moura Leite Ferreira</td><td>(11) 9.3075-9393 (Edleide)</td><td>Hoya Amplus Organic 1.50 Cleanextra</td></tr><tr><td>Bianca Freitas e Silva</td><td>(11) 9.4931-9126 (Bianca)</td><td>Hoya Lente Pronta Ultrax Poli Hard</td></tr><tr><td>Leonardo Morais de Souza</td><td>(11) 9.9774-8050 (Leonardo)</td><td>Hoya Lente Pronta Hilux Vs Premium Organic 1.50 Bluecontrol</td></tr><tr><td>Miriane Costa da Silva</td><td>(11) 9.4953-0209 (Miriane Costa)</td><td>Hoya Lente Pronta Hilux Vs Premium Organic 1.50 Bluecontrol</td></tr><tr><td>Maria Jose S de Molita</td><td>(11) 9.8707-0894</td><td>Hoya Amplus Organic 1.50 Cleanextra</td></tr><tr><td>Luis Augusto Silva</td><td>(11) 8650-1324 (Luis e Fatima)</td><td>Hoya Lente Pronta Nulux Eynoa 1.67 Hv Meiryo</td></tr><tr><td>Ligia Pedrioli Mello</td><td>(11) 9.9410-8710</td><td>Hoya Lente Pronta Hilux Pnx Trivex Hv Aqua</td></tr><tr><td>Rosana Demarchi</td><td>(11) 9.9917-2794 (Rosana)</td><td>Hoya Amplus Organic 1.50 Cleanextra</td></tr><tr><td>Jose Rafael Coelho</td><td>(11) 9.6098-5893 (Rafael)</td><td>Hoya Vs Surfaçada Nulux Eynoa 1.67 No-Risk Bluecontrol</td></tr><tr><td>Marcelo Bernardino dos Santos</td><td>(11) 9.7441-5572</td><td>Hoya Amplus Organic 1.50 Cleanextra</td></tr><tr><td>Carolina Junqueira Doval</td><td>(11) 9.9447-5039</td><td>Hoya Hoyalux Wide Pro Bks 1.50 Bluecontrol</td></tr><tr><td>Ana Carolina Pinto Chaves</td><td>(11) 9.4254-0487 (Ana Carolina)</td><td>Hoya Amplus Organic 1.50 No-Risk Bluecontrol</td></tr><tr><td>Jeniffer Sousa Evangelista</td><td>(11) 9.6444-2508</td><td>Hoya Lente Pronta Hilux Vs Premium Organic 1.50 Bluecontrol</td></tr><tr><td>Wilson Roberto Paeze</td><td>(11) 9.9468-8568 (Wilson)</td><td>Hoya Amplus Pnx Trivex No-Risk</td></tr><tr><td>Fabricio Cogliatto de Oliveira</td><td>(11) 9.5156-6663 (Fabricio)</td><td>Hoya Vs Surfaçada Hilux Organic 1.50 Cleanextra</td></tr><tr><td>Leila Cristina Salvador</td><td>(11) 9.9426-8247</td><td>Hoya Amplus Organic 1.50 Cleanextra</td></tr><tr><td>Eda Louiza B Demarchi</td><td>(11) 9.9917-2794 (Rosana Filha)</td><td>Hoya Amplus Organic 1.50 Cleanextra</td></tr><tr><td>Laura Jesus de Oliveira Silva</td><td>(11) 9.8080-6780 (Laura)</td><td>Hoya Lente Pronta Hilux Vs Premium Organic 1.50 Bluecontrol</td></tr><tr><td>Lourival Souza Nascimento</td><td>(11) 9.8670-8372</td><td>Hoya Amplus Organic 1.50 Cleanextra</td></tr><tr><td>Gustavo Rodrigues Pinto</td><td>(11) 9.3433-1323 (Gustavo)</td><td>Hoya Lente Pronta Hilux Vs Premium Organic 1.50 Bluecontrol</td></tr><tr><td>Renata Hernandes</td><td>(41) 7982-4355 (Renata)</td><td>Hoya Amplus Organic 1.50 Cleanextra</td></tr><tr><td>Alexandre Giomo</td><td>(11) 9.5909-1276</td><td>Hoya Hoyalux Wide Bks Trivex No-Risk Bc</td></tr><tr><td>Laura Jesus de Oliveira Silva</td><td>(11) 9.8080-6780 (Laura)</td><td>Hoya Lente Pronta Hilux Organic 1.50 Hv Aqua</td></tr><tr><td>Luis Augusto Silva</td><td>(11) 8650-1324 (Luis e Fatima)</td><td>Hoya Amplus Organic 1.50 No-Risk</td></tr><tr><td>Monica Xavier da Silva</td><td>(11) 9.9267-2094 (Monica)</td><td>Hoya Sync III Organic 1.50 No-Risk Bluecontrol</td></tr><tr><td>Beatriz Menezes</td><td>(11) 9.6856-4218 ((Mãe = Telma)</td><td>Hoya Vs Surfaçada Nulux Eynoa 1.67 No-Risk Bluecontrol</td></tr><tr><td>Karina Odlevati</td><td>(11) 9.8161-4166 (Karina)</td><td>Hoya Lente Pronta Hilux Vs Premium Organic 1.50 Bluecontrol</td></tr><tr><td>Gilda de Oliveira Cerqueira Ferreira</td><td>(11) 9.6323-9032 (Gilda)</td><td>Hoya Amplus Poli No-Risk Bluecontrol</td></tr><tr><td>Cleide dos Santos França</td><td>(11) 9.8231-5816</td><td>Hoya Argos Progressive Organic 1.50 Cleanextra</td></tr><tr><td>Ricardo Fernandes Siqueira</td><td>(11) 9.9295-7374</td><td>Hoya Hoyalux Wide Pro Bks 1.50 No-Risk Bc</td></tr><tr><td>Ana Paula Cilla Ricci</td><td>(11) 9.9950-8043</td><td>Hoya Sync III Organic 1.50 No-Risk Bluecontrol</td></tr><tr><td>Roberta Besson Bernardes</td><td>(11) 9.8138-1354</td><td>Hoya Sync III Poli No-Risk Bluecontrol</td></tr><tr><td>Claudia Giane Pereira da Silva</td><td>(11) 9.8201-4546</td><td>Hoya Sync III Organic 1.50 No-Risk Bluecontrol</td></tr><tr><td>Bianca Marçola Ishizuka</td><td>(11) 9.8080-4480</td><td>Hoya Lente Pronta Hilux Vs Premium Organic 1.50 Bluecontrol</td></tr><tr><td>Vilma Migardi</td><td>(11) 9.9853-0282 (Elisabete)</td><td>Hoya Amplus Organic 1.50 No-Risk</td></tr><tr><td>Elisangela Araújo</td><td>(11) 9.6540-9709</td><td>Hoya Sync III Pnx Trivex Hv Longlife Bluecontrol</td></tr><tr><td>Eduardo Koan</td><td>(11) 9.7069-1583 (Eduardo)</td><td>Hoya Vs Surfaçada Hilux Organic 1.50 Sensity 2 Cleanextra</td></tr><tr><td>Lucas L Carvalho</td><td>(11) 9.4004-7442</td><td>Hoya Lente Pronta Hilux Vs Premium Organic 1.50 Bluecontrol</td></tr><tr><td>Renan Gomes da Silva</td><td>(11) 9.8363-3778</td><td>Hoya Lente Pronta Hilux Vs Premium Organic 1.50 Bluecontrol</td></tr><tr><td>Solange Rosa Gama</td><td>(11) 9.9302-3239</td><td>Hoya Argos Progressive Organic 1.50 No-Risk</td></tr><tr><td>Fabiana Bernardino</td><td>(11) 9.4362-5454</td><td>Hoya Lente Pronta Hilux Vs Premium Organic 1.50 Bluecontrol</td></tr><tr><td>Erika Takahashi Quintal</td><td>(11) 9.4994-8962</td><td>Hoya Sync III Organic 1.50 No-Risk Bluecontrol</td></tr><tr><td>Fernando de Oliveira</td><td>(11) 9.7555-9533</td><td>Hoya Amplus Organic 1.50 Cleanextra</td></tr><tr><td>Elisangela Araújo</td><td>(11) 9.6540-9709</td><td>Hoya Sync III Organic 1.50 Hv Longlife Bluecontrol</td></tr><tr><td>Vanessa Oliveira Domingos</td><td>(11) 9.7207-5830</td><td>Hoya Sync III Pnx Trivex Sensity 2 No-Risk Bluecontrol</td></tr><tr><td>Valdivia Barbato</td><td>(11) 9.4797-6171</td><td>Hoya Amplus Organic 1.50 Cleanextra</td></tr><tr><td>Ingrid Araujo de Souza</td><td>(11) 9.7160-6678</td><td>Hoya Amplus Organic 1.50 No-Risk</td></tr><tr><td>Telma Araujo</td><td>(11) 9.7160-6678 (Telma)</td><td>Hoya Sync III Organic 1.50 Sensity 2 No-Risk Bluecontrol</td></tr><tr><td>Cibele Marçola Ishizuka</td><td>(11) 9.8080-4480</td><td>Hoya Hoyalux Id Lifestyle V+ 1.50 Bluecontrol</td></tr><tr><td>Maria Vicencia R Silva</td><td>(11) 9.9949-7315 (Maria)</td><td>Hoya Lente Pronta Hilux Vs Premium Organic 1.50 Bluecontrol</td></tr><tr><td>Carla Aparecida dos Santos</td><td>(11) 9.1009-5823</td><td>Hoya Sync III Organic 1.50 No-Risk Bluecontrol</td></tr><tr><td>Julio Cesar Marchiori</td><td>(11) 9.8758-9537 (Julio)</td><td>Hoya Sync III Pnx Trivex No-Risk Bluecontrol</td></tr><tr><td>Jaqueline Carla Zinetti Lira</td><td>(11) 9.9494-9240</td><td>Hoya Lente Pronta Nulux Eynoa 1.67 Hv Meiryo</td></tr><tr><td>Claudia Valeria D'amato</td><td>(11) 9.9834-7922</td><td>Hoya Sync III Organic 1.50 Hv Longlife Bluecontrol</td></tr><tr><td>José Luiz do Prado</td><td>(11) 9.7548-0880</td><td>Hoya Argos Progressive Poli No-Risk</td></tr><tr><td>Barbara Polonio Soares</td><td>(11) 9.7250-1308 (Barbara), (11) 9.9445-3622 (Marido)</td><td>Hoya Lente Pronta Nulux Eynoa 1.67 Hv Meiryo</td></tr><tr><td>Eudete Soares</td><td>(11) 9.9557-2851</td><td>Hoya Argos Progressive Organic 1.50 No-Risk</td></tr><tr><td>Priscila Bertesoli Silva</td><td>(11) 9.6580-3906</td><td>Hoya Lente Pronta Hilux Vs Premium Organic 1.50 Bluecontrol</td></tr><tr><td>Ronald Tavares da Silva</td><td>(11) 9.4222-9809</td><td>Hoya Sync III Organic 1.50 Hv Longlife Bluecontrol</td></tr><tr><td>Cristina Paulino Chicon</td><td>(11) 9.9645-7770 (Cristina)</td><td>Hoya Argos Progressive Eyas 2.0 1.60 No-Risk</td></tr><tr><td>Juliana Cardoso de Almeida Magni</td><td>(11) 9.8611-0588</td><td>Hoya Sync III Organic 1.50 Hv Longlife Bluecontrol</td></tr><tr><td>Luciana Ferreira de Souza</td><td>(11) 9.7466-5598</td><td>Hoya Vs Surfaçada Hilux Organic 1.50 No-Risk Bluecontrol</td></tr><tr><td>Vera Lucia da Cruz</td><td>(11) 4049-4909</td><td>Hoya Argos Progressive Poli No-Risk</td></tr><tr><td>Gabriel Rios Queiroz</td><td>(11) 9.5238-4835</td><td>Hoya Lente Pronta Hilux Vs Premium Organic 1.50 Bluecontrol</td></tr><tr><td>Renata Visani</td><td>(11) 9.8434-6466</td><td>Hoya Argos Progressive Organic 1.50 Hv Hard</td></tr><tr><td>Bruna da Silva Francisco</td><td>(11) 9.8522-9170</td><td>Hoya Visão Simples Dobro</td></tr><tr><td>Francisco Antonio da Costa Gonçalves</td><td>(11) 9.8366-2227</td><td>Hoya Argos Progressive Organic 1.50 No-Risk</td></tr><tr><td>Juraci Inacio de Lima</td><td>(11) 9.6652-8193</td><td>Hoya Argos Progressive Pnx Trivex Hv Hard</td></tr><tr><td>Ana Carolina Pinto Chaves</td><td>(11) 9.4254-0487 (Ana Carolina)</td><td>Hoya Argos Progressive Organic 1.50 No-Risk Bluecontrol</td></tr><tr><td>Egle Guarmone</td><td>(11) 9.9722-1240 (Egle)</td><td>Hoya Sync III Pnx Trivex Hv Longlife Bluecontrol</td></tr><tr><td>Tereza Gomedi</td><td>(11) 9.7357-0878</td><td>Hoya Argos Progressive Organic 1.50 No-Risk Bluecontrol</td></tr><tr><td>Rute Maria de Souza Dias Vertemati</td><td>(11) 9.8399-7046</td><td>Hoya Hoyalux Wide Bks 1.67 No-Risk Bc</td></tr><tr><td>Elder Abe Medeiros</td><td>(11) 9.4782-7724</td><td>Hoya Argos Progressive Organic 1.50 No-Risk Bluecontrol</td></tr><tr><td>Messias Ramos Ullmann Filho</td><td>(11) 9.7610-6054</td><td>Hoya Sync III Organic 1.50 Sensity 2 No-Risk Bluecontrol</td></tr><tr><td>Eliana Sodre dos Santos</td><td>(11) 9.7711-7187</td><td>Hoya Hoyalux Wide Bks 1.50 No-Risk Bc</td></tr><tr><td>Eliete Maria dos Santos</td><td>(11) 9.5891-8656 (Eliete)</td><td>Hoya Argos Progressive Organic 1.50 Cleanextra</td></tr><tr><td>Bruna da Silva Francisco</td><td>(11) 9.8522-9170</td><td>Hoya Lente Pronta Hilux Vs Premium Organic 1.50 Bluecontrol</td></tr><tr><td>Alexandre Roberto Carrer</td><td>(11) 9.8908-8125 (Roberto)</td><td>Hoya Argos Progressive Organic 1.50 Cleanextra</td></tr><tr><td>Janice Maria e Oliveira e Silva</td><td>(11) 9.5451-9949</td><td>Hoya Amplus Organic 1.50 Hv Hard</td></tr><tr><td>Antonio Francisco de Lira Jr</td><td>(11) 9.5106-9232</td><td>Hoya Sync III Eynoa 1.67 Hv Longlife Blue Control</td></tr><tr><td>Lucas Pedreiro Cassanta</td><td>(11) 9.8194-0921</td><td>Hoya Lente Pronta Hilux Vs Premium Organic 1.50 Bluecontrol</td></tr><tr><td>Claudia Navarro Seri</td><td>(11) 9.9979-5246</td><td>Hoya Hoyalux Wide Pro Bks 1.50 Cleanextra</td></tr><tr><td>Isabel Cristina Lopes Grandi</td><td>(11) 9.7619-6670</td><td>Hoya Sync III Organic 1.50 Hv Longlife Bluecontrol</td></tr><tr><td>Aline Martins da Silva</td><td>(11) 9.8831-6888</td><td>Hoya Lente Pronta Hilux Vs Premium Organic 1.50 Bluecontrol</td></tr><tr><td>Camila Spacacherri Vilela</td><td>(11) 9.8540-7555</td><td>Hoya Lente Pronta Hilux Vs Premium Organic 1.50 Bluecontrol</td></tr><tr><td>Vagner de Oliveira</td><td>(11) 9.4304-0977</td><td>Hoya Sync III Organic 1.50 Hv Longlife Bluecontrol</td></tr><tr><td>Fabiana Soares Garcia</td><td>(11) 9.9994-9050</td><td>Hoya Lente Pronta Hilux Vs Premium Organic 1.50 Bluecontrol</td></tr><tr><td>Debora Hespanhol Chagas</td><td>(11) 9964-3416</td><td>Hoya Sync III Organic 1.50 No-Risk Bluecontrol</td></tr><tr><td>Danielle Bandeira Monteiro</td><td>(11) 9.4200-2187</td><td>Hoya Lente Pronta Hilux Vs Premium Organic 1.50 Bluecontrol</td></tr><tr><td>Adriano Pereira Lira</td><td>(11) 9.8966-2697</td><td>Hoya Lente Pronta Hilux Vs Premium Organic 1.50 Bluecontrol</td></tr><tr><td>Fernanda de Campos</td><td>(11) 9.8104-8392</td><td>Hoya Argos Progressive Poli No-Risk Bluecontrol</td></tr><tr><td>Vanilda Aparecida Sevilha Vigo</td><td>(11) 9.9980-5064</td><td>Hoya Hoyalux Wide Vxt 1.50 No-Risk Bc</td></tr><tr><td>Daniel Riberto</td><td>(11) 9.8260-4912</td><td>Hoya Lente Pronta Hilux Vs Premium Organic 1.50 Bluecontrol</td></tr><tr><td>Willians Santos Silva</td><td>(11) 9.6677-1227</td><td>Hoya Sync III Organic 1.50 Hv Longlife Bluecontrol</td></tr><tr><td>Wilson Francisco dos Santos</td><td>(11) 9.6750-8445</td><td>Hoya Argos Progressive Organic 1.50 Cleanextra</td></tr><tr><td>Alceni Freitas Ferreira</td><td>(11) 9.5155-6415</td><td>Hoya Argos Progressive Organic 1.50 Hv Hard</td></tr><tr><td>Adriano de Lira Andrade</td><td>(11) 9.9413-2466</td><td>Hoya Lente Pronta Hilux Vs Premium Organic 1.50 Bluecontrol</td></tr><tr><td>Marcolino da Silva Godoy</td><td>(11) 9.9949-3772</td><td>Hoya Argos Progressive Organic 1.50 No-Risk Bluecontrol</td></tr><tr><td>Tania Cristina Mondin Grejo</td><td>(11) 9.7200-3057</td><td>Hoya Argos Progressive Organic 1.50 No-Risk</td></tr><tr><td>Renata Garcia Lopez Perone</td><td>(11) 9.9293-6969</td><td>Hoya Lente Pronta Nulux Eynoa 1.67 Hv Meiryo</td></tr><tr><td>Sophia Helena</td><td>(11) 9.4683-2462</td><td>Hoya Lente Pronta Nulux Eynoa 1.67 Hv Meiryo</td></tr><tr><td>Elaine Cristina de Jesus Castro</td><td>(11) 9.5499-3366</td><td>Hoya Lente Pronta Nulux Eynoa 1.67 Hv Meiryo</td></tr><tr><td>Luciene Cristina Batista</td><td>(11) 9.5201-0342</td><td>Hoya Sync III Organic 1.50 Hv Longlife Bluecontrol</td></tr><tr><td>Marcolino da Silva Godoy</td><td>(11) 9.9949-3772</td><td>Hoya Argos Progressive Poli No-Risk</td></tr><tr><td>Jafferson Vallone Pott</td><td>(11) 9.8665-0433</td><td>Hoya Sync III Pnx Trivex Hv Longlife Bluecontrol</td></tr><tr><td>Roberto Aparecido Alonsso</td><td>(11) 9.5309-6711</td><td>Hoya Sync III Poli No-Risk Bluecontrol</td></tr><tr><td>Gustavo Ribeiro Thome</td><td>(11) 9.8292-1044</td><td>Hoya Lente Pronta Hilux Pnx Trivex Hv Aqua</td></tr><tr><td>Fabricio Borges Ferro</td><td>(11) 9.9758-3855</td><td>Hoya Sync III Organic 1.50 No-Risk Bluecontrol</td></tr><tr><td>Aldilene</td><td>(11) 9.8177-7406</td><td>Hoya Sync III Organic 1.50 No-Risk Bluecontrol</td></tr><tr><td>Ingrid Araujo de Souza</td><td>(11) 9.7160-6678</td><td>Hoya Visão Simples Dobro</td></tr><tr><td>Rodrigo de Souza</td><td>(11) 9.5048-7789</td><td>Hoya Vs Surfaçada Nulux Trueform Pnx Trivex Sensity 2 Cleanextra</td></tr><tr><td>Antonio Francisco de Lira Jr</td><td>(11) 9.5106-9232</td><td>Hoya Sync III Organic 1.50 No-Risk Bluecontrol</td></tr><tr><td>Rosana dos Santos Souza</td><td>(11) 9.4574-8774 (Marido)</td><td>Hoya Argos Progressive Organic 1.50 No-Risk Bluecontrol</td></tr><tr><td>Kelly Boscarioli de Melo</td><td>(11) 9.9921-1742</td><td>Hoya Hoyalux Wide Bks 1.50 No-Risk Bc</td></tr><tr><td>Allana Gabrielle Brito de Jesus</td><td>(11) 9.7065-1556</td><td>Hoya Lente Pronta Hilux Vs Premium Pnx Trivex Bluecontrol</td></tr><tr><td>Adriana Felix Almeida</td><td>(11) 9.8601-3508</td><td>Hoya Sync III Poli No-Risk Bluecontrol</td></tr><tr><td>Andrea Cristina (Ju Filha)</td><td>(11) 9.8272-2119</td><td>Hoya Visão Simples Dobro</td></tr><tr><td>Gabriele Batista</td><td>(11) 9.9320-2913</td><td>Hoya Lente Pronta Ultrax Poli Aqua</td></tr><tr><td>Natalia Cunha</td><td>(11) 9.9562-6298</td><td>Hoya Lente Pronta Hilux Vs Premium Organic 1.50 Bluecontrol</td></tr><tr><td>Clarice Maria da Silva Feitosa</td><td>(11) 9.7258-8855</td><td>Hoya Sync III Organic 1.50 No-Risk Bluecontrol</td></tr><tr><td>Maria Aparecida Sarnim</td><td>(11) 9.6524-1823</td><td>Hoya Amplus Organic 1.50 Sensity 2 No-Risk</td></tr><tr><td>Fabio Ricardo Bandini</td><td>(11) 9.8743-0282</td><td>Hoya Sync III Organic 1.50 No-Risk Bluecontrol</td></tr><tr><td>Fabiana Amaro da Silva</td><td>(11) 9.9797-8208</td><td>Hoya Sync III Organic 1.50 No-Risk Bluecontrol</td></tr><tr><td>Maria Eduarda Regis</td><td>(11) 9.9566-8141</td><td>Hoya Lente Pronta Nulux Eynoa 1.67 Hv Meiryo</td></tr><tr><td>Giovaldo Felicio</td><td>(11) 9.7633-7639</td><td>Hoya Sync III Organic 1.50 No-Risk Bluecontrol</td></tr><tr><td>Sandra Regina Januário</td><td>(11) 9.9980-3358</td><td>Hoya Argos Progressive Organic 1.50 No-Risk</td></tr><tr><td>Adriana Felix Almeida</td><td>(11) 9.8601-3508</td><td>Hoya Sync III Organic 1.50 No-Risk Bluecontrol</td></tr><tr><td>Claudia Bispo Vilarino</td><td>(11) 9.9610-2308</td><td>Hoya Sync III Organic 1.50 No-Risk Bluecontrol</td></tr><tr><td>Adriana de Souza Rico</td><td>(11) 9.7668-1668</td><td>Hoya Sync III Organic 1.50 Hv Longlife Bluecontrol</td></tr><tr><td>Vera Lucia Thomazini</td><td>(11) 9.8516-6040</td><td>Hoya Hoyalux Wide Bks 1.50 Bluecontrol</td></tr><tr><td>Patricia Janes dos Anjos</td><td>(11) 9.9435-8154</td><td>Hoya Argos Progressive Organic 1.50 No-Risk</td></tr><tr><td>Silvia Oliveira Silva</td><td>(11) 9.8174-2161</td><td>Hoya Sync III Organic 1.50 No-Risk Bluecontrol</td></tr><tr><td>Marcelo Litano</td><td>(11) 9.8105-1967</td><td>Hoya Sync III Organic 1.50 No-Risk Bluecontrol</td></tr><tr><td>Paulo Henrique Marreco</td><td>(11) 9.7090-7145</td><td>Hoya Sync III Organic 1.50 Hv Longlife Bluecontrol</td></tr><tr><td>Maria Etiara Soares da Silva</td><td>(13) 9.8144-3026 (Maria)</td><td>Hoya Lente Pronta Nulux Eynoa 1.67 Hv Meiryo</td></tr><tr><td>Wilson Zarantonello Junior</td><td>(11) 9.9170-4334</td><td>Hoya Sync III Organic 1.50 No-Risk Bluecontrol</td></tr><tr><td>Vanessa Nagata</td><td>(11) 9.4552-0318</td><td>Hoya Sync III Organic 1.50 No-Risk Bluecontrol</td></tr><tr><td>Aline Ferreira</td><td>(11) 9.9123-4734</td><td>Hoya Sync III Eyas 2.0 1.60 No-Risk Bluecontrol</td></tr><tr><td>Maria Soares de Lorenço</td><td>(11) 9.8312-9068</td><td>Hoya Visão Simples Dobro</td></tr><tr><td>Egle Guarniere</td><td>(11) 9.9722-1240</td><td>Hoya Sync III Organic 1.50 Hv Longlife Bluecontrol</td></tr><tr><td>Fabio Oliveira</td><td>(11) 9.1622-1337</td><td>Hoya Sync III Organic 1.50 Hv Longlife Bluecontrol</td></tr><tr><td>Enzo Martins</td><td>(11) 9.9184-2926</td><td>Hoya Lente Pronta Nulux Eynoa 1.67 Hv Meiryo</td></tr><tr><td>Andreza Santos</td><td>(11) 9.7973-2636</td><td>Hoya Sync III Organic 1.50 Hv Longlife Bluecontrol</td></tr><tr><td>Cleber Araujo Feitosa</td><td>(11) 9.9532-2822</td><td>Hoya Vs Surfaçada Nulux Identity V+ Eynoa 1.67 Sensity 2 Hv Longlife Uvcontrol</td></tr><tr><td>Alex Furtado Barbosa</td><td>(11) 9.9711-5539</td><td>Hoya Sync III Organic 1.50 No-Risk Bluecontrol</td></tr><tr><td>Vagner Santana Soares</td><td>(11) 9.8817-9307</td><td>Hoya Sync III Organic 1.50 No-Risk Bluecontrol</td></tr><tr><td>Eduardo D. Caldeiras (Filho da Daniela)</td><td>(11) 9.5843-1086</td><td>Hoya Miyosmart Poli</td></tr><tr><td>Eliane Cristina do Nascimento</td><td>(11) 9.9005-2031</td><td>Hoya Visão Simples Dobro</td></tr><tr><td>Eli M. Melo Oliveira</td><td>(11) 9.6323-9887</td><td>Hoya Lente Pronta Nulux Eynoa 1.67 Hv Meiryo</td></tr><tr><td>Simone Oliveira</td><td>(11) 9.8287-1391</td><td>Hoya Sync III Organic 1.50 No-Risk Bluecontrol</td></tr><tr><td>Alessandra Aparecida</td><td>(11) 9.3003-5059</td><td>Hoya Sync III Organic 1.50 No-Risk Bluecontrol</td></tr><tr><td>Tamires Vieira de Carvalho</td><td>(11) 9.4127-9144</td><td>Hoya Lente Pronta Nulux Eynoa 1.67 Hv Meiryo</td></tr><tr><td>Cleber Araujo Feitosa</td><td>(11) 9.9532-2822</td><td>Hoya Visão Simples Dobro</td></tr><tr><td>Eliane Cristina do Nascimento</td><td>(11) 9.9005-2031</td><td>Hoya Sync III Organic 1.50 Hv Longlife Bluecontrol</td></tr><tr><td>Claudia Cristina Mazeiro</td><td>(11) 9.6196-6637</td><td>Hoya Visão Simples Dobro</td></tr><tr><td>Anabele Teixera Bayerlien</td><td>(11) 9.8647-7581</td><td>Hoya Lente Pronta Nulux Eynoa 1.67 Hv Meiryo</td></tr><tr><td>Daniel Fernando</td><td>(11) 9.9458-4552</td><td>Hoya Sync III Organic 1.50 No-Risk Bluecontrol</td></tr><tr><td>Daniel Ricca Yoshida</td><td>(11) 9.9289-1123</td><td>Hoya Lente Pronta Nulux Eynoa 1.67 Hv Meiryo</td></tr><tr><td>Claudia Cristina Mazeiro</td><td>(11) 9.6196-6637</td><td>Hoya Sync III Organic 1.50 Hv Longlife Bluecontrol</td></tr><tr><td>Evandro Messias Pereira</td><td>(11) 9.4767-0209</td><td>Hoya Sync III Organic 1.50 Hv Longlife Bluecontrol</td></tr><tr><td>Maria do Carmo Pascoal Gonzales Gerardi</td><td>(11) 9.5344-0371</td><td>Hoya Argos Progressive Organic 1.50 Sensity Original No-Risk Bluecontrol</td></tr><tr><td>Josilda C de Queiroz</td><td>(11) 9.6828-1257</td><td>Hoya Sync III Organic 1.50 No-Risk Bluecontrol</td></tr><tr><td>Mayara de Oliveira Gonzaga</td><td>(11) 9.9456-1200</td><td>Hoya Lente Pronta Nulux Eynoa 1.67 Hv Meiryo</td></tr><tr><td>Thiago Vieira (Elenilda)</td><td>(11) 9.5474-2336</td><td>Hoya Sync III Organic 1.50 No-Risk Bluecontrol</td></tr><tr><td>Mayara de Oliveira Gonzaga</td><td>(11) 9.9456-1200</td><td>Hoya Visão Simples Dobro</td></tr><tr><td>Gabriela Nascimento dos Santos</td><td>(11) 9.8239-7122</td><td>Hoya Lente Pronta Nulux Eynoa 1.67 Hv Meiryo</td></tr><tr><td>Allan Neros</td><td>(11) 9.7313-6008</td><td>Hoya Sync III Organic 1.50 Sensity 2 Hv Longlife Bluecontrol</td></tr><tr><td>Mirella Vieira de Lima</td><td>(11) 9.9895-6571</td><td>Hoya Sync III Organic 1.50 No-Risk Bluecontrol</td></tr><tr><td>Patricia Salles</td><td>(11) 9.8456-9439</td><td>Hoya Sync III Organic 1.50 No-Risk Bluecontrol</td></tr><tr><td>Lucia Regina Macarielli</td><td>(11) 9.7282-3036</td><td>Hoya Sync III Organic 1.50 No-Risk Bluecontrol</td></tr><tr><td>Aline Braz Barbosa</td><td>(11) 9.4964-2589</td><td>Hoya Lente Pronta Nulux Eynoa 1.67 Hv Meiryo</td></tr><tr><td>Ana Carolina Pinto Chaves</td><td>(11) 9.4254-0487 (Ana Carolina)</td><td>Hoya Visão Simples Dobro</td></tr><tr><td>Allan Neros</td><td>(11) 9.7313-6008</td><td>Hoya Visão Simples Dobro</td></tr><tr><td>Simone Aparecida Godoi</td><td>(11) 9.7559-1889</td><td>Hoya Sync III Organic 1.50 No-Risk Bluecontrol</td></tr><tr><td>Maria Cristina Gomes Sampaio</td><td>(11) 9.9467-7341</td><td>Hoya Visão Simples Dobro</td></tr><tr><td>Sheila Marcos da Silva</td><td>(11) 9.7747-3789</td><td>Hoya Argos Progressive Organic 1.50 No-Risk Bluecontrol</td></tr><tr><td>Ana Paula dos Santos</td><td>(11) 9.6418-4679</td><td>Hoya Lente Pronta Nulux Eynoa 1.67 Hv Meiryo</td></tr><tr><td>Ana Carolina Pinto Chaves</td><td>(11) 9.4254-0487 (Ana Carolina)</td><td>Hoya Sync III Organic 1.50 Hv Longlife Bluecontrol</td></tr><tr><td>Fatima da Costa Silva</td><td>(11) 9.6550-1324</td><td>Hoya Lente Pronta Nulux Eynoa 1.67 Hv Meiryo</td></tr><tr><td>Cibele Marçola Ishizuka</td><td>(11) 9.8080-4480</td><td>Hoya Hoyalux Id Lifestyle 3 Organic 1.50 Hv Longlife Bluecontrol</td></tr><tr><td>Paulo Pereira da Silva</td><td>(11) 9.7225-7278</td><td>Hoya Sync III Organic 1.50 No-Risk Bluecontrol</td></tr><tr><td>Maria Cristina Gomes Sampaio</td><td>(11) 9.9467-7341</td><td>Hoya Sync III Organic 1.50 No-Risk Bluecontrol</td></tr><tr><td>Gislaine da Silva</td><td>(11) 9.8321-5047</td><td>Hoya Sync III Organic 1.50 No-Risk Bluecontrol</td></tr><tr><td>Donizete Chagas</td><td>(11) 9.9933-9571</td><td>Hoya Sync III Organic 1.50 Hv Longlife Bluecontrol</td></tr><tr><td>Donizete Chagas</td><td>(11) 9.9933-9571</td><td>Hoya Visão Simples Dobro</td></tr><tr><td>Maria Rosa Ribeiro de Oliveira</td><td>(11) 9.8083-0910</td><td>Hoya Sync III Organic 1.50 Hv Longlife Bluecontrol</td></tr><tr><td>Rita de Cassia Linard Barbosa</td><td>(11) 9.8414-8879</td><td>Hoya Sync III Organic 1.50 No-Risk Bluecontrol</td></tr><tr><td>Davi Aires Castanho</td><td>(11) 9.6895-4866 (Mae Viviane)</td><td>Hoya Lente Pronta Nulux Eynoa 1.67 Hv Meiryo</td></tr><tr><td>Marlene Nunes de Campos</td><td>(11) 9.8573-0954</td><td>Hoya Sync III Organic 1.50 No-Risk Bluecontrol</td></tr><tr><td>Barbara Ito</td><td>(11) 9.7530-1877</td><td>Hoya Lente Pronta Nulux Eynoa 1.67 Hv Meiryo</td></tr></tbody></table></div>"
      ]
     },
     "metadata": {
      "application/vnd.databricks.v1+output": {
       "addedWidgets": {},
       "aggData": [],
       "aggError": "",
       "aggOverflow": false,
       "aggSchema": [],
       "aggSeriesLimitReached": false,
       "aggType": "",
       "arguments": {},
       "columnCustomDisplayInfos": {},
       "data": [
        [
         "Sueli Rosa Gama",
         "(11) 9.4782-7724 (Sueli)",
         "Hoya Argos Progressive Organic 1.50 No-Risk"
        ],
        [
         "Teresinha M.s Almeira",
         "(11) 9.6389-6856 (Terezinha)",
         "Hoya Hoyalux Wide Bks 1.50 No-Risk"
        ],
        [
         "Guilherme Quintino",
         "(11) 9.9986-0415",
         "Hoya Nulux Sportive Organic 1.50 Polarizada Hv Hard"
        ],
        [
         "Erika Luca da Silva",
         "(11) 9.9280-4390",
         "Hoya Amplus Organic 1.50 Cleanextra"
        ],
        [
         "Antonio Carlos Rodrigues",
         "(11) 9.4824-0805 (Diogo)",
         "Hoya Lente Pronta Hilux Vs Premium Organic 1.50 Bluecontrol"
        ],
        [
         "Lidia Silvia",
         "(11) 9.1452-0258",
         "Hoya Amplus Organic 1.50 Hv Hard"
        ],
        [
         "Denis Oliveira Zamproni",
         "(11) 9.7270-1676",
         "Hoya Lente Pronta Hilux Vs Premium Organic 1.50 Bluecontrol"
        ],
        [
         "Yhasmin Fernandes",
         "(11) 9.6273-0420 (Yhasmin)",
         "Hoya Lente Pronta Hilux Pnx Trivex Hv Longlife"
        ],
        [
         "Bruna Alves Torres",
         "(11) 9.5161-9954",
         "Hoya Amplus Organic 1.50 Cleanextra"
        ],
        [
         "Angela Cazotti",
         "(11) 9.7230-3880",
         "Hoya Lente Pronta Nulux Eynoa 1.67 Hv Meiryo"
        ],
        [
         "Vinicius Tavares Santos",
         "(11) 9.8772-0293",
         "Hoya Lente Pronta Nulux Eynoa 1.67 Hv Meiryo"
        ],
        [
         "Maria Bernadete",
         "(11) 9.5291-3495",
         "Hoya Amplus Organic 1.50 Cleanextra"
        ],
        [
         "Charles Morales",
         "(11) 9.8901-9592",
         "Hoya Argos Progressive Pnx Trivex No-Risk Bluecontrol"
        ],
        [
         "Olga Kosimenko Gregio",
         "(11) 9.9304-0469",
         "Hoya Amplus Poli Cleanextra"
        ],
        [
         "Maria Izabele Simoes Matos",
         "(11) 9.9564-3428",
         "Hoya Lente Pronta Hilux Vs Premium Organic 1.50 Bluecontrol"
        ],
        [
         "Maura Leite Inacio Silva",
         "(11) 9.8791-6569",
         "Hoya Hoyalux Wide Bks 1.50 Cleanextra"
        ],
        [
         "Eudete Soares",
         "(11) 9.9557-2851",
         "Hoya Amplus Organic 1.50 Cleanextra"
        ],
        [
         "Washington Oliveira",
         "(11) 9.6591-8835 (Washington)",
         "Hoya Lente Pronta Nulux Eynoa 1.67 Hv Meiryo"
        ],
        [
         "Angela de Cassia",
         "(11) 9.9885-9336",
         "Hoya Amplus Organic 1.50 Cleanextra"
        ],
        [
         "Leandro Dias",
         "(11) 9.9383-5764",
         "Hoya Lente Pronta Hilux Pnx Trivex Hv Aqua"
        ],
        [
         "Carina Brussolo",
         "(11) 9.9437-9866",
         "Hoya Lente Pronta Hilux Vs Premium Organic 1.50 Bluecontrol"
        ],
        [
         "Renata Borges",
         "(11) 9.5221-5821 (Renata)",
         "Hoya Vs Surfaçada Hilux Organic 1.50 Sensity 2 Cleanextra"
        ],
        [
         "Eliete Maria dos Santos",
         "(11) 9.5891-8656 (Eliete)",
         "Hoya Amplus Organic 1.50 Cleanextra"
        ],
        [
         "Fabiano Rodrigo Sakamoto",
         "(11) 9.4941-8556",
         "Hoya Lente Pronta Hilux Vs Premium Organic 1.50 Bluecontrol"
        ],
        [
         "Marileide Pereira",
         "(11) 9.6969-0169",
         "Hoya Amplus Organic 1.50 Cleanextra"
        ],
        [
         "Marco Antonio Martins Ferreira",
         "(11) 9.8591-9190",
         "Hoya Argos Progressive Organic 1.50 Sensity 2 Cleanextra"
        ],
        [
         "Edleide Moura Leite Ferreira",
         "(11) 9.3075-9393 (Edleide)",
         "Hoya Amplus Organic 1.50 Cleanextra"
        ],
        [
         "Bianca Freitas e Silva",
         "(11) 9.4931-9126 (Bianca)",
         "Hoya Lente Pronta Ultrax Poli Hard"
        ],
        [
         "Leonardo Morais de Souza",
         "(11) 9.9774-8050 (Leonardo)",
         "Hoya Lente Pronta Hilux Vs Premium Organic 1.50 Bluecontrol"
        ],
        [
         "Miriane Costa da Silva",
         "(11) 9.4953-0209 (Miriane Costa)",
         "Hoya Lente Pronta Hilux Vs Premium Organic 1.50 Bluecontrol"
        ],
        [
         "Maria Jose S de Molita",
         "(11) 9.8707-0894",
         "Hoya Amplus Organic 1.50 Cleanextra"
        ],
        [
         "Luis Augusto Silva",
         "(11) 8650-1324 (Luis e Fatima)",
         "Hoya Lente Pronta Nulux Eynoa 1.67 Hv Meiryo"
        ],
        [
         "Ligia Pedrioli Mello",
         "(11) 9.9410-8710",
         "Hoya Lente Pronta Hilux Pnx Trivex Hv Aqua"
        ],
        [
         "Rosana Demarchi",
         "(11) 9.9917-2794 (Rosana)",
         "Hoya Amplus Organic 1.50 Cleanextra"
        ],
        [
         "Jose Rafael Coelho",
         "(11) 9.6098-5893 (Rafael)",
         "Hoya Vs Surfaçada Nulux Eynoa 1.67 No-Risk Bluecontrol"
        ],
        [
         "Marcelo Bernardino dos Santos",
         "(11) 9.7441-5572",
         "Hoya Amplus Organic 1.50 Cleanextra"
        ],
        [
         "Carolina Junqueira Doval",
         "(11) 9.9447-5039",
         "Hoya Hoyalux Wide Pro Bks 1.50 Bluecontrol"
        ],
        [
         "Ana Carolina Pinto Chaves",
         "(11) 9.4254-0487 (Ana Carolina)",
         "Hoya Amplus Organic 1.50 No-Risk Bluecontrol"
        ],
        [
         "Jeniffer Sousa Evangelista",
         "(11) 9.6444-2508",
         "Hoya Lente Pronta Hilux Vs Premium Organic 1.50 Bluecontrol"
        ],
        [
         "Wilson Roberto Paeze",
         "(11) 9.9468-8568 (Wilson)",
         "Hoya Amplus Pnx Trivex No-Risk"
        ],
        [
         "Fabricio Cogliatto de Oliveira",
         "(11) 9.5156-6663 (Fabricio)",
         "Hoya Vs Surfaçada Hilux Organic 1.50 Cleanextra"
        ],
        [
         "Leila Cristina Salvador",
         "(11) 9.9426-8247",
         "Hoya Amplus Organic 1.50 Cleanextra"
        ],
        [
         "Eda Louiza B Demarchi",
         "(11) 9.9917-2794 (Rosana Filha)",
         "Hoya Amplus Organic 1.50 Cleanextra"
        ],
        [
         "Laura Jesus de Oliveira Silva",
         "(11) 9.8080-6780 (Laura)",
         "Hoya Lente Pronta Hilux Vs Premium Organic 1.50 Bluecontrol"
        ],
        [
         "Lourival Souza Nascimento",
         "(11) 9.8670-8372",
         "Hoya Amplus Organic 1.50 Cleanextra"
        ],
        [
         "Gustavo Rodrigues Pinto",
         "(11) 9.3433-1323 (Gustavo)",
         "Hoya Lente Pronta Hilux Vs Premium Organic 1.50 Bluecontrol"
        ],
        [
         "Renata Hernandes",
         "(41) 7982-4355 (Renata)",
         "Hoya Amplus Organic 1.50 Cleanextra"
        ],
        [
         "Alexandre Giomo",
         "(11) 9.5909-1276",
         "Hoya Hoyalux Wide Bks Trivex No-Risk Bc"
        ],
        [
         "Laura Jesus de Oliveira Silva",
         "(11) 9.8080-6780 (Laura)",
         "Hoya Lente Pronta Hilux Organic 1.50 Hv Aqua"
        ],
        [
         "Luis Augusto Silva",
         "(11) 8650-1324 (Luis e Fatima)",
         "Hoya Amplus Organic 1.50 No-Risk"
        ],
        [
         "Monica Xavier da Silva",
         "(11) 9.9267-2094 (Monica)",
         "Hoya Sync III Organic 1.50 No-Risk Bluecontrol"
        ],
        [
         "Beatriz Menezes",
         "(11) 9.6856-4218 ((Mãe = Telma)",
         "Hoya Vs Surfaçada Nulux Eynoa 1.67 No-Risk Bluecontrol"
        ],
        [
         "Karina Odlevati",
         "(11) 9.8161-4166 (Karina)",
         "Hoya Lente Pronta Hilux Vs Premium Organic 1.50 Bluecontrol"
        ],
        [
         "Gilda de Oliveira Cerqueira Ferreira",
         "(11) 9.6323-9032 (Gilda)",
         "Hoya Amplus Poli No-Risk Bluecontrol"
        ],
        [
         "Cleide dos Santos França",
         "(11) 9.8231-5816",
         "Hoya Argos Progressive Organic 1.50 Cleanextra"
        ],
        [
         "Ricardo Fernandes Siqueira",
         "(11) 9.9295-7374",
         "Hoya Hoyalux Wide Pro Bks 1.50 No-Risk Bc"
        ],
        [
         "Ana Paula Cilla Ricci",
         "(11) 9.9950-8043",
         "Hoya Sync III Organic 1.50 No-Risk Bluecontrol"
        ],
        [
         "Roberta Besson Bernardes",
         "(11) 9.8138-1354",
         "Hoya Sync III Poli No-Risk Bluecontrol"
        ],
        [
         "Claudia Giane Pereira da Silva",
         "(11) 9.8201-4546",
         "Hoya Sync III Organic 1.50 No-Risk Bluecontrol"
        ],
        [
         "Bianca Marçola Ishizuka",
         "(11) 9.8080-4480",
         "Hoya Lente Pronta Hilux Vs Premium Organic 1.50 Bluecontrol"
        ],
        [
         "Vilma Migardi",
         "(11) 9.9853-0282 (Elisabete)",
         "Hoya Amplus Organic 1.50 No-Risk"
        ],
        [
         "Elisangela Araújo",
         "(11) 9.6540-9709",
         "Hoya Sync III Pnx Trivex Hv Longlife Bluecontrol"
        ],
        [
         "Eduardo Koan",
         "(11) 9.7069-1583 (Eduardo)",
         "Hoya Vs Surfaçada Hilux Organic 1.50 Sensity 2 Cleanextra"
        ],
        [
         "Lucas L Carvalho",
         "(11) 9.4004-7442",
         "Hoya Lente Pronta Hilux Vs Premium Organic 1.50 Bluecontrol"
        ],
        [
         "Renan Gomes da Silva",
         "(11) 9.8363-3778",
         "Hoya Lente Pronta Hilux Vs Premium Organic 1.50 Bluecontrol"
        ],
        [
         "Solange Rosa Gama",
         "(11) 9.9302-3239",
         "Hoya Argos Progressive Organic 1.50 No-Risk"
        ],
        [
         "Fabiana Bernardino",
         "(11) 9.4362-5454",
         "Hoya Lente Pronta Hilux Vs Premium Organic 1.50 Bluecontrol"
        ],
        [
         "Erika Takahashi Quintal",
         "(11) 9.4994-8962",
         "Hoya Sync III Organic 1.50 No-Risk Bluecontrol"
        ],
        [
         "Fernando de Oliveira",
         "(11) 9.7555-9533",
         "Hoya Amplus Organic 1.50 Cleanextra"
        ],
        [
         "Elisangela Araújo",
         "(11) 9.6540-9709",
         "Hoya Sync III Organic 1.50 Hv Longlife Bluecontrol"
        ],
        [
         "Vanessa Oliveira Domingos",
         "(11) 9.7207-5830",
         "Hoya Sync III Pnx Trivex Sensity 2 No-Risk Bluecontrol"
        ],
        [
         "Valdivia Barbato",
         "(11) 9.4797-6171",
         "Hoya Amplus Organic 1.50 Cleanextra"
        ],
        [
         "Ingrid Araujo de Souza",
         "(11) 9.7160-6678",
         "Hoya Amplus Organic 1.50 No-Risk"
        ],
        [
         "Telma Araujo",
         "(11) 9.7160-6678 (Telma)",
         "Hoya Sync III Organic 1.50 Sensity 2 No-Risk Bluecontrol"
        ],
        [
         "Cibele Marçola Ishizuka",
         "(11) 9.8080-4480",
         "Hoya Hoyalux Id Lifestyle V+ 1.50 Bluecontrol"
        ],
        [
         "Maria Vicencia R Silva",
         "(11) 9.9949-7315 (Maria)",
         "Hoya Lente Pronta Hilux Vs Premium Organic 1.50 Bluecontrol"
        ],
        [
         "Carla Aparecida dos Santos",
         "(11) 9.1009-5823",
         "Hoya Sync III Organic 1.50 No-Risk Bluecontrol"
        ],
        [
         "Julio Cesar Marchiori",
         "(11) 9.8758-9537 (Julio)",
         "Hoya Sync III Pnx Trivex No-Risk Bluecontrol"
        ],
        [
         "Jaqueline Carla Zinetti Lira",
         "(11) 9.9494-9240",
         "Hoya Lente Pronta Nulux Eynoa 1.67 Hv Meiryo"
        ],
        [
         "Claudia Valeria D'amato",
         "(11) 9.9834-7922",
         "Hoya Sync III Organic 1.50 Hv Longlife Bluecontrol"
        ],
        [
         "José Luiz do Prado",
         "(11) 9.7548-0880",
         "Hoya Argos Progressive Poli No-Risk"
        ],
        [
         "Barbara Polonio Soares",
         "(11) 9.7250-1308 (Barbara), (11) 9.9445-3622 (Marido)",
         "Hoya Lente Pronta Nulux Eynoa 1.67 Hv Meiryo"
        ],
        [
         "Eudete Soares",
         "(11) 9.9557-2851",
         "Hoya Argos Progressive Organic 1.50 No-Risk"
        ],
        [
         "Priscila Bertesoli Silva",
         "(11) 9.6580-3906",
         "Hoya Lente Pronta Hilux Vs Premium Organic 1.50 Bluecontrol"
        ],
        [
         "Ronald Tavares da Silva",
         "(11) 9.4222-9809",
         "Hoya Sync III Organic 1.50 Hv Longlife Bluecontrol"
        ],
        [
         "Cristina Paulino Chicon",
         "(11) 9.9645-7770 (Cristina)",
         "Hoya Argos Progressive Eyas 2.0 1.60 No-Risk"
        ],
        [
         "Juliana Cardoso de Almeida Magni",
         "(11) 9.8611-0588",
         "Hoya Sync III Organic 1.50 Hv Longlife Bluecontrol"
        ],
        [
         "Luciana Ferreira de Souza",
         "(11) 9.7466-5598",
         "Hoya Vs Surfaçada Hilux Organic 1.50 No-Risk Bluecontrol"
        ],
        [
         "Vera Lucia da Cruz",
         "(11) 4049-4909",
         "Hoya Argos Progressive Poli No-Risk"
        ],
        [
         "Gabriel Rios Queiroz",
         "(11) 9.5238-4835",
         "Hoya Lente Pronta Hilux Vs Premium Organic 1.50 Bluecontrol"
        ],
        [
         "Renata Visani",
         "(11) 9.8434-6466",
         "Hoya Argos Progressive Organic 1.50 Hv Hard"
        ],
        [
         "Bruna da Silva Francisco",
         "(11) 9.8522-9170",
         "Hoya Visão Simples Dobro"
        ],
        [
         "Francisco Antonio da Costa Gonçalves",
         "(11) 9.8366-2227",
         "Hoya Argos Progressive Organic 1.50 No-Risk"
        ],
        [
         "Juraci Inacio de Lima",
         "(11) 9.6652-8193",
         "Hoya Argos Progressive Pnx Trivex Hv Hard"
        ],
        [
         "Ana Carolina Pinto Chaves",
         "(11) 9.4254-0487 (Ana Carolina)",
         "Hoya Argos Progressive Organic 1.50 No-Risk Bluecontrol"
        ],
        [
         "Egle Guarmone",
         "(11) 9.9722-1240 (Egle)",
         "Hoya Sync III Pnx Trivex Hv Longlife Bluecontrol"
        ],
        [
         "Tereza Gomedi",
         "(11) 9.7357-0878",
         "Hoya Argos Progressive Organic 1.50 No-Risk Bluecontrol"
        ],
        [
         "Rute Maria de Souza Dias Vertemati",
         "(11) 9.8399-7046",
         "Hoya Hoyalux Wide Bks 1.67 No-Risk Bc"
        ],
        [
         "Elder Abe Medeiros",
         "(11) 9.4782-7724",
         "Hoya Argos Progressive Organic 1.50 No-Risk Bluecontrol"
        ],
        [
         "Messias Ramos Ullmann Filho",
         "(11) 9.7610-6054",
         "Hoya Sync III Organic 1.50 Sensity 2 No-Risk Bluecontrol"
        ],
        [
         "Eliana Sodre dos Santos",
         "(11) 9.7711-7187",
         "Hoya Hoyalux Wide Bks 1.50 No-Risk Bc"
        ],
        [
         "Eliete Maria dos Santos",
         "(11) 9.5891-8656 (Eliete)",
         "Hoya Argos Progressive Organic 1.50 Cleanextra"
        ],
        [
         "Bruna da Silva Francisco",
         "(11) 9.8522-9170",
         "Hoya Lente Pronta Hilux Vs Premium Organic 1.50 Bluecontrol"
        ],
        [
         "Alexandre Roberto Carrer",
         "(11) 9.8908-8125 (Roberto)",
         "Hoya Argos Progressive Organic 1.50 Cleanextra"
        ],
        [
         "Janice Maria e Oliveira e Silva",
         "(11) 9.5451-9949",
         "Hoya Amplus Organic 1.50 Hv Hard"
        ],
        [
         "Antonio Francisco de Lira Jr",
         "(11) 9.5106-9232",
         "Hoya Sync III Eynoa 1.67 Hv Longlife Blue Control"
        ],
        [
         "Lucas Pedreiro Cassanta",
         "(11) 9.8194-0921",
         "Hoya Lente Pronta Hilux Vs Premium Organic 1.50 Bluecontrol"
        ],
        [
         "Claudia Navarro Seri",
         "(11) 9.9979-5246",
         "Hoya Hoyalux Wide Pro Bks 1.50 Cleanextra"
        ],
        [
         "Isabel Cristina Lopes Grandi",
         "(11) 9.7619-6670",
         "Hoya Sync III Organic 1.50 Hv Longlife Bluecontrol"
        ],
        [
         "Aline Martins da Silva",
         "(11) 9.8831-6888",
         "Hoya Lente Pronta Hilux Vs Premium Organic 1.50 Bluecontrol"
        ],
        [
         "Camila Spacacherri Vilela",
         "(11) 9.8540-7555",
         "Hoya Lente Pronta Hilux Vs Premium Organic 1.50 Bluecontrol"
        ],
        [
         "Vagner de Oliveira",
         "(11) 9.4304-0977",
         "Hoya Sync III Organic 1.50 Hv Longlife Bluecontrol"
        ],
        [
         "Fabiana Soares Garcia",
         "(11) 9.9994-9050",
         "Hoya Lente Pronta Hilux Vs Premium Organic 1.50 Bluecontrol"
        ],
        [
         "Debora Hespanhol Chagas",
         "(11) 9964-3416",
         "Hoya Sync III Organic 1.50 No-Risk Bluecontrol"
        ],
        [
         "Danielle Bandeira Monteiro",
         "(11) 9.4200-2187",
         "Hoya Lente Pronta Hilux Vs Premium Organic 1.50 Bluecontrol"
        ],
        [
         "Adriano Pereira Lira",
         "(11) 9.8966-2697",
         "Hoya Lente Pronta Hilux Vs Premium Organic 1.50 Bluecontrol"
        ],
        [
         "Fernanda de Campos",
         "(11) 9.8104-8392",
         "Hoya Argos Progressive Poli No-Risk Bluecontrol"
        ],
        [
         "Vanilda Aparecida Sevilha Vigo",
         "(11) 9.9980-5064",
         "Hoya Hoyalux Wide Vxt 1.50 No-Risk Bc"
        ],
        [
         "Daniel Riberto",
         "(11) 9.8260-4912",
         "Hoya Lente Pronta Hilux Vs Premium Organic 1.50 Bluecontrol"
        ],
        [
         "Willians Santos Silva",
         "(11) 9.6677-1227",
         "Hoya Sync III Organic 1.50 Hv Longlife Bluecontrol"
        ],
        [
         "Wilson Francisco dos Santos",
         "(11) 9.6750-8445",
         "Hoya Argos Progressive Organic 1.50 Cleanextra"
        ],
        [
         "Alceni Freitas Ferreira",
         "(11) 9.5155-6415",
         "Hoya Argos Progressive Organic 1.50 Hv Hard"
        ],
        [
         "Adriano de Lira Andrade",
         "(11) 9.9413-2466",
         "Hoya Lente Pronta Hilux Vs Premium Organic 1.50 Bluecontrol"
        ],
        [
         "Marcolino da Silva Godoy",
         "(11) 9.9949-3772",
         "Hoya Argos Progressive Organic 1.50 No-Risk Bluecontrol"
        ],
        [
         "Tania Cristina Mondin Grejo",
         "(11) 9.7200-3057",
         "Hoya Argos Progressive Organic 1.50 No-Risk"
        ],
        [
         "Renata Garcia Lopez Perone",
         "(11) 9.9293-6969",
         "Hoya Lente Pronta Nulux Eynoa 1.67 Hv Meiryo"
        ],
        [
         "Sophia Helena",
         "(11) 9.4683-2462",
         "Hoya Lente Pronta Nulux Eynoa 1.67 Hv Meiryo"
        ],
        [
         "Elaine Cristina de Jesus Castro",
         "(11) 9.5499-3366",
         "Hoya Lente Pronta Nulux Eynoa 1.67 Hv Meiryo"
        ],
        [
         "Luciene Cristina Batista",
         "(11) 9.5201-0342",
         "Hoya Sync III Organic 1.50 Hv Longlife Bluecontrol"
        ],
        [
         "Marcolino da Silva Godoy",
         "(11) 9.9949-3772",
         "Hoya Argos Progressive Poli No-Risk"
        ],
        [
         "Jafferson Vallone Pott",
         "(11) 9.8665-0433",
         "Hoya Sync III Pnx Trivex Hv Longlife Bluecontrol"
        ],
        [
         "Roberto Aparecido Alonsso",
         "(11) 9.5309-6711",
         "Hoya Sync III Poli No-Risk Bluecontrol"
        ],
        [
         "Gustavo Ribeiro Thome",
         "(11) 9.8292-1044",
         "Hoya Lente Pronta Hilux Pnx Trivex Hv Aqua"
        ],
        [
         "Fabricio Borges Ferro",
         "(11) 9.9758-3855",
         "Hoya Sync III Organic 1.50 No-Risk Bluecontrol"
        ],
        [
         "Aldilene",
         "(11) 9.8177-7406",
         "Hoya Sync III Organic 1.50 No-Risk Bluecontrol"
        ],
        [
         "Ingrid Araujo de Souza",
         "(11) 9.7160-6678",
         "Hoya Visão Simples Dobro"
        ],
        [
         "Rodrigo de Souza",
         "(11) 9.5048-7789",
         "Hoya Vs Surfaçada Nulux Trueform Pnx Trivex Sensity 2 Cleanextra"
        ],
        [
         "Antonio Francisco de Lira Jr",
         "(11) 9.5106-9232",
         "Hoya Sync III Organic 1.50 No-Risk Bluecontrol"
        ],
        [
         "Rosana dos Santos Souza",
         "(11) 9.4574-8774 (Marido)",
         "Hoya Argos Progressive Organic 1.50 No-Risk Bluecontrol"
        ],
        [
         "Kelly Boscarioli de Melo",
         "(11) 9.9921-1742",
         "Hoya Hoyalux Wide Bks 1.50 No-Risk Bc"
        ],
        [
         "Allana Gabrielle Brito de Jesus",
         "(11) 9.7065-1556",
         "Hoya Lente Pronta Hilux Vs Premium Pnx Trivex Bluecontrol"
        ],
        [
         "Adriana Felix Almeida",
         "(11) 9.8601-3508",
         "Hoya Sync III Poli No-Risk Bluecontrol"
        ],
        [
         "Andrea Cristina (Ju Filha)",
         "(11) 9.8272-2119",
         "Hoya Visão Simples Dobro"
        ],
        [
         "Gabriele Batista",
         "(11) 9.9320-2913",
         "Hoya Lente Pronta Ultrax Poli Aqua"
        ],
        [
         "Natalia Cunha",
         "(11) 9.9562-6298",
         "Hoya Lente Pronta Hilux Vs Premium Organic 1.50 Bluecontrol"
        ],
        [
         "Clarice Maria da Silva Feitosa",
         "(11) 9.7258-8855",
         "Hoya Sync III Organic 1.50 No-Risk Bluecontrol"
        ],
        [
         "Maria Aparecida Sarnim",
         "(11) 9.6524-1823",
         "Hoya Amplus Organic 1.50 Sensity 2 No-Risk"
        ],
        [
         "Fabio Ricardo Bandini",
         "(11) 9.8743-0282",
         "Hoya Sync III Organic 1.50 No-Risk Bluecontrol"
        ],
        [
         "Fabiana Amaro da Silva",
         "(11) 9.9797-8208",
         "Hoya Sync III Organic 1.50 No-Risk Bluecontrol"
        ],
        [
         "Maria Eduarda Regis",
         "(11) 9.9566-8141",
         "Hoya Lente Pronta Nulux Eynoa 1.67 Hv Meiryo"
        ],
        [
         "Giovaldo Felicio",
         "(11) 9.7633-7639",
         "Hoya Sync III Organic 1.50 No-Risk Bluecontrol"
        ],
        [
         "Sandra Regina Januário",
         "(11) 9.9980-3358",
         "Hoya Argos Progressive Organic 1.50 No-Risk"
        ],
        [
         "Adriana Felix Almeida",
         "(11) 9.8601-3508",
         "Hoya Sync III Organic 1.50 No-Risk Bluecontrol"
        ],
        [
         "Claudia Bispo Vilarino",
         "(11) 9.9610-2308",
         "Hoya Sync III Organic 1.50 No-Risk Bluecontrol"
        ],
        [
         "Adriana de Souza Rico",
         "(11) 9.7668-1668",
         "Hoya Sync III Organic 1.50 Hv Longlife Bluecontrol"
        ],
        [
         "Vera Lucia Thomazini",
         "(11) 9.8516-6040",
         "Hoya Hoyalux Wide Bks 1.50 Bluecontrol"
        ],
        [
         "Patricia Janes dos Anjos",
         "(11) 9.9435-8154",
         "Hoya Argos Progressive Organic 1.50 No-Risk"
        ],
        [
         "Silvia Oliveira Silva",
         "(11) 9.8174-2161",
         "Hoya Sync III Organic 1.50 No-Risk Bluecontrol"
        ],
        [
         "Marcelo Litano",
         "(11) 9.8105-1967",
         "Hoya Sync III Organic 1.50 No-Risk Bluecontrol"
        ],
        [
         "Paulo Henrique Marreco",
         "(11) 9.7090-7145",
         "Hoya Sync III Organic 1.50 Hv Longlife Bluecontrol"
        ],
        [
         "Maria Etiara Soares da Silva",
         "(13) 9.8144-3026 (Maria)",
         "Hoya Lente Pronta Nulux Eynoa 1.67 Hv Meiryo"
        ],
        [
         "Wilson Zarantonello Junior",
         "(11) 9.9170-4334",
         "Hoya Sync III Organic 1.50 No-Risk Bluecontrol"
        ],
        [
         "Vanessa Nagata",
         "(11) 9.4552-0318",
         "Hoya Sync III Organic 1.50 No-Risk Bluecontrol"
        ],
        [
         "Aline Ferreira",
         "(11) 9.9123-4734",
         "Hoya Sync III Eyas 2.0 1.60 No-Risk Bluecontrol"
        ],
        [
         "Maria Soares de Lorenço",
         "(11) 9.8312-9068",
         "Hoya Visão Simples Dobro"
        ],
        [
         "Egle Guarniere",
         "(11) 9.9722-1240",
         "Hoya Sync III Organic 1.50 Hv Longlife Bluecontrol"
        ],
        [
         "Fabio Oliveira",
         "(11) 9.1622-1337",
         "Hoya Sync III Organic 1.50 Hv Longlife Bluecontrol"
        ],
        [
         "Enzo Martins",
         "(11) 9.9184-2926",
         "Hoya Lente Pronta Nulux Eynoa 1.67 Hv Meiryo"
        ],
        [
         "Andreza Santos",
         "(11) 9.7973-2636",
         "Hoya Sync III Organic 1.50 Hv Longlife Bluecontrol"
        ],
        [
         "Cleber Araujo Feitosa",
         "(11) 9.9532-2822",
         "Hoya Vs Surfaçada Nulux Identity V+ Eynoa 1.67 Sensity 2 Hv Longlife Uvcontrol"
        ],
        [
         "Alex Furtado Barbosa",
         "(11) 9.9711-5539",
         "Hoya Sync III Organic 1.50 No-Risk Bluecontrol"
        ],
        [
         "Vagner Santana Soares",
         "(11) 9.8817-9307",
         "Hoya Sync III Organic 1.50 No-Risk Bluecontrol"
        ],
        [
         "Eduardo D. Caldeiras (Filho da Daniela)",
         "(11) 9.5843-1086",
         "Hoya Miyosmart Poli"
        ],
        [
         "Eliane Cristina do Nascimento",
         "(11) 9.9005-2031",
         "Hoya Visão Simples Dobro"
        ],
        [
         "Eli M. Melo Oliveira",
         "(11) 9.6323-9887",
         "Hoya Lente Pronta Nulux Eynoa 1.67 Hv Meiryo"
        ],
        [
         "Simone Oliveira",
         "(11) 9.8287-1391",
         "Hoya Sync III Organic 1.50 No-Risk Bluecontrol"
        ],
        [
         "Alessandra Aparecida",
         "(11) 9.3003-5059",
         "Hoya Sync III Organic 1.50 No-Risk Bluecontrol"
        ],
        [
         "Tamires Vieira de Carvalho",
         "(11) 9.4127-9144",
         "Hoya Lente Pronta Nulux Eynoa 1.67 Hv Meiryo"
        ],
        [
         "Cleber Araujo Feitosa",
         "(11) 9.9532-2822",
         "Hoya Visão Simples Dobro"
        ],
        [
         "Eliane Cristina do Nascimento",
         "(11) 9.9005-2031",
         "Hoya Sync III Organic 1.50 Hv Longlife Bluecontrol"
        ],
        [
         "Claudia Cristina Mazeiro",
         "(11) 9.6196-6637",
         "Hoya Visão Simples Dobro"
        ],
        [
         "Anabele Teixera Bayerlien",
         "(11) 9.8647-7581",
         "Hoya Lente Pronta Nulux Eynoa 1.67 Hv Meiryo"
        ],
        [
         "Daniel Fernando",
         "(11) 9.9458-4552",
         "Hoya Sync III Organic 1.50 No-Risk Bluecontrol"
        ],
        [
         "Daniel Ricca Yoshida",
         "(11) 9.9289-1123",
         "Hoya Lente Pronta Nulux Eynoa 1.67 Hv Meiryo"
        ],
        [
         "Claudia Cristina Mazeiro",
         "(11) 9.6196-6637",
         "Hoya Sync III Organic 1.50 Hv Longlife Bluecontrol"
        ],
        [
         "Evandro Messias Pereira",
         "(11) 9.4767-0209",
         "Hoya Sync III Organic 1.50 Hv Longlife Bluecontrol"
        ],
        [
         "Maria do Carmo Pascoal Gonzales Gerardi",
         "(11) 9.5344-0371",
         "Hoya Argos Progressive Organic 1.50 Sensity Original No-Risk Bluecontrol"
        ],
        [
         "Josilda C de Queiroz",
         "(11) 9.6828-1257",
         "Hoya Sync III Organic 1.50 No-Risk Bluecontrol"
        ],
        [
         "Mayara de Oliveira Gonzaga",
         "(11) 9.9456-1200",
         "Hoya Lente Pronta Nulux Eynoa 1.67 Hv Meiryo"
        ],
        [
         "Thiago Vieira (Elenilda)",
         "(11) 9.5474-2336",
         "Hoya Sync III Organic 1.50 No-Risk Bluecontrol"
        ],
        [
         "Mayara de Oliveira Gonzaga",
         "(11) 9.9456-1200",
         "Hoya Visão Simples Dobro"
        ],
        [
         "Gabriela Nascimento dos Santos",
         "(11) 9.8239-7122",
         "Hoya Lente Pronta Nulux Eynoa 1.67 Hv Meiryo"
        ],
        [
         "Allan Neros",
         "(11) 9.7313-6008",
         "Hoya Sync III Organic 1.50 Sensity 2 Hv Longlife Bluecontrol"
        ],
        [
         "Mirella Vieira de Lima",
         "(11) 9.9895-6571",
         "Hoya Sync III Organic 1.50 No-Risk Bluecontrol"
        ],
        [
         "Patricia Salles",
         "(11) 9.8456-9439",
         "Hoya Sync III Organic 1.50 No-Risk Bluecontrol"
        ],
        [
         "Lucia Regina Macarielli",
         "(11) 9.7282-3036",
         "Hoya Sync III Organic 1.50 No-Risk Bluecontrol"
        ],
        [
         "Aline Braz Barbosa",
         "(11) 9.4964-2589",
         "Hoya Lente Pronta Nulux Eynoa 1.67 Hv Meiryo"
        ],
        [
         "Ana Carolina Pinto Chaves",
         "(11) 9.4254-0487 (Ana Carolina)",
         "Hoya Visão Simples Dobro"
        ],
        [
         "Allan Neros",
         "(11) 9.7313-6008",
         "Hoya Visão Simples Dobro"
        ],
        [
         "Simone Aparecida Godoi",
         "(11) 9.7559-1889",
         "Hoya Sync III Organic 1.50 No-Risk Bluecontrol"
        ],
        [
         "Maria Cristina Gomes Sampaio",
         "(11) 9.9467-7341",
         "Hoya Visão Simples Dobro"
        ],
        [
         "Sheila Marcos da Silva",
         "(11) 9.7747-3789",
         "Hoya Argos Progressive Organic 1.50 No-Risk Bluecontrol"
        ],
        [
         "Ana Paula dos Santos",
         "(11) 9.6418-4679",
         "Hoya Lente Pronta Nulux Eynoa 1.67 Hv Meiryo"
        ],
        [
         "Ana Carolina Pinto Chaves",
         "(11) 9.4254-0487 (Ana Carolina)",
         "Hoya Sync III Organic 1.50 Hv Longlife Bluecontrol"
        ],
        [
         "Fatima da Costa Silva",
         "(11) 9.6550-1324",
         "Hoya Lente Pronta Nulux Eynoa 1.67 Hv Meiryo"
        ],
        [
         "Cibele Marçola Ishizuka",
         "(11) 9.8080-4480",
         "Hoya Hoyalux Id Lifestyle 3 Organic 1.50 Hv Longlife Bluecontrol"
        ],
        [
         "Paulo Pereira da Silva",
         "(11) 9.7225-7278",
         "Hoya Sync III Organic 1.50 No-Risk Bluecontrol"
        ],
        [
         "Maria Cristina Gomes Sampaio",
         "(11) 9.9467-7341",
         "Hoya Sync III Organic 1.50 No-Risk Bluecontrol"
        ],
        [
         "Gislaine da Silva",
         "(11) 9.8321-5047",
         "Hoya Sync III Organic 1.50 No-Risk Bluecontrol"
        ],
        [
         "Donizete Chagas",
         "(11) 9.9933-9571",
         "Hoya Sync III Organic 1.50 Hv Longlife Bluecontrol"
        ],
        [
         "Donizete Chagas",
         "(11) 9.9933-9571",
         "Hoya Visão Simples Dobro"
        ],
        [
         "Maria Rosa Ribeiro de Oliveira",
         "(11) 9.8083-0910",
         "Hoya Sync III Organic 1.50 Hv Longlife Bluecontrol"
        ],
        [
         "Rita de Cassia Linard Barbosa",
         "(11) 9.8414-8879",
         "Hoya Sync III Organic 1.50 No-Risk Bluecontrol"
        ],
        [
         "Davi Aires Castanho",
         "(11) 9.6895-4866 (Mae Viviane)",
         "Hoya Lente Pronta Nulux Eynoa 1.67 Hv Meiryo"
        ],
        [
         "Marlene Nunes de Campos",
         "(11) 9.8573-0954",
         "Hoya Sync III Organic 1.50 No-Risk Bluecontrol"
        ],
        [
         "Barbara Ito",
         "(11) 9.7530-1877",
         "Hoya Lente Pronta Nulux Eynoa 1.67 Hv Meiryo"
        ]
       ],
       "datasetInfos": [],
       "dbfsResultPath": null,
       "isJsonSchema": true,
       "metadata": {},
       "overflow": false,
       "plotOptions": {
        "customPlotOptions": {},
        "displayType": "table",
        "pivotAggregation": null,
        "pivotColumns": null,
        "xColumns": null,
        "yColumns": null
       },
       "removedWidgets": [],
       "schema": [
        {
         "metadata": "{}",
         "name": "Cliente",
         "type": "\"string\""
        },
        {
         "metadata": "{}",
         "name": "Telefones",
         "type": "\"string\""
        },
        {
         "metadata": "{}",
         "name": "Item - Descrição",
         "type": "\"string\""
        }
       ],
       "type": "table"
      }
     },
     "output_type": "display_data"
    }
   ],
   "source": [
    "%sql\n",
    "-- 'Hoya Customers that bought before 2024 with valid contact number'\n",
    "\n",
    "SELECT DISTINCT `Cliente`, `Telefones`, `Item - Descrição`\n",
    "FROM hoya_campaign\n",
    "  WHERE `Item - Descrição` LIKE '%Hoya%'\n",
    "    AND YEAR(to_timestamp(`Data`, 'dd/MM/yyyy HH:mm')) != 2024\n",
    "    AND `Telefones`!= '--- Telefone não informado ---'"
   ]
  },
  {
   "cell_type": "code",
   "execution_count": 0,
   "metadata": {
    "application/vnd.databricks.v1+cell": {
     "cellMetadata": {
      "byteLimit": 2048000,
      "rowLimit": 10000
     },
     "inputWidgets": {},
     "nuid": "596c1aa6-254f-4e57-a5a0-ce7fbbcdaffc",
     "showTitle": false,
     "title": ""
    }
   },
   "outputs": [
    {
     "output_type": "display_data",
     "data": {
      "text/html": [
       "<style scoped>\n",
       "  .table-result-container {\n",
       "    max-height: 300px;\n",
       "    overflow: auto;\n",
       "  }\n",
       "  table, th, td {\n",
       "    border: 1px solid black;\n",
       "    border-collapse: collapse;\n",
       "  }\n",
       "  th, td {\n",
       "    padding: 5px;\n",
       "  }\n",
       "  th {\n",
       "    text-align: left;\n",
       "  }\n",
       "</style><div class='table-result-container'><table class='table-result'><thead style='background-color: white'><tr><th>num_affected_rows</th><th>num_inserted_rows</th></tr></thead><tbody></tbody></table></div>"
      ]
     },
     "metadata": {
      "application/vnd.databricks.v1+output": {
       "addedWidgets": {},
       "aggData": [],
       "aggError": "",
       "aggOverflow": false,
       "aggSchema": [],
       "aggSeriesLimitReached": false,
       "aggType": "",
       "arguments": {},
       "columnCustomDisplayInfos": {},
       "data": [],
       "datasetInfos": [],
       "dbfsResultPath": null,
       "isJsonSchema": true,
       "metadata": {
        "isDbfsCommandResult": false
       },
       "overflow": false,
       "plotOptions": {
        "customPlotOptions": {},
        "displayType": "table",
        "pivotAggregation": null,
        "pivotColumns": null,
        "xColumns": null,
        "yColumns": null
       },
       "removedWidgets": [],
       "schema": [
        {
         "metadata": "{}",
         "name": "num_affected_rows",
         "type": "\"long\""
        },
        {
         "metadata": "{}",
         "name": "num_inserted_rows",
         "type": "\"long\""
        }
       ],
       "type": "table"
      }
     },
     "output_type": "display_data"
    }
   ],
   "source": [
    "%sql\n",
    "-- Saving results in a new table\n",
    "\n",
    "CREATE OR REPLACE TABLE hoya_customers_campaign AS\n",
    "SELECT DISTINCT `Cliente`, `Telefones`, `Item - Descrição` AS Item_Descricao\n",
    "FROM hoya_campaign\n",
    "  WHERE `Item - Descrição` LIKE '%Hoya%'\n",
    "    AND YEAR(to_timestamp(`Data`, 'dd/MM/yyyy HH:mm')) != 2024\n",
    "    AND `Telefones`!= '--- Telefone não informado ---'"
   ]
  },
  {
   "cell_type": "code",
   "execution_count": 0,
   "metadata": {
    "application/vnd.databricks.v1+cell": {
     "cellMetadata": {
      "byteLimit": 2048000,
      "rowLimit": 10000
     },
     "inputWidgets": {},
     "nuid": "1d0b9de8-4e80-4833-9c45-ef4f115da67f",
     "showTitle": false,
     "title": ""
    }
   },
   "outputs": [
    {
     "output_type": "display_data",
     "data": {
      "text/html": [
       "<style scoped>\n",
       "  .table-result-container {\n",
       "    max-height: 300px;\n",
       "    overflow: auto;\n",
       "  }\n",
       "  table, th, td {\n",
       "    border: 1px solid black;\n",
       "    border-collapse: collapse;\n",
       "  }\n",
       "  th, td {\n",
       "    padding: 5px;\n",
       "  }\n",
       "  th {\n",
       "    text-align: left;\n",
       "  }\n",
       "</style><div class='table-result-container'><table class='table-result'><thead style='background-color: white'><tr><th>Cliente</th><th>Telefones</th><th>Item_Descricao</th></tr></thead><tbody><tr><td>Sueli ##-CENSORED</td><td>99999-9999</td><td>Hoya Argos Progressive Organic 1.50 No-Risk</td></tr><tr><td>Teresinha ##-CENSORED</td><td>99999-9999</td><td>Hoya Hoyalux Wide Bks 1.50 No-Risk</td></tr><tr><td>Guilherme ##-CENSORED</td><td>99999-9999</td><td>Hoya Nulux Sportive Organic 1.50 Polarizada Hv Hard</td></tr><tr><td>Erika ##-CENSORED</td><td>99999-9999</td><td>Hoya Amplus Organic 1.50 Cleanextra</td></tr><tr><td>Antonio ##-CENSORED</td><td>99999-9999</td><td>Hoya Lente Pronta Hilux Vs Premium Organic 1.50 Bluecontrol</td></tr><tr><td>Lidia ##-CENSORED</td><td>99999-9999</td><td>Hoya Amplus Organic 1.50 Hv Hard</td></tr><tr><td>Denis ##-CENSORED</td><td>99999-9999</td><td>Hoya Lente Pronta Hilux Vs Premium Organic 1.50 Bluecontrol</td></tr><tr><td>Yhasmin ##-CENSORED</td><td>99999-9999</td><td>Hoya Lente Pronta Hilux Pnx Trivex Hv Longlife</td></tr><tr><td>Bruna ##-CENSORED</td><td>99999-9999</td><td>Hoya Amplus Organic 1.50 Cleanextra</td></tr><tr><td>Angela ##-CENSORED</td><td>99999-9999</td><td>Hoya Lente Pronta Nulux Eynoa 1.67 Hv Meiryo</td></tr><tr><td>Vinicius ##-CENSORED</td><td>99999-9999</td><td>Hoya Lente Pronta Nulux Eynoa 1.67 Hv Meiryo</td></tr><tr><td>Maria ##-CENSORED</td><td>99999-9999</td><td>Hoya Amplus Organic 1.50 Cleanextra</td></tr><tr><td>Charles ##-CENSORED</td><td>99999-9999</td><td>Hoya Argos Progressive Pnx Trivex No-Risk Bluecontrol</td></tr><tr><td>Olga ##-CENSORED</td><td>99999-9999</td><td>Hoya Amplus Poli Cleanextra</td></tr><tr><td>Maria ##-CENSORED</td><td>99999-9999</td><td>Hoya Lente Pronta Hilux Vs Premium Organic 1.50 Bluecontrol</td></tr><tr><td>Maura ##-CENSORED</td><td>99999-9999</td><td>Hoya Hoyalux Wide Bks 1.50 Cleanextra</td></tr><tr><td>Eudete ##-CENSORED</td><td>99999-9999</td><td>Hoya Amplus Organic 1.50 Cleanextra</td></tr><tr><td>Washington ##-CENSORED</td><td>99999-9999</td><td>Hoya Lente Pronta Nulux Eynoa 1.67 Hv Meiryo</td></tr><tr><td>Angela ##-CENSORED</td><td>99999-9999</td><td>Hoya Amplus Organic 1.50 Cleanextra</td></tr><tr><td>Leandro ##-CENSORED</td><td>99999-9999</td><td>Hoya Lente Pronta Hilux Pnx Trivex Hv Aqua</td></tr><tr><td>Carina ##-CENSORED</td><td>99999-9999</td><td>Hoya Lente Pronta Hilux Vs Premium Organic 1.50 Bluecontrol</td></tr><tr><td>Renata ##-CENSORED</td><td>99999-9999</td><td>Hoya Vs Surfaçada Hilux Organic 1.50 Sensity 2 Cleanextra</td></tr><tr><td>Eliete ##-CENSORED</td><td>99999-9999</td><td>Hoya Amplus Organic 1.50 Cleanextra</td></tr><tr><td>Fabiano ##-CENSORED</td><td>99999-9999</td><td>Hoya Lente Pronta Hilux Vs Premium Organic 1.50 Bluecontrol</td></tr><tr><td>Marileide ##-CENSORED</td><td>99999-9999</td><td>Hoya Amplus Organic 1.50 Cleanextra</td></tr><tr><td>Marco ##-CENSORED</td><td>99999-9999</td><td>Hoya Argos Progressive Organic 1.50 Sensity 2 Cleanextra</td></tr><tr><td>Edleide ##-CENSORED</td><td>99999-9999</td><td>Hoya Amplus Organic 1.50 Cleanextra</td></tr><tr><td>Bianca ##-CENSORED</td><td>99999-9999</td><td>Hoya Lente Pronta Ultrax Poli Hard</td></tr><tr><td>Leonardo ##-CENSORED</td><td>99999-9999</td><td>Hoya Lente Pronta Hilux Vs Premium Organic 1.50 Bluecontrol</td></tr><tr><td>Miriane ##-CENSORED</td><td>99999-9999</td><td>Hoya Lente Pronta Hilux Vs Premium Organic 1.50 Bluecontrol</td></tr><tr><td>Maria ##-CENSORED</td><td>99999-9999</td><td>Hoya Amplus Organic 1.50 Cleanextra</td></tr><tr><td>Luis ##-CENSORED</td><td>99999-9999</td><td>Hoya Lente Pronta Nulux Eynoa 1.67 Hv Meiryo</td></tr><tr><td>Ligia ##-CENSORED</td><td>99999-9999</td><td>Hoya Lente Pronta Hilux Pnx Trivex Hv Aqua</td></tr><tr><td>Rosana ##-CENSORED</td><td>99999-9999</td><td>Hoya Amplus Organic 1.50 Cleanextra</td></tr><tr><td>Jose ##-CENSORED</td><td>99999-9999</td><td>Hoya Vs Surfaçada Nulux Eynoa 1.67 No-Risk Bluecontrol</td></tr><tr><td>Marcelo ##-CENSORED</td><td>99999-9999</td><td>Hoya Amplus Organic 1.50 Cleanextra</td></tr><tr><td>Carolina ##-CENSORED</td><td>99999-9999</td><td>Hoya Hoyalux Wide Pro Bks 1.50 Bluecontrol</td></tr><tr><td>Ana ##-CENSORED</td><td>99999-9999</td><td>Hoya Amplus Organic 1.50 No-Risk Bluecontrol</td></tr><tr><td>Jeniffer ##-CENSORED</td><td>99999-9999</td><td>Hoya Lente Pronta Hilux Vs Premium Organic 1.50 Bluecontrol</td></tr><tr><td>Wilson ##-CENSORED</td><td>99999-9999</td><td>Hoya Amplus Pnx Trivex No-Risk</td></tr><tr><td>Fabricio ##-CENSORED</td><td>99999-9999</td><td>Hoya Vs Surfaçada Hilux Organic 1.50 Cleanextra</td></tr><tr><td>Leila ##-CENSORED</td><td>99999-9999</td><td>Hoya Amplus Organic 1.50 Cleanextra</td></tr><tr><td>Eda ##-CENSORED</td><td>99999-9999</td><td>Hoya Amplus Organic 1.50 Cleanextra</td></tr><tr><td>Laura ##-CENSORED</td><td>99999-9999</td><td>Hoya Lente Pronta Hilux Vs Premium Organic 1.50 Bluecontrol</td></tr><tr><td>Lourival ##-CENSORED</td><td>99999-9999</td><td>Hoya Amplus Organic 1.50 Cleanextra</td></tr><tr><td>Gustavo ##-CENSORED</td><td>99999-9999</td><td>Hoya Lente Pronta Hilux Vs Premium Organic 1.50 Bluecontrol</td></tr><tr><td>Renata ##-CENSORED</td><td>99999-9999</td><td>Hoya Amplus Organic 1.50 Cleanextra</td></tr><tr><td>Alexandre ##-CENSORED</td><td>99999-9999</td><td>Hoya Hoyalux Wide Bks Trivex No-Risk Bc</td></tr><tr><td>Laura ##-CENSORED</td><td>99999-9999</td><td>Hoya Lente Pronta Hilux Organic 1.50 Hv Aqua</td></tr><tr><td>Luis ##-CENSORED</td><td>99999-9999</td><td>Hoya Amplus Organic 1.50 No-Risk</td></tr><tr><td>Monica ##-CENSORED</td><td>99999-9999</td><td>Hoya Sync III Organic 1.50 No-Risk Bluecontrol</td></tr><tr><td>Beatriz ##-CENSORED</td><td>99999-9999</td><td>Hoya Vs Surfaçada Nulux Eynoa 1.67 No-Risk Bluecontrol</td></tr><tr><td>Karina ##-CENSORED</td><td>99999-9999</td><td>Hoya Lente Pronta Hilux Vs Premium Organic 1.50 Bluecontrol</td></tr><tr><td>Gilda ##-CENSORED</td><td>99999-9999</td><td>Hoya Amplus Poli No-Risk Bluecontrol</td></tr><tr><td>Cleide ##-CENSORED</td><td>99999-9999</td><td>Hoya Argos Progressive Organic 1.50 Cleanextra</td></tr><tr><td>Ricardo ##-CENSORED</td><td>99999-9999</td><td>Hoya Hoyalux Wide Pro Bks 1.50 No-Risk Bc</td></tr><tr><td>Ana ##-CENSORED</td><td>99999-9999</td><td>Hoya Sync III Organic 1.50 No-Risk Bluecontrol</td></tr><tr><td>Roberta ##-CENSORED</td><td>99999-9999</td><td>Hoya Sync III Poli No-Risk Bluecontrol</td></tr><tr><td>Claudia ##-CENSORED</td><td>99999-9999</td><td>Hoya Sync III Organic 1.50 No-Risk Bluecontrol</td></tr><tr><td>Bianca ##-CENSORED</td><td>99999-9999</td><td>Hoya Lente Pronta Hilux Vs Premium Organic 1.50 Bluecontrol</td></tr><tr><td>Vilma ##-CENSORED</td><td>99999-9999</td><td>Hoya Amplus Organic 1.50 No-Risk</td></tr><tr><td>Elisangela ##-CENSORED</td><td>99999-9999</td><td>Hoya Sync III Pnx Trivex Hv Longlife Bluecontrol</td></tr><tr><td>Eduardo ##-CENSORED</td><td>99999-9999</td><td>Hoya Vs Surfaçada Hilux Organic 1.50 Sensity 2 Cleanextra</td></tr><tr><td>Lucas ##-CENSORED</td><td>99999-9999</td><td>Hoya Lente Pronta Hilux Vs Premium Organic 1.50 Bluecontrol</td></tr><tr><td>Renan ##-CENSORED</td><td>99999-9999</td><td>Hoya Lente Pronta Hilux Vs Premium Organic 1.50 Bluecontrol</td></tr><tr><td>Solange ##-CENSORED</td><td>99999-9999</td><td>Hoya Argos Progressive Organic 1.50 No-Risk</td></tr><tr><td>Fabiana ##-CENSORED</td><td>99999-9999</td><td>Hoya Lente Pronta Hilux Vs Premium Organic 1.50 Bluecontrol</td></tr><tr><td>Erika ##-CENSORED</td><td>99999-9999</td><td>Hoya Sync III Organic 1.50 No-Risk Bluecontrol</td></tr><tr><td>Fernando ##-CENSORED</td><td>99999-9999</td><td>Hoya Amplus Organic 1.50 Cleanextra</td></tr><tr><td>Elisangela ##-CENSORED</td><td>99999-9999</td><td>Hoya Sync III Organic 1.50 Hv Longlife Bluecontrol</td></tr><tr><td>Vanessa ##-CENSORED</td><td>99999-9999</td><td>Hoya Sync III Pnx Trivex Sensity 2 No-Risk Bluecontrol</td></tr><tr><td>Valdivia ##-CENSORED</td><td>99999-9999</td><td>Hoya Amplus Organic 1.50 Cleanextra</td></tr><tr><td>Ingrid ##-CENSORED</td><td>99999-9999</td><td>Hoya Amplus Organic 1.50 No-Risk</td></tr><tr><td>Telma ##-CENSORED</td><td>99999-9999</td><td>Hoya Sync III Organic 1.50 Sensity 2 No-Risk Bluecontrol</td></tr><tr><td>Cibele ##-CENSORED</td><td>99999-9999</td><td>Hoya Hoyalux Id Lifestyle V+ 1.50 Bluecontrol</td></tr><tr><td>Maria ##-CENSORED</td><td>99999-9999</td><td>Hoya Lente Pronta Hilux Vs Premium Organic 1.50 Bluecontrol</td></tr><tr><td>Carla ##-CENSORED</td><td>99999-9999</td><td>Hoya Sync III Organic 1.50 No-Risk Bluecontrol</td></tr><tr><td>Julio ##-CENSORED</td><td>99999-9999</td><td>Hoya Sync III Pnx Trivex No-Risk Bluecontrol</td></tr><tr><td>Jaqueline ##-CENSORED</td><td>99999-9999</td><td>Hoya Lente Pronta Nulux Eynoa 1.67 Hv Meiryo</td></tr><tr><td>Claudia ##-CENSORED</td><td>99999-9999</td><td>Hoya Sync III Organic 1.50 Hv Longlife Bluecontrol</td></tr><tr><td>José ##-CENSORED</td><td>99999-9999</td><td>Hoya Argos Progressive Poli No-Risk</td></tr><tr><td>Barbara ##-CENSORED</td><td>99999-9999</td><td>Hoya Lente Pronta Nulux Eynoa 1.67 Hv Meiryo</td></tr><tr><td>Eudete ##-CENSORED</td><td>99999-9999</td><td>Hoya Argos Progressive Organic 1.50 No-Risk</td></tr><tr><td>Priscila ##-CENSORED</td><td>99999-9999</td><td>Hoya Lente Pronta Hilux Vs Premium Organic 1.50 Bluecontrol</td></tr><tr><td>Ronald ##-CENSORED</td><td>99999-9999</td><td>Hoya Sync III Organic 1.50 Hv Longlife Bluecontrol</td></tr><tr><td>Cristina ##-CENSORED</td><td>99999-9999</td><td>Hoya Argos Progressive Eyas 2.0 1.60 No-Risk</td></tr><tr><td>Juliana ##-CENSORED</td><td>99999-9999</td><td>Hoya Sync III Organic 1.50 Hv Longlife Bluecontrol</td></tr><tr><td>Luciana ##-CENSORED</td><td>99999-9999</td><td>Hoya Vs Surfaçada Hilux Organic 1.50 No-Risk Bluecontrol</td></tr><tr><td>Vera ##-CENSORED</td><td>99999-9999</td><td>Hoya Argos Progressive Poli No-Risk</td></tr><tr><td>Gabriel ##-CENSORED</td><td>99999-9999</td><td>Hoya Lente Pronta Hilux Vs Premium Organic 1.50 Bluecontrol</td></tr><tr><td>Renata ##-CENSORED</td><td>99999-9999</td><td>Hoya Argos Progressive Organic 1.50 Hv Hard</td></tr><tr><td>Bruna ##-CENSORED</td><td>99999-9999</td><td>Hoya Visão Simples Dobro</td></tr><tr><td>Francisco ##-CENSORED</td><td>99999-9999</td><td>Hoya Argos Progressive Organic 1.50 No-Risk</td></tr><tr><td>Juraci ##-CENSORED</td><td>99999-9999</td><td>Hoya Argos Progressive Pnx Trivex Hv Hard</td></tr><tr><td>Ana ##-CENSORED</td><td>99999-9999</td><td>Hoya Argos Progressive Organic 1.50 No-Risk Bluecontrol</td></tr><tr><td>Egle ##-CENSORED</td><td>99999-9999</td><td>Hoya Sync III Pnx Trivex Hv Longlife Bluecontrol</td></tr><tr><td>Tereza ##-CENSORED</td><td>99999-9999</td><td>Hoya Argos Progressive Organic 1.50 No-Risk Bluecontrol</td></tr><tr><td>Rute ##-CENSORED</td><td>99999-9999</td><td>Hoya Hoyalux Wide Bks 1.67 No-Risk Bc</td></tr><tr><td>Elder ##-CENSORED</td><td>99999-9999</td><td>Hoya Argos Progressive Organic 1.50 No-Risk Bluecontrol</td></tr><tr><td>Messias ##-CENSORED</td><td>99999-9999</td><td>Hoya Sync III Organic 1.50 Sensity 2 No-Risk Bluecontrol</td></tr><tr><td>Eliana ##-CENSORED</td><td>99999-9999</td><td>Hoya Hoyalux Wide Bks 1.50 No-Risk Bc</td></tr><tr><td>Eliete ##-CENSORED</td><td>99999-9999</td><td>Hoya Argos Progressive Organic 1.50 Cleanextra</td></tr><tr><td>Bruna ##-CENSORED</td><td>99999-9999</td><td>Hoya Lente Pronta Hilux Vs Premium Organic 1.50 Bluecontrol</td></tr><tr><td>Alexandre ##-CENSORED</td><td>99999-9999</td><td>Hoya Argos Progressive Organic 1.50 Cleanextra</td></tr><tr><td>Janice ##-CENSORED</td><td>99999-9999</td><td>Hoya Amplus Organic 1.50 Hv Hard</td></tr><tr><td>Antonio ##-CENSORED</td><td>99999-9999</td><td>Hoya Sync III Eynoa 1.67 Hv Longlife Blue Control</td></tr><tr><td>Lucas ##-CENSORED</td><td>99999-9999</td><td>Hoya Lente Pronta Hilux Vs Premium Organic 1.50 Bluecontrol</td></tr><tr><td>Claudia ##-CENSORED</td><td>99999-9999</td><td>Hoya Hoyalux Wide Pro Bks 1.50 Cleanextra</td></tr><tr><td>Isabel ##-CENSORED</td><td>99999-9999</td><td>Hoya Sync III Organic 1.50 Hv Longlife Bluecontrol</td></tr><tr><td>Aline ##-CENSORED</td><td>99999-9999</td><td>Hoya Lente Pronta Hilux Vs Premium Organic 1.50 Bluecontrol</td></tr><tr><td>Camila ##-CENSORED</td><td>99999-9999</td><td>Hoya Lente Pronta Hilux Vs Premium Organic 1.50 Bluecontrol</td></tr><tr><td>Vagner ##-CENSORED</td><td>99999-9999</td><td>Hoya Sync III Organic 1.50 Hv Longlife Bluecontrol</td></tr><tr><td>Fabiana ##-CENSORED</td><td>99999-9999</td><td>Hoya Lente Pronta Hilux Vs Premium Organic 1.50 Bluecontrol</td></tr><tr><td>Debora ##-CENSORED</td><td>99999-9999</td><td>Hoya Sync III Organic 1.50 No-Risk Bluecontrol</td></tr><tr><td>Danielle ##-CENSORED</td><td>99999-9999</td><td>Hoya Lente Pronta Hilux Vs Premium Organic 1.50 Bluecontrol</td></tr><tr><td>Adriano ##-CENSORED</td><td>99999-9999</td><td>Hoya Lente Pronta Hilux Vs Premium Organic 1.50 Bluecontrol</td></tr><tr><td>Fernanda ##-CENSORED</td><td>99999-9999</td><td>Hoya Argos Progressive Poli No-Risk Bluecontrol</td></tr><tr><td>Vanilda ##-CENSORED</td><td>99999-9999</td><td>Hoya Hoyalux Wide Vxt 1.50 No-Risk Bc</td></tr><tr><td>Daniel ##-CENSORED</td><td>99999-9999</td><td>Hoya Lente Pronta Hilux Vs Premium Organic 1.50 Bluecontrol</td></tr><tr><td>Willians ##-CENSORED</td><td>99999-9999</td><td>Hoya Sync III Organic 1.50 Hv Longlife Bluecontrol</td></tr><tr><td>Wilson ##-CENSORED</td><td>99999-9999</td><td>Hoya Argos Progressive Organic 1.50 Cleanextra</td></tr><tr><td>Alceni ##-CENSORED</td><td>99999-9999</td><td>Hoya Argos Progressive Organic 1.50 Hv Hard</td></tr><tr><td>Adriano ##-CENSORED</td><td>99999-9999</td><td>Hoya Lente Pronta Hilux Vs Premium Organic 1.50 Bluecontrol</td></tr><tr><td>Marcolino ##-CENSORED</td><td>99999-9999</td><td>Hoya Argos Progressive Organic 1.50 No-Risk Bluecontrol</td></tr><tr><td>Tania ##-CENSORED</td><td>99999-9999</td><td>Hoya Argos Progressive Organic 1.50 No-Risk</td></tr><tr><td>Renata ##-CENSORED</td><td>99999-9999</td><td>Hoya Lente Pronta Nulux Eynoa 1.67 Hv Meiryo</td></tr><tr><td>Sophia ##-CENSORED</td><td>99999-9999</td><td>Hoya Lente Pronta Nulux Eynoa 1.67 Hv Meiryo</td></tr><tr><td>Elaine ##-CENSORED</td><td>99999-9999</td><td>Hoya Lente Pronta Nulux Eynoa 1.67 Hv Meiryo</td></tr><tr><td>Luciene ##-CENSORED</td><td>99999-9999</td><td>Hoya Sync III Organic 1.50 Hv Longlife Bluecontrol</td></tr><tr><td>Marcolino ##-CENSORED</td><td>99999-9999</td><td>Hoya Argos Progressive Poli No-Risk</td></tr><tr><td>Jafferson ##-CENSORED</td><td>99999-9999</td><td>Hoya Sync III Pnx Trivex Hv Longlife Bluecontrol</td></tr><tr><td>Roberto ##-CENSORED</td><td>99999-9999</td><td>Hoya Sync III Poli No-Risk Bluecontrol</td></tr><tr><td>Gustavo ##-CENSORED</td><td>99999-9999</td><td>Hoya Lente Pronta Hilux Pnx Trivex Hv Aqua</td></tr><tr><td>Fabricio ##-CENSORED</td><td>99999-9999</td><td>Hoya Sync III Organic 1.50 No-Risk Bluecontrol</td></tr><tr><td>Aldilene ##-CENSORED</td><td>99999-9999</td><td>Hoya Sync III Organic 1.50 No-Risk Bluecontrol</td></tr><tr><td>Ingrid ##-CENSORED</td><td>99999-9999</td><td>Hoya Visão Simples Dobro</td></tr><tr><td>Rodrigo ##-CENSORED</td><td>99999-9999</td><td>Hoya Vs Surfaçada Nulux Trueform Pnx Trivex Sensity 2 Cleanextra</td></tr><tr><td>Antonio ##-CENSORED</td><td>99999-9999</td><td>Hoya Sync III Organic 1.50 No-Risk Bluecontrol</td></tr><tr><td>Rosana ##-CENSORED</td><td>99999-9999</td><td>Hoya Argos Progressive Organic 1.50 No-Risk Bluecontrol</td></tr><tr><td>Kelly ##-CENSORED</td><td>99999-9999</td><td>Hoya Hoyalux Wide Bks 1.50 No-Risk Bc</td></tr><tr><td>Allana ##-CENSORED</td><td>99999-9999</td><td>Hoya Lente Pronta Hilux Vs Premium Pnx Trivex Bluecontrol</td></tr><tr><td>Adriana ##-CENSORED</td><td>99999-9999</td><td>Hoya Sync III Poli No-Risk Bluecontrol</td></tr><tr><td>Andrea ##-CENSORED</td><td>99999-9999</td><td>Hoya Visão Simples Dobro</td></tr><tr><td>Gabriele ##-CENSORED</td><td>99999-9999</td><td>Hoya Lente Pronta Ultrax Poli Aqua</td></tr><tr><td>Natalia ##-CENSORED</td><td>99999-9999</td><td>Hoya Lente Pronta Hilux Vs Premium Organic 1.50 Bluecontrol</td></tr><tr><td>Clarice ##-CENSORED</td><td>99999-9999</td><td>Hoya Sync III Organic 1.50 No-Risk Bluecontrol</td></tr><tr><td>Maria ##-CENSORED</td><td>99999-9999</td><td>Hoya Amplus Organic 1.50 Sensity 2 No-Risk</td></tr><tr><td>Fabio ##-CENSORED</td><td>99999-9999</td><td>Hoya Sync III Organic 1.50 No-Risk Bluecontrol</td></tr><tr><td>Fabiana ##-CENSORED</td><td>99999-9999</td><td>Hoya Sync III Organic 1.50 No-Risk Bluecontrol</td></tr><tr><td>Maria ##-CENSORED</td><td>99999-9999</td><td>Hoya Lente Pronta Nulux Eynoa 1.67 Hv Meiryo</td></tr><tr><td>Giovaldo ##-CENSORED</td><td>99999-9999</td><td>Hoya Sync III Organic 1.50 No-Risk Bluecontrol</td></tr><tr><td>Sandra ##-CENSORED</td><td>99999-9999</td><td>Hoya Argos Progressive Organic 1.50 No-Risk</td></tr><tr><td>Adriana ##-CENSORED</td><td>99999-9999</td><td>Hoya Sync III Organic 1.50 No-Risk Bluecontrol</td></tr><tr><td>Claudia ##-CENSORED</td><td>99999-9999</td><td>Hoya Sync III Organic 1.50 No-Risk Bluecontrol</td></tr><tr><td>Adriana ##-CENSORED</td><td>99999-9999</td><td>Hoya Sync III Organic 1.50 Hv Longlife Bluecontrol</td></tr><tr><td>Vera ##-CENSORED</td><td>99999-9999</td><td>Hoya Hoyalux Wide Bks 1.50 Bluecontrol</td></tr><tr><td>Patricia ##-CENSORED</td><td>99999-9999</td><td>Hoya Argos Progressive Organic 1.50 No-Risk</td></tr><tr><td>Silvia ##-CENSORED</td><td>99999-9999</td><td>Hoya Sync III Organic 1.50 No-Risk Bluecontrol</td></tr><tr><td>Marcelo ##-CENSORED</td><td>99999-9999</td><td>Hoya Sync III Organic 1.50 No-Risk Bluecontrol</td></tr><tr><td>Paulo ##-CENSORED</td><td>99999-9999</td><td>Hoya Sync III Organic 1.50 Hv Longlife Bluecontrol</td></tr><tr><td>Maria ##-CENSORED</td><td>99999-9999</td><td>Hoya Lente Pronta Nulux Eynoa 1.67 Hv Meiryo</td></tr><tr><td>Wilson ##-CENSORED</td><td>99999-9999</td><td>Hoya Sync III Organic 1.50 No-Risk Bluecontrol</td></tr><tr><td>Vanessa ##-CENSORED</td><td>99999-9999</td><td>Hoya Sync III Organic 1.50 No-Risk Bluecontrol</td></tr><tr><td>Aline ##-CENSORED</td><td>99999-9999</td><td>Hoya Sync III Eyas 2.0 1.60 No-Risk Bluecontrol</td></tr><tr><td>Maria ##-CENSORED</td><td>99999-9999</td><td>Hoya Visão Simples Dobro</td></tr><tr><td>Egle ##-CENSORED</td><td>99999-9999</td><td>Hoya Sync III Organic 1.50 Hv Longlife Bluecontrol</td></tr><tr><td>Fabio ##-CENSORED</td><td>99999-9999</td><td>Hoya Sync III Organic 1.50 Hv Longlife Bluecontrol</td></tr><tr><td>Enzo ##-CENSORED</td><td>99999-9999</td><td>Hoya Lente Pronta Nulux Eynoa 1.67 Hv Meiryo</td></tr><tr><td>Andreza ##-CENSORED</td><td>99999-9999</td><td>Hoya Sync III Organic 1.50 Hv Longlife Bluecontrol</td></tr><tr><td>Cleber ##-CENSORED</td><td>99999-9999</td><td>Hoya Vs Surfaçada Nulux Identity V+ Eynoa 1.67 Sensity 2 Hv Longlife Uvcontrol</td></tr><tr><td>Alex ##-CENSORED</td><td>99999-9999</td><td>Hoya Sync III Organic 1.50 No-Risk Bluecontrol</td></tr><tr><td>Vagner ##-CENSORED</td><td>99999-9999</td><td>Hoya Sync III Organic 1.50 No-Risk Bluecontrol</td></tr><tr><td>Eduardo ##-CENSORED</td><td>99999-9999</td><td>Hoya Miyosmart Poli</td></tr><tr><td>Eliane ##-CENSORED</td><td>99999-9999</td><td>Hoya Visão Simples Dobro</td></tr><tr><td>Eli ##-CENSORED</td><td>99999-9999</td><td>Hoya Lente Pronta Nulux Eynoa 1.67 Hv Meiryo</td></tr><tr><td>Simone ##-CENSORED</td><td>99999-9999</td><td>Hoya Sync III Organic 1.50 No-Risk Bluecontrol</td></tr><tr><td>Alessandra ##-CENSORED</td><td>99999-9999</td><td>Hoya Sync III Organic 1.50 No-Risk Bluecontrol</td></tr><tr><td>Tamires ##-CENSORED</td><td>99999-9999</td><td>Hoya Lente Pronta Nulux Eynoa 1.67 Hv Meiryo</td></tr><tr><td>Cleber ##-CENSORED</td><td>99999-9999</td><td>Hoya Visão Simples Dobro</td></tr><tr><td>Eliane ##-CENSORED</td><td>99999-9999</td><td>Hoya Sync III Organic 1.50 Hv Longlife Bluecontrol</td></tr><tr><td>Claudia ##-CENSORED</td><td>99999-9999</td><td>Hoya Visão Simples Dobro</td></tr><tr><td>Anabele ##-CENSORED</td><td>99999-9999</td><td>Hoya Lente Pronta Nulux Eynoa 1.67 Hv Meiryo</td></tr><tr><td>Daniel ##-CENSORED</td><td>99999-9999</td><td>Hoya Sync III Organic 1.50 No-Risk Bluecontrol</td></tr><tr><td>Daniel ##-CENSORED</td><td>99999-9999</td><td>Hoya Lente Pronta Nulux Eynoa 1.67 Hv Meiryo</td></tr><tr><td>Claudia ##-CENSORED</td><td>99999-9999</td><td>Hoya Sync III Organic 1.50 Hv Longlife Bluecontrol</td></tr><tr><td>Evandro ##-CENSORED</td><td>99999-9999</td><td>Hoya Sync III Organic 1.50 Hv Longlife Bluecontrol</td></tr><tr><td>Maria ##-CENSORED</td><td>99999-9999</td><td>Hoya Argos Progressive Organic 1.50 Sensity Original No-Risk Bluecontrol</td></tr><tr><td>Josilda ##-CENSORED</td><td>99999-9999</td><td>Hoya Sync III Organic 1.50 No-Risk Bluecontrol</td></tr><tr><td>Mayara ##-CENSORED</td><td>99999-9999</td><td>Hoya Lente Pronta Nulux Eynoa 1.67 Hv Meiryo</td></tr><tr><td>Thiago ##-CENSORED</td><td>99999-9999</td><td>Hoya Sync III Organic 1.50 No-Risk Bluecontrol</td></tr><tr><td>Mayara ##-CENSORED</td><td>99999-9999</td><td>Hoya Visão Simples Dobro</td></tr><tr><td>Gabriela ##-CENSORED</td><td>99999-9999</td><td>Hoya Lente Pronta Nulux Eynoa 1.67 Hv Meiryo</td></tr><tr><td>Allan ##-CENSORED</td><td>99999-9999</td><td>Hoya Sync III Organic 1.50 Sensity 2 Hv Longlife Bluecontrol</td></tr><tr><td>Mirella ##-CENSORED</td><td>99999-9999</td><td>Hoya Sync III Organic 1.50 No-Risk Bluecontrol</td></tr><tr><td>Patricia ##-CENSORED</td><td>99999-9999</td><td>Hoya Sync III Organic 1.50 No-Risk Bluecontrol</td></tr><tr><td>Lucia ##-CENSORED</td><td>99999-9999</td><td>Hoya Sync III Organic 1.50 No-Risk Bluecontrol</td></tr><tr><td>Aline ##-CENSORED</td><td>99999-9999</td><td>Hoya Lente Pronta Nulux Eynoa 1.67 Hv Meiryo</td></tr><tr><td>Ana ##-CENSORED</td><td>99999-9999</td><td>Hoya Visão Simples Dobro</td></tr><tr><td>Allan ##-CENSORED</td><td>99999-9999</td><td>Hoya Visão Simples Dobro</td></tr><tr><td>Simone ##-CENSORED</td><td>99999-9999</td><td>Hoya Sync III Organic 1.50 No-Risk Bluecontrol</td></tr><tr><td>Maria ##-CENSORED</td><td>99999-9999</td><td>Hoya Visão Simples Dobro</td></tr><tr><td>Sheila ##-CENSORED</td><td>99999-9999</td><td>Hoya Argos Progressive Organic 1.50 No-Risk Bluecontrol</td></tr><tr><td>Ana ##-CENSORED</td><td>99999-9999</td><td>Hoya Lente Pronta Nulux Eynoa 1.67 Hv Meiryo</td></tr><tr><td>Ana ##-CENSORED</td><td>99999-9999</td><td>Hoya Sync III Organic 1.50 Hv Longlife Bluecontrol</td></tr><tr><td>Fatima ##-CENSORED</td><td>99999-9999</td><td>Hoya Lente Pronta Nulux Eynoa 1.67 Hv Meiryo</td></tr><tr><td>Cibele ##-CENSORED</td><td>99999-9999</td><td>Hoya Hoyalux Id Lifestyle 3 Organic 1.50 Hv Longlife Bluecontrol</td></tr><tr><td>Paulo ##-CENSORED</td><td>99999-9999</td><td>Hoya Sync III Organic 1.50 No-Risk Bluecontrol</td></tr><tr><td>Maria ##-CENSORED</td><td>99999-9999</td><td>Hoya Sync III Organic 1.50 No-Risk Bluecontrol</td></tr><tr><td>Gislaine ##-CENSORED</td><td>99999-9999</td><td>Hoya Sync III Organic 1.50 No-Risk Bluecontrol</td></tr><tr><td>Donizete ##-CENSORED</td><td>99999-9999</td><td>Hoya Sync III Organic 1.50 Hv Longlife Bluecontrol</td></tr><tr><td>Donizete ##-CENSORED</td><td>99999-9999</td><td>Hoya Visão Simples Dobro</td></tr><tr><td>Maria ##-CENSORED</td><td>99999-9999</td><td>Hoya Sync III Organic 1.50 Hv Longlife Bluecontrol</td></tr><tr><td>Rita ##-CENSORED</td><td>99999-9999</td><td>Hoya Sync III Organic 1.50 No-Risk Bluecontrol</td></tr><tr><td>Davi ##-CENSORED</td><td>99999-9999</td><td>Hoya Lente Pronta Nulux Eynoa 1.67 Hv Meiryo</td></tr><tr><td>Marlene ##-CENSORED</td><td>99999-9999</td><td>Hoya Sync III Organic 1.50 No-Risk Bluecontrol</td></tr><tr><td>Barbara ##-CENSORED</td><td>99999-9999</td><td>Hoya Lente Pronta Nulux Eynoa 1.67 Hv Meiryo</td></tr></tbody></table></div>"
      ]
     },
     "metadata": {
      "application/vnd.databricks.v1+output": {
       "addedWidgets": {},
       "aggData": [],
       "aggError": "",
       "aggOverflow": false,
       "aggSchema": [],
       "aggSeriesLimitReached": false,
       "aggType": "",
       "arguments": {},
       "columnCustomDisplayInfos": {},
       "data": [
        [
         "Sueli ##-CENSORED",
         "99999-9999",
         "Hoya Argos Progressive Organic 1.50 No-Risk"
        ],
        [
         "Teresinha ##-CENSORED",
         "99999-9999",
         "Hoya Hoyalux Wide Bks 1.50 No-Risk"
        ],
        [
         "Guilherme ##-CENSORED",
         "99999-9999",
         "Hoya Nulux Sportive Organic 1.50 Polarizada Hv Hard"
        ],
        [
         "Erika ##-CENSORED",
         "99999-9999",
         "Hoya Amplus Organic 1.50 Cleanextra"
        ],
        [
         "Antonio ##-CENSORED",
         "99999-9999",
         "Hoya Lente Pronta Hilux Vs Premium Organic 1.50 Bluecontrol"
        ],
        [
         "Lidia ##-CENSORED",
         "99999-9999",
         "Hoya Amplus Organic 1.50 Hv Hard"
        ],
        [
         "Denis ##-CENSORED",
         "99999-9999",
         "Hoya Lente Pronta Hilux Vs Premium Organic 1.50 Bluecontrol"
        ],
        [
         "Yhasmin ##-CENSORED",
         "99999-9999",
         "Hoya Lente Pronta Hilux Pnx Trivex Hv Longlife"
        ],
        [
         "Bruna ##-CENSORED",
         "99999-9999",
         "Hoya Amplus Organic 1.50 Cleanextra"
        ],
        [
         "Angela ##-CENSORED",
         "99999-9999",
         "Hoya Lente Pronta Nulux Eynoa 1.67 Hv Meiryo"
        ],
        [
         "Vinicius ##-CENSORED",
         "99999-9999",
         "Hoya Lente Pronta Nulux Eynoa 1.67 Hv Meiryo"
        ],
        [
         "Maria ##-CENSORED",
         "99999-9999",
         "Hoya Amplus Organic 1.50 Cleanextra"
        ],
        [
         "Charles ##-CENSORED",
         "99999-9999",
         "Hoya Argos Progressive Pnx Trivex No-Risk Bluecontrol"
        ],
        [
         "Olga ##-CENSORED",
         "99999-9999",
         "Hoya Amplus Poli Cleanextra"
        ],
        [
         "Maria ##-CENSORED",
         "99999-9999",
         "Hoya Lente Pronta Hilux Vs Premium Organic 1.50 Bluecontrol"
        ],
        [
         "Maura ##-CENSORED",
         "99999-9999",
         "Hoya Hoyalux Wide Bks 1.50 Cleanextra"
        ],
        [
         "Eudete ##-CENSORED",
         "99999-9999",
         "Hoya Amplus Organic 1.50 Cleanextra"
        ],
        [
         "Washington ##-CENSORED",
         "99999-9999",
         "Hoya Lente Pronta Nulux Eynoa 1.67 Hv Meiryo"
        ],
        [
         "Angela ##-CENSORED",
         "99999-9999",
         "Hoya Amplus Organic 1.50 Cleanextra"
        ],
        [
         "Leandro ##-CENSORED",
         "99999-9999",
         "Hoya Lente Pronta Hilux Pnx Trivex Hv Aqua"
        ],
        [
         "Carina ##-CENSORED",
         "99999-9999",
         "Hoya Lente Pronta Hilux Vs Premium Organic 1.50 Bluecontrol"
        ],
        [
         "Renata ##-CENSORED",
         "99999-9999",
         "Hoya Vs Surfaçada Hilux Organic 1.50 Sensity 2 Cleanextra"
        ],
        [
         "Eliete ##-CENSORED",
         "99999-9999",
         "Hoya Amplus Organic 1.50 Cleanextra"
        ],
        [
         "Fabiano ##-CENSORED",
         "99999-9999",
         "Hoya Lente Pronta Hilux Vs Premium Organic 1.50 Bluecontrol"
        ],
        [
         "Marileide ##-CENSORED",
         "99999-9999",
         "Hoya Amplus Organic 1.50 Cleanextra"
        ],
        [
         "Marco ##-CENSORED",
         "99999-9999",
         "Hoya Argos Progressive Organic 1.50 Sensity 2 Cleanextra"
        ],
        [
         "Edleide ##-CENSORED",
         "99999-9999",
         "Hoya Amplus Organic 1.50 Cleanextra"
        ],
        [
         "Bianca ##-CENSORED",
         "99999-9999",
         "Hoya Lente Pronta Ultrax Poli Hard"
        ],
        [
         "Leonardo ##-CENSORED",
         "99999-9999",
         "Hoya Lente Pronta Hilux Vs Premium Organic 1.50 Bluecontrol"
        ],
        [
         "Miriane ##-CENSORED",
         "99999-9999",
         "Hoya Lente Pronta Hilux Vs Premium Organic 1.50 Bluecontrol"
        ],
        [
         "Maria ##-CENSORED",
         "99999-9999",
         "Hoya Amplus Organic 1.50 Cleanextra"
        ],
        [
         "Luis ##-CENSORED",
         "99999-9999",
         "Hoya Lente Pronta Nulux Eynoa 1.67 Hv Meiryo"
        ],
        [
         "Ligia ##-CENSORED",
         "99999-9999",
         "Hoya Lente Pronta Hilux Pnx Trivex Hv Aqua"
        ],
        [
         "Rosana ##-CENSORED",
         "99999-9999",
         "Hoya Amplus Organic 1.50 Cleanextra"
        ],
        [
         "Jose ##-CENSORED",
         "99999-9999",
         "Hoya Vs Surfaçada Nulux Eynoa 1.67 No-Risk Bluecontrol"
        ],
        [
         "Marcelo ##-CENSORED",
         "99999-9999",
         "Hoya Amplus Organic 1.50 Cleanextra"
        ],
        [
         "Carolina ##-CENSORED",
         "99999-9999",
         "Hoya Hoyalux Wide Pro Bks 1.50 Bluecontrol"
        ],
        [
         "Ana ##-CENSORED",
         "99999-9999",
         "Hoya Amplus Organic 1.50 No-Risk Bluecontrol"
        ],
        [
         "Jeniffer ##-CENSORED",
         "99999-9999",
         "Hoya Lente Pronta Hilux Vs Premium Organic 1.50 Bluecontrol"
        ],
        [
         "Wilson ##-CENSORED",
         "99999-9999",
         "Hoya Amplus Pnx Trivex No-Risk"
        ],
        [
         "Fabricio ##-CENSORED",
         "99999-9999",
         "Hoya Vs Surfaçada Hilux Organic 1.50 Cleanextra"
        ],
        [
         "Leila ##-CENSORED",
         "99999-9999",
         "Hoya Amplus Organic 1.50 Cleanextra"
        ],
        [
         "Eda ##-CENSORED",
         "99999-9999",
         "Hoya Amplus Organic 1.50 Cleanextra"
        ],
        [
         "Laura ##-CENSORED",
         "99999-9999",
         "Hoya Lente Pronta Hilux Vs Premium Organic 1.50 Bluecontrol"
        ],
        [
         "Lourival ##-CENSORED",
         "99999-9999",
         "Hoya Amplus Organic 1.50 Cleanextra"
        ],
        [
         "Gustavo ##-CENSORED",
         "99999-9999",
         "Hoya Lente Pronta Hilux Vs Premium Organic 1.50 Bluecontrol"
        ],
        [
         "Renata ##-CENSORED",
         "99999-9999",
         "Hoya Amplus Organic 1.50 Cleanextra"
        ],
        [
         "Alexandre ##-CENSORED",
         "99999-9999",
         "Hoya Hoyalux Wide Bks Trivex No-Risk Bc"
        ],
        [
         "Laura ##-CENSORED",
         "99999-9999",
         "Hoya Lente Pronta Hilux Organic 1.50 Hv Aqua"
        ],
        [
         "Luis ##-CENSORED",
         "99999-9999",
         "Hoya Amplus Organic 1.50 No-Risk"
        ],
        [
         "Monica ##-CENSORED",
         "99999-9999",
         "Hoya Sync III Organic 1.50 No-Risk Bluecontrol"
        ],
        [
         "Beatriz ##-CENSORED",
         "99999-9999",
         "Hoya Vs Surfaçada Nulux Eynoa 1.67 No-Risk Bluecontrol"
        ],
        [
         "Karina ##-CENSORED",
         "99999-9999",
         "Hoya Lente Pronta Hilux Vs Premium Organic 1.50 Bluecontrol"
        ],
        [
         "Gilda ##-CENSORED",
         "99999-9999",
         "Hoya Amplus Poli No-Risk Bluecontrol"
        ],
        [
         "Cleide ##-CENSORED",
         "99999-9999",
         "Hoya Argos Progressive Organic 1.50 Cleanextra"
        ],
        [
         "Ricardo ##-CENSORED",
         "99999-9999",
         "Hoya Hoyalux Wide Pro Bks 1.50 No-Risk Bc"
        ],
        [
         "Ana ##-CENSORED",
         "99999-9999",
         "Hoya Sync III Organic 1.50 No-Risk Bluecontrol"
        ],
        [
         "Roberta ##-CENSORED",
         "99999-9999",
         "Hoya Sync III Poli No-Risk Bluecontrol"
        ],
        [
         "Claudia ##-CENSORED",
         "99999-9999",
         "Hoya Sync III Organic 1.50 No-Risk Bluecontrol"
        ],
        [
         "Bianca ##-CENSORED",
         "99999-9999",
         "Hoya Lente Pronta Hilux Vs Premium Organic 1.50 Bluecontrol"
        ],
        [
         "Vilma ##-CENSORED",
         "99999-9999",
         "Hoya Amplus Organic 1.50 No-Risk"
        ],
        [
         "Elisangela ##-CENSORED",
         "99999-9999",
         "Hoya Sync III Pnx Trivex Hv Longlife Bluecontrol"
        ],
        [
         "Eduardo ##-CENSORED",
         "99999-9999",
         "Hoya Vs Surfaçada Hilux Organic 1.50 Sensity 2 Cleanextra"
        ],
        [
         "Lucas ##-CENSORED",
         "99999-9999",
         "Hoya Lente Pronta Hilux Vs Premium Organic 1.50 Bluecontrol"
        ],
        [
         "Renan ##-CENSORED",
         "99999-9999",
         "Hoya Lente Pronta Hilux Vs Premium Organic 1.50 Bluecontrol"
        ],
        [
         "Solange ##-CENSORED",
         "99999-9999",
         "Hoya Argos Progressive Organic 1.50 No-Risk"
        ],
        [
         "Fabiana ##-CENSORED",
         "99999-9999",
         "Hoya Lente Pronta Hilux Vs Premium Organic 1.50 Bluecontrol"
        ],
        [
         "Erika ##-CENSORED",
         "99999-9999",
         "Hoya Sync III Organic 1.50 No-Risk Bluecontrol"
        ],
        [
         "Fernando ##-CENSORED",
         "99999-9999",
         "Hoya Amplus Organic 1.50 Cleanextra"
        ],
        [
         "Elisangela ##-CENSORED",
         "99999-9999",
         "Hoya Sync III Organic 1.50 Hv Longlife Bluecontrol"
        ],
        [
         "Vanessa ##-CENSORED",
         "99999-9999",
         "Hoya Sync III Pnx Trivex Sensity 2 No-Risk Bluecontrol"
        ],
        [
         "Valdivia ##-CENSORED",
         "99999-9999",
         "Hoya Amplus Organic 1.50 Cleanextra"
        ],
        [
         "Ingrid ##-CENSORED",
         "99999-9999",
         "Hoya Amplus Organic 1.50 No-Risk"
        ],
        [
         "Telma ##-CENSORED",
         "99999-9999",
         "Hoya Sync III Organic 1.50 Sensity 2 No-Risk Bluecontrol"
        ],
        [
         "Cibele ##-CENSORED",
         "99999-9999",
         "Hoya Hoyalux Id Lifestyle V+ 1.50 Bluecontrol"
        ],
        [
         "Maria ##-CENSORED",
         "99999-9999",
         "Hoya Lente Pronta Hilux Vs Premium Organic 1.50 Bluecontrol"
        ],
        [
         "Carla ##-CENSORED",
         "99999-9999",
         "Hoya Sync III Organic 1.50 No-Risk Bluecontrol"
        ],
        [
         "Julio ##-CENSORED",
         "99999-9999",
         "Hoya Sync III Pnx Trivex No-Risk Bluecontrol"
        ],
        [
         "Jaqueline ##-CENSORED",
         "99999-9999",
         "Hoya Lente Pronta Nulux Eynoa 1.67 Hv Meiryo"
        ],
        [
         "Claudia ##-CENSORED",
         "99999-9999",
         "Hoya Sync III Organic 1.50 Hv Longlife Bluecontrol"
        ],
        [
         "José ##-CENSORED",
         "99999-9999",
         "Hoya Argos Progressive Poli No-Risk"
        ],
        [
         "Barbara ##-CENSORED",
         "99999-9999",
         "Hoya Lente Pronta Nulux Eynoa 1.67 Hv Meiryo"
        ],
        [
         "Eudete ##-CENSORED",
         "99999-9999",
         "Hoya Argos Progressive Organic 1.50 No-Risk"
        ],
        [
         "Priscila ##-CENSORED",
         "99999-9999",
         "Hoya Lente Pronta Hilux Vs Premium Organic 1.50 Bluecontrol"
        ],
        [
         "Ronald ##-CENSORED",
         "99999-9999",
         "Hoya Sync III Organic 1.50 Hv Longlife Bluecontrol"
        ],
        [
         "Cristina ##-CENSORED",
         "99999-9999",
         "Hoya Argos Progressive Eyas 2.0 1.60 No-Risk"
        ],
        [
         "Juliana ##-CENSORED",
         "99999-9999",
         "Hoya Sync III Organic 1.50 Hv Longlife Bluecontrol"
        ],
        [
         "Luciana ##-CENSORED",
         "99999-9999",
         "Hoya Vs Surfaçada Hilux Organic 1.50 No-Risk Bluecontrol"
        ],
        [
         "Vera ##-CENSORED",
         "99999-9999",
         "Hoya Argos Progressive Poli No-Risk"
        ],
        [
         "Gabriel ##-CENSORED",
         "99999-9999",
         "Hoya Lente Pronta Hilux Vs Premium Organic 1.50 Bluecontrol"
        ],
        [
         "Renata ##-CENSORED",
         "99999-9999",
         "Hoya Argos Progressive Organic 1.50 Hv Hard"
        ],
        [
         "Bruna ##-CENSORED",
         "99999-9999",
         "Hoya Visão Simples Dobro"
        ],
        [
         "Francisco ##-CENSORED",
         "99999-9999",
         "Hoya Argos Progressive Organic 1.50 No-Risk"
        ],
        [
         "Juraci ##-CENSORED",
         "99999-9999",
         "Hoya Argos Progressive Pnx Trivex Hv Hard"
        ],
        [
         "Ana ##-CENSORED",
         "99999-9999",
         "Hoya Argos Progressive Organic 1.50 No-Risk Bluecontrol"
        ],
        [
         "Egle ##-CENSORED",
         "99999-9999",
         "Hoya Sync III Pnx Trivex Hv Longlife Bluecontrol"
        ],
        [
         "Tereza ##-CENSORED",
         "99999-9999",
         "Hoya Argos Progressive Organic 1.50 No-Risk Bluecontrol"
        ],
        [
         "Rute ##-CENSORED",
         "99999-9999",
         "Hoya Hoyalux Wide Bks 1.67 No-Risk Bc"
        ],
        [
         "Elder ##-CENSORED",
         "99999-9999",
         "Hoya Argos Progressive Organic 1.50 No-Risk Bluecontrol"
        ],
        [
         "Messias ##-CENSORED",
         "99999-9999",
         "Hoya Sync III Organic 1.50 Sensity 2 No-Risk Bluecontrol"
        ],
        [
         "Eliana ##-CENSORED",
         "99999-9999",
         "Hoya Hoyalux Wide Bks 1.50 No-Risk Bc"
        ],
        [
         "Eliete ##-CENSORED",
         "99999-9999",
         "Hoya Argos Progressive Organic 1.50 Cleanextra"
        ],
        [
         "Bruna ##-CENSORED",
         "99999-9999",
         "Hoya Lente Pronta Hilux Vs Premium Organic 1.50 Bluecontrol"
        ],
        [
         "Alexandre ##-CENSORED",
         "99999-9999",
         "Hoya Argos Progressive Organic 1.50 Cleanextra"
        ],
        [
         "Janice ##-CENSORED",
         "99999-9999",
         "Hoya Amplus Organic 1.50 Hv Hard"
        ],
        [
         "Antonio ##-CENSORED",
         "99999-9999",
         "Hoya Sync III Eynoa 1.67 Hv Longlife Blue Control"
        ],
        [
         "Lucas ##-CENSORED",
         "99999-9999",
         "Hoya Lente Pronta Hilux Vs Premium Organic 1.50 Bluecontrol"
        ],
        [
         "Claudia ##-CENSORED",
         "99999-9999",
         "Hoya Hoyalux Wide Pro Bks 1.50 Cleanextra"
        ],
        [
         "Isabel ##-CENSORED",
         "99999-9999",
         "Hoya Sync III Organic 1.50 Hv Longlife Bluecontrol"
        ],
        [
         "Aline ##-CENSORED",
         "99999-9999",
         "Hoya Lente Pronta Hilux Vs Premium Organic 1.50 Bluecontrol"
        ],
        [
         "Camila ##-CENSORED",
         "99999-9999",
         "Hoya Lente Pronta Hilux Vs Premium Organic 1.50 Bluecontrol"
        ],
        [
         "Vagner ##-CENSORED",
         "99999-9999",
         "Hoya Sync III Organic 1.50 Hv Longlife Bluecontrol"
        ],
        [
         "Fabiana ##-CENSORED",
         "99999-9999",
         "Hoya Lente Pronta Hilux Vs Premium Organic 1.50 Bluecontrol"
        ],
        [
         "Debora ##-CENSORED",
         "99999-9999",
         "Hoya Sync III Organic 1.50 No-Risk Bluecontrol"
        ],
        [
         "Danielle ##-CENSORED",
         "99999-9999",
         "Hoya Lente Pronta Hilux Vs Premium Organic 1.50 Bluecontrol"
        ],
        [
         "Adriano ##-CENSORED",
         "99999-9999",
         "Hoya Lente Pronta Hilux Vs Premium Organic 1.50 Bluecontrol"
        ],
        [
         "Fernanda ##-CENSORED",
         "99999-9999",
         "Hoya Argos Progressive Poli No-Risk Bluecontrol"
        ],
        [
         "Vanilda ##-CENSORED",
         "99999-9999",
         "Hoya Hoyalux Wide Vxt 1.50 No-Risk Bc"
        ],
        [
         "Daniel ##-CENSORED",
         "99999-9999",
         "Hoya Lente Pronta Hilux Vs Premium Organic 1.50 Bluecontrol"
        ],
        [
         "Willians ##-CENSORED",
         "99999-9999",
         "Hoya Sync III Organic 1.50 Hv Longlife Bluecontrol"
        ],
        [
         "Wilson ##-CENSORED",
         "99999-9999",
         "Hoya Argos Progressive Organic 1.50 Cleanextra"
        ],
        [
         "Alceni ##-CENSORED",
         "99999-9999",
         "Hoya Argos Progressive Organic 1.50 Hv Hard"
        ],
        [
         "Adriano ##-CENSORED",
         "99999-9999",
         "Hoya Lente Pronta Hilux Vs Premium Organic 1.50 Bluecontrol"
        ],
        [
         "Marcolino ##-CENSORED",
         "99999-9999",
         "Hoya Argos Progressive Organic 1.50 No-Risk Bluecontrol"
        ],
        [
         "Tania ##-CENSORED",
         "99999-9999",
         "Hoya Argos Progressive Organic 1.50 No-Risk"
        ],
        [
         "Renata ##-CENSORED",
         "99999-9999",
         "Hoya Lente Pronta Nulux Eynoa 1.67 Hv Meiryo"
        ],
        [
         "Sophia ##-CENSORED",
         "99999-9999",
         "Hoya Lente Pronta Nulux Eynoa 1.67 Hv Meiryo"
        ],
        [
         "Elaine ##-CENSORED",
         "99999-9999",
         "Hoya Lente Pronta Nulux Eynoa 1.67 Hv Meiryo"
        ],
        [
         "Luciene ##-CENSORED",
         "99999-9999",
         "Hoya Sync III Organic 1.50 Hv Longlife Bluecontrol"
        ],
        [
         "Marcolino ##-CENSORED",
         "99999-9999",
         "Hoya Argos Progressive Poli No-Risk"
        ],
        [
         "Jafferson ##-CENSORED",
         "99999-9999",
         "Hoya Sync III Pnx Trivex Hv Longlife Bluecontrol"
        ],
        [
         "Roberto ##-CENSORED",
         "99999-9999",
         "Hoya Sync III Poli No-Risk Bluecontrol"
        ],
        [
         "Gustavo ##-CENSORED",
         "99999-9999",
         "Hoya Lente Pronta Hilux Pnx Trivex Hv Aqua"
        ],
        [
         "Fabricio ##-CENSORED",
         "99999-9999",
         "Hoya Sync III Organic 1.50 No-Risk Bluecontrol"
        ],
        [
         "Aldilene ##-CENSORED",
         "99999-9999",
         "Hoya Sync III Organic 1.50 No-Risk Bluecontrol"
        ],
        [
         "Ingrid ##-CENSORED",
         "99999-9999",
         "Hoya Visão Simples Dobro"
        ],
        [
         "Rodrigo ##-CENSORED",
         "99999-9999",
         "Hoya Vs Surfaçada Nulux Trueform Pnx Trivex Sensity 2 Cleanextra"
        ],
        [
         "Antonio ##-CENSORED",
         "99999-9999",
         "Hoya Sync III Organic 1.50 No-Risk Bluecontrol"
        ],
        [
         "Rosana ##-CENSORED",
         "99999-9999",
         "Hoya Argos Progressive Organic 1.50 No-Risk Bluecontrol"
        ],
        [
         "Kelly ##-CENSORED",
         "99999-9999",
         "Hoya Hoyalux Wide Bks 1.50 No-Risk Bc"
        ],
        [
         "Allana ##-CENSORED",
         "99999-9999",
         "Hoya Lente Pronta Hilux Vs Premium Pnx Trivex Bluecontrol"
        ],
        [
         "Adriana ##-CENSORED",
         "99999-9999",
         "Hoya Sync III Poli No-Risk Bluecontrol"
        ],
        [
         "Andrea ##-CENSORED",
         "99999-9999",
         "Hoya Visão Simples Dobro"
        ],
        [
         "Gabriele ##-CENSORED",
         "99999-9999",
         "Hoya Lente Pronta Ultrax Poli Aqua"
        ],
        [
         "Natalia ##-CENSORED",
         "99999-9999",
         "Hoya Lente Pronta Hilux Vs Premium Organic 1.50 Bluecontrol"
        ],
        [
         "Clarice ##-CENSORED",
         "99999-9999",
         "Hoya Sync III Organic 1.50 No-Risk Bluecontrol"
        ],
        [
         "Maria ##-CENSORED",
         "99999-9999",
         "Hoya Amplus Organic 1.50 Sensity 2 No-Risk"
        ],
        [
         "Fabio ##-CENSORED",
         "99999-9999",
         "Hoya Sync III Organic 1.50 No-Risk Bluecontrol"
        ],
        [
         "Fabiana ##-CENSORED",
         "99999-9999",
         "Hoya Sync III Organic 1.50 No-Risk Bluecontrol"
        ],
        [
         "Maria ##-CENSORED",
         "99999-9999",
         "Hoya Lente Pronta Nulux Eynoa 1.67 Hv Meiryo"
        ],
        [
         "Giovaldo ##-CENSORED",
         "99999-9999",
         "Hoya Sync III Organic 1.50 No-Risk Bluecontrol"
        ],
        [
         "Sandra ##-CENSORED",
         "99999-9999",
         "Hoya Argos Progressive Organic 1.50 No-Risk"
        ],
        [
         "Adriana ##-CENSORED",
         "99999-9999",
         "Hoya Sync III Organic 1.50 No-Risk Bluecontrol"
        ],
        [
         "Claudia ##-CENSORED",
         "99999-9999",
         "Hoya Sync III Organic 1.50 No-Risk Bluecontrol"
        ],
        [
         "Adriana ##-CENSORED",
         "99999-9999",
         "Hoya Sync III Organic 1.50 Hv Longlife Bluecontrol"
        ],
        [
         "Vera ##-CENSORED",
         "99999-9999",
         "Hoya Hoyalux Wide Bks 1.50 Bluecontrol"
        ],
        [
         "Patricia ##-CENSORED",
         "99999-9999",
         "Hoya Argos Progressive Organic 1.50 No-Risk"
        ],
        [
         "Silvia ##-CENSORED",
         "99999-9999",
         "Hoya Sync III Organic 1.50 No-Risk Bluecontrol"
        ],
        [
         "Marcelo ##-CENSORED",
         "99999-9999",
         "Hoya Sync III Organic 1.50 No-Risk Bluecontrol"
        ],
        [
         "Paulo ##-CENSORED",
         "99999-9999",
         "Hoya Sync III Organic 1.50 Hv Longlife Bluecontrol"
        ],
        [
         "Maria ##-CENSORED",
         "99999-9999",
         "Hoya Lente Pronta Nulux Eynoa 1.67 Hv Meiryo"
        ],
        [
         "Wilson ##-CENSORED",
         "99999-9999",
         "Hoya Sync III Organic 1.50 No-Risk Bluecontrol"
        ],
        [
         "Vanessa ##-CENSORED",
         "99999-9999",
         "Hoya Sync III Organic 1.50 No-Risk Bluecontrol"
        ],
        [
         "Aline ##-CENSORED",
         "99999-9999",
         "Hoya Sync III Eyas 2.0 1.60 No-Risk Bluecontrol"
        ],
        [
         "Maria ##-CENSORED",
         "99999-9999",
         "Hoya Visão Simples Dobro"
        ],
        [
         "Egle ##-CENSORED",
         "99999-9999",
         "Hoya Sync III Organic 1.50 Hv Longlife Bluecontrol"
        ],
        [
         "Fabio ##-CENSORED",
         "99999-9999",
         "Hoya Sync III Organic 1.50 Hv Longlife Bluecontrol"
        ],
        [
         "Enzo ##-CENSORED",
         "99999-9999",
         "Hoya Lente Pronta Nulux Eynoa 1.67 Hv Meiryo"
        ],
        [
         "Andreza ##-CENSORED",
         "99999-9999",
         "Hoya Sync III Organic 1.50 Hv Longlife Bluecontrol"
        ],
        [
         "Cleber ##-CENSORED",
         "99999-9999",
         "Hoya Vs Surfaçada Nulux Identity V+ Eynoa 1.67 Sensity 2 Hv Longlife Uvcontrol"
        ],
        [
         "Alex ##-CENSORED",
         "99999-9999",
         "Hoya Sync III Organic 1.50 No-Risk Bluecontrol"
        ],
        [
         "Vagner ##-CENSORED",
         "99999-9999",
         "Hoya Sync III Organic 1.50 No-Risk Bluecontrol"
        ],
        [
         "Eduardo ##-CENSORED",
         "99999-9999",
         "Hoya Miyosmart Poli"
        ],
        [
         "Eliane ##-CENSORED",
         "99999-9999",
         "Hoya Visão Simples Dobro"
        ],
        [
         "Eli ##-CENSORED",
         "99999-9999",
         "Hoya Lente Pronta Nulux Eynoa 1.67 Hv Meiryo"
        ],
        [
         "Simone ##-CENSORED",
         "99999-9999",
         "Hoya Sync III Organic 1.50 No-Risk Bluecontrol"
        ],
        [
         "Alessandra ##-CENSORED",
         "99999-9999",
         "Hoya Sync III Organic 1.50 No-Risk Bluecontrol"
        ],
        [
         "Tamires ##-CENSORED",
         "99999-9999",
         "Hoya Lente Pronta Nulux Eynoa 1.67 Hv Meiryo"
        ],
        [
         "Cleber ##-CENSORED",
         "99999-9999",
         "Hoya Visão Simples Dobro"
        ],
        [
         "Eliane ##-CENSORED",
         "99999-9999",
         "Hoya Sync III Organic 1.50 Hv Longlife Bluecontrol"
        ],
        [
         "Claudia ##-CENSORED",
         "99999-9999",
         "Hoya Visão Simples Dobro"
        ],
        [
         "Anabele ##-CENSORED",
         "99999-9999",
         "Hoya Lente Pronta Nulux Eynoa 1.67 Hv Meiryo"
        ],
        [
         "Daniel ##-CENSORED",
         "99999-9999",
         "Hoya Sync III Organic 1.50 No-Risk Bluecontrol"
        ],
        [
         "Daniel ##-CENSORED",
         "99999-9999",
         "Hoya Lente Pronta Nulux Eynoa 1.67 Hv Meiryo"
        ],
        [
         "Claudia ##-CENSORED",
         "99999-9999",
         "Hoya Sync III Organic 1.50 Hv Longlife Bluecontrol"
        ],
        [
         "Evandro ##-CENSORED",
         "99999-9999",
         "Hoya Sync III Organic 1.50 Hv Longlife Bluecontrol"
        ],
        [
         "Maria ##-CENSORED",
         "99999-9999",
         "Hoya Argos Progressive Organic 1.50 Sensity Original No-Risk Bluecontrol"
        ],
        [
         "Josilda ##-CENSORED",
         "99999-9999",
         "Hoya Sync III Organic 1.50 No-Risk Bluecontrol"
        ],
        [
         "Mayara ##-CENSORED",
         "99999-9999",
         "Hoya Lente Pronta Nulux Eynoa 1.67 Hv Meiryo"
        ],
        [
         "Thiago ##-CENSORED",
         "99999-9999",
         "Hoya Sync III Organic 1.50 No-Risk Bluecontrol"
        ],
        [
         "Mayara ##-CENSORED",
         "99999-9999",
         "Hoya Visão Simples Dobro"
        ],
        [
         "Gabriela ##-CENSORED",
         "99999-9999",
         "Hoya Lente Pronta Nulux Eynoa 1.67 Hv Meiryo"
        ],
        [
         "Allan ##-CENSORED",
         "99999-9999",
         "Hoya Sync III Organic 1.50 Sensity 2 Hv Longlife Bluecontrol"
        ],
        [
         "Mirella ##-CENSORED",
         "99999-9999",
         "Hoya Sync III Organic 1.50 No-Risk Bluecontrol"
        ],
        [
         "Patricia ##-CENSORED",
         "99999-9999",
         "Hoya Sync III Organic 1.50 No-Risk Bluecontrol"
        ],
        [
         "Lucia ##-CENSORED",
         "99999-9999",
         "Hoya Sync III Organic 1.50 No-Risk Bluecontrol"
        ],
        [
         "Aline ##-CENSORED",
         "99999-9999",
         "Hoya Lente Pronta Nulux Eynoa 1.67 Hv Meiryo"
        ],
        [
         "Ana ##-CENSORED",
         "99999-9999",
         "Hoya Visão Simples Dobro"
        ],
        [
         "Allan ##-CENSORED",
         "99999-9999",
         "Hoya Visão Simples Dobro"
        ],
        [
         "Simone ##-CENSORED",
         "99999-9999",
         "Hoya Sync III Organic 1.50 No-Risk Bluecontrol"
        ],
        [
         "Maria ##-CENSORED",
         "99999-9999",
         "Hoya Visão Simples Dobro"
        ],
        [
         "Sheila ##-CENSORED",
         "99999-9999",
         "Hoya Argos Progressive Organic 1.50 No-Risk Bluecontrol"
        ],
        [
         "Ana ##-CENSORED",
         "99999-9999",
         "Hoya Lente Pronta Nulux Eynoa 1.67 Hv Meiryo"
        ],
        [
         "Ana ##-CENSORED",
         "99999-9999",
         "Hoya Sync III Organic 1.50 Hv Longlife Bluecontrol"
        ],
        [
         "Fatima ##-CENSORED",
         "99999-9999",
         "Hoya Lente Pronta Nulux Eynoa 1.67 Hv Meiryo"
        ],
        [
         "Cibele ##-CENSORED",
         "99999-9999",
         "Hoya Hoyalux Id Lifestyle 3 Organic 1.50 Hv Longlife Bluecontrol"
        ],
        [
         "Paulo ##-CENSORED",
         "99999-9999",
         "Hoya Sync III Organic 1.50 No-Risk Bluecontrol"
        ],
        [
         "Maria ##-CENSORED",
         "99999-9999",
         "Hoya Sync III Organic 1.50 No-Risk Bluecontrol"
        ],
        [
         "Gislaine ##-CENSORED",
         "99999-9999",
         "Hoya Sync III Organic 1.50 No-Risk Bluecontrol"
        ],
        [
         "Donizete ##-CENSORED",
         "99999-9999",
         "Hoya Sync III Organic 1.50 Hv Longlife Bluecontrol"
        ],
        [
         "Donizete ##-CENSORED",
         "99999-9999",
         "Hoya Visão Simples Dobro"
        ],
        [
         "Maria ##-CENSORED",
         "99999-9999",
         "Hoya Sync III Organic 1.50 Hv Longlife Bluecontrol"
        ],
        [
         "Rita ##-CENSORED",
         "99999-9999",
         "Hoya Sync III Organic 1.50 No-Risk Bluecontrol"
        ],
        [
         "Davi ##-CENSORED",
         "99999-9999",
         "Hoya Lente Pronta Nulux Eynoa 1.67 Hv Meiryo"
        ],
        [
         "Marlene ##-CENSORED",
         "99999-9999",
         "Hoya Sync III Organic 1.50 No-Risk Bluecontrol"
        ],
        [
         "Barbara ##-CENSORED",
         "99999-9999",
         "Hoya Lente Pronta Nulux Eynoa 1.67 Hv Meiryo"
        ]
       ],
       "datasetInfos": [],
       "dbfsResultPath": null,
       "isJsonSchema": true,
       "metadata": {},
       "overflow": false,
       "plotOptions": {
        "customPlotOptions": {},
        "displayType": "table",
        "pivotAggregation": null,
        "pivotColumns": null,
        "xColumns": null,
        "yColumns": null
       },
       "removedWidgets": [],
       "schema": [
        {
         "metadata": "{}",
         "name": "Cliente",
         "type": "\"string\""
        },
        {
         "metadata": "{}",
         "name": "Telefones",
         "type": "\"string\""
        },
        {
         "metadata": "{}",
         "name": "Item_Descricao",
         "type": "\"string\""
        }
       ],
       "type": "table"
      }
     },
     "output_type": "display_data"
    }
   ],
   "source": [
    "%sql\n",
    "-- 'Hoya Customers that bought before 2024 with valid contact number' -- ### Hidding sensitive information for GitHub purpose ###\n",
    "\n",
    "SELECT\n",
    "  CONCAT(SPLIT(`Cliente`, ' ')[0], ' ##-CENSORED') AS Cliente,\n",
    "  '99999-9999' AS Telefones,\n",
    "  `Item_Descricao`\n",
    "FROM hoya_customers_campaign\n"
   ]
  },
  {
   "cell_type": "code",
   "execution_count": 0,
   "metadata": {
    "application/vnd.databricks.v1+cell": {
     "cellMetadata": {},
     "inputWidgets": {},
     "nuid": "a9a23967-4160-40b5-85fe-c151bf1e0600",
     "showTitle": false,
     "title": ""
    }
   },
   "outputs": [],
   "source": []
  }
 ],
 "metadata": {
  "application/vnd.databricks.v1+notebook": {
   "dashboards": [],
   "environmentMetadata": null,
   "language": "python",
   "notebookMetadata": {
    "pythonIndentUnit": 4
   },
   "notebookName": "Hoya Campaign - SBC",
   "widgets": {}
  }
 },
 "nbformat": 4,
 "nbformat_minor": 0
}
