{
 "cells": [
  {
   "cell_type": "markdown",
   "metadata": {
    "application/vnd.databricks.v1+cell": {
     "cellMetadata": {},
     "inputWidgets": {},
     "nuid": "e4ca9750-72ce-4cb6-8d1b-b816292f6634",
     "showTitle": false,
     "title": ""
    }
   },
   "source": [
    "## Hoya Campaign for Ótica Holy Glassses\n",
    "\n",
    "## \n",
    "\n",
    "#### Main objective: Get all customers that bought Hoya products before 2024."
   ]
  },
  {
   "cell_type": "code",
   "execution_count": 0,
   "metadata": {
    "application/vnd.databricks.v1+cell": {
     "cellMetadata": {
      "byteLimit": 2048000,
      "rowLimit": 10000
     },
     "inputWidgets": {},
     "nuid": "a80e9922-a4a2-45b0-ab62-181a978a9c35",
     "showTitle": false,
     "title": ""
    }
   },
   "outputs": [],
   "source": [
    "%python\n",
    "\n",
    "# Using Python to get the most updated sales file path\n",
    "\n",
    "all_files = dbutils.fs.ls('dbfs:/FileStore/tables/')\n",
    "sales_files = [file for file in all_files if file.name.startswith('exportacao_venda')]\n",
    "sales_files = sorted(sales_files, key=lambda file: file.modificationTime, reverse=True)\n",
    "last_file = sales_files[0].path\n",
    "last_file\n",
    "\n",
    "# Using PySpark to create the DataFrame using necessary encoding\n",
    "df = spark.read.csv(last_file, inferSchema=True, header=True, encoding='latin1')\n",
    "\n",
    "# Transforming to pandas to use ffill method\n",
    "df_pandas = df.toPandas()\n",
    "df_pandas.fillna(method='ffill', inplace=True)\n",
    "\n",
    "# Getting back to PySpark\n",
    "df = spark.createDataFrame(df_pandas)\n",
    "\n",
    "# Creating table to use SQL\n",
    "df.createOrReplaceTempView('hoya_campaign')"
   ]
  },
  {
   "cell_type": "code",
   "execution_count": 0,
   "metadata": {
    "application/vnd.databricks.v1+cell": {
     "cellMetadata": {
      "byteLimit": 2048000,
      "rowLimit": 10000
     },
     "inputWidgets": {},
     "nuid": "285b4e72-b94f-4d82-b559-d0f0749b618a",
     "showTitle": false,
     "title": ""
    }
   },
   "outputs": [],
   "source": [
    "%sql\n",
    "-- 'Hoya Customers that bought before 2024 with valid contact number'\n",
    "\n",
    "SELECT DISTINCT `Cliente`, `Telefones`, `Item - Descrição`\n",
    "FROM hoya_campaign\n",
    "  WHERE `Item - Descrição` LIKE '%Hoya%'\n",
    "    AND YEAR(to_timestamp(`Data`, 'dd/MM/yyyy HH:mm')) != 2024\n",
    "    AND `Telefones`!= '--- Telefone não informado ---'"
   ]
  },
  {
   "cell_type": "code",
   "execution_count": 0,
   "metadata": {
    "application/vnd.databricks.v1+cell": {
     "cellMetadata": {
      "byteLimit": 2048000,
      "rowLimit": 10000
     },
     "inputWidgets": {},
     "nuid": "596c1aa6-254f-4e57-a5a0-ce7fbbcdaffc",
     "showTitle": false,
     "title": ""
    }
   },
   "outputs": [
    {
     "output_type": "display_data",
     "data": {
      "text/html": [
       "<style scoped>\n",
       "  .table-result-container {\n",
       "    max-height: 300px;\n",
       "    overflow: auto;\n",
       "  }\n",
       "  table, th, td {\n",
       "    border: 1px solid black;\n",
       "    border-collapse: collapse;\n",
       "  }\n",
       "  th, td {\n",
       "    padding: 5px;\n",
       "  }\n",
       "  th {\n",
       "    text-align: left;\n",
       "  }\n",
       "</style><div class='table-result-container'><table class='table-result'><thead style='background-color: white'><tr><th>num_affected_rows</th><th>num_inserted_rows</th></tr></thead><tbody></tbody></table></div>"
      ]
     },
     "metadata": {
      "application/vnd.databricks.v1+output": {
       "addedWidgets": {},
       "aggData": [],
       "aggError": "",
       "aggOverflow": false,
       "aggSchema": [],
       "aggSeriesLimitReached": false,
       "aggType": "",
       "arguments": {},
       "columnCustomDisplayInfos": {},
       "data": [],
       "datasetInfos": [],
       "dbfsResultPath": null,
       "isJsonSchema": true,
       "metadata": {
        "isDbfsCommandResult": false
       },
       "overflow": false,
       "plotOptions": {
        "customPlotOptions": {},
        "displayType": "table",
        "pivotAggregation": null,
        "pivotColumns": null,
        "xColumns": null,
        "yColumns": null
       },
       "removedWidgets": [],
       "schema": [
        {
         "metadata": "{}",
         "name": "num_affected_rows",
         "type": "\"long\""
        },
        {
         "metadata": "{}",
         "name": "num_inserted_rows",
         "type": "\"long\""
        }
       ],
       "type": "table"
      }
     },
     "output_type": "display_data"
    }
   ],
   "source": [
    "%sql\n",
    "-- Saving results in a new table\n",
    "\n",
    "CREATE OR REPLACE TABLE hoya_customers_campaign AS\n",
    "SELECT DISTINCT `Cliente`, `Telefones`, `Item - Descrição` AS Item_Descricao\n",
    "FROM hoya_campaign\n",
    "  WHERE `Item - Descrição` LIKE '%Hoya%'\n",
    "    AND YEAR(to_timestamp(`Data`, 'dd/MM/yyyy HH:mm')) != 2024\n",
    "    AND `Telefones`!= '--- Telefone não informado ---'"
   ]
  },
  {
   "cell_type": "code",
   "execution_count": 0,
   "metadata": {
    "application/vnd.databricks.v1+cell": {
     "cellMetadata": {
      "byteLimit": 2048000,
      "rowLimit": 10000
     },
     "inputWidgets": {},
     "nuid": "1d0b9de8-4e80-4833-9c45-ef4f115da67f",
     "showTitle": false,
     "title": ""
    }
   },
   "outputs": [
    {
     "output_type": "display_data",
     "data": {
      "text/html": [
       "<style scoped>\n",
       "  .table-result-container {\n",
       "    max-height: 300px;\n",
       "    overflow: auto;\n",
       "  }\n",
       "  table, th, td {\n",
       "    border: 1px solid black;\n",
       "    border-collapse: collapse;\n",
       "  }\n",
       "  th, td {\n",
       "    padding: 5px;\n",
       "  }\n",
       "  th {\n",
       "    text-align: left;\n",
       "  }\n",
       "</style><div class='table-result-container'><table class='table-result'><thead style='background-color: white'><tr><th>Cliente</th><th>Telefones</th><th>Item_Descricao</th></tr></thead><tbody><tr><td>Sueli ##-CENSORED</td><td>99999-9999</td><td>Hoya Argos Progressive Organic 1.50 No-Risk</td></tr><tr><td>Teresinha ##-CENSORED</td><td>99999-9999</td><td>Hoya Hoyalux Wide Bks 1.50 No-Risk</td></tr><tr><td>Guilherme ##-CENSORED</td><td>99999-9999</td><td>Hoya Nulux Sportive Organic 1.50 Polarizada Hv Hard</td></tr><tr><td>Erika ##-CENSORED</td><td>99999-9999</td><td>Hoya Amplus Organic 1.50 Cleanextra</td></tr><tr><td>Antonio ##-CENSORED</td><td>99999-9999</td><td>Hoya Lente Pronta Hilux Vs Premium Organic 1.50 Bluecontrol</td></tr><tr><td>Lidia ##-CENSORED</td><td>99999-9999</td><td>Hoya Amplus Organic 1.50 Hv Hard</td></tr><tr><td>Denis ##-CENSORED</td><td>99999-9999</td><td>Hoya Lente Pronta Hilux Vs Premium Organic 1.50 Bluecontrol</td></tr><tr><td>Yhasmin ##-CENSORED</td><td>99999-9999</td><td>Hoya Lente Pronta Hilux Pnx Trivex Hv Longlife</td></tr><tr><td>Bruna ##-CENSORED</td><td>99999-9999</td><td>Hoya Amplus Organic 1.50 Cleanextra</td></tr><tr><td>Angela ##-CENSORED</td><td>99999-9999</td><td>Hoya Lente Pronta Nulux Eynoa 1.67 Hv Meiryo</td></tr><tr><td>Vinicius ##-CENSORED</td><td>99999-9999</td><td>Hoya Lente Pronta Nulux Eynoa 1.67 Hv Meiryo</td></tr><tr><td>Maria ##-CENSORED</td><td>99999-9999</td><td>Hoya Amplus Organic 1.50 Cleanextra</td></tr><tr><td>Charles ##-CENSORED</td><td>99999-9999</td><td>Hoya Argos Progressive Pnx Trivex No-Risk Bluecontrol</td></tr><tr><td>Olga ##-CENSORED</td><td>99999-9999</td><td>Hoya Amplus Poli Cleanextra</td></tr><tr><td>Maria ##-CENSORED</td><td>99999-9999</td><td>Hoya Lente Pronta Hilux Vs Premium Organic 1.50 Bluecontrol</td></tr><tr><td>Maura ##-CENSORED</td><td>99999-9999</td><td>Hoya Hoyalux Wide Bks 1.50 Cleanextra</td></tr><tr><td>Eudete ##-CENSORED</td><td>99999-9999</td><td>Hoya Amplus Organic 1.50 Cleanextra</td></tr><tr><td>Washington ##-CENSORED</td><td>99999-9999</td><td>Hoya Lente Pronta Nulux Eynoa 1.67 Hv Meiryo</td></tr><tr><td>Angela ##-CENSORED</td><td>99999-9999</td><td>Hoya Amplus Organic 1.50 Cleanextra</td></tr><tr><td>Leandro ##-CENSORED</td><td>99999-9999</td><td>Hoya Lente Pronta Hilux Pnx Trivex Hv Aqua</td></tr><tr><td>Carina ##-CENSORED</td><td>99999-9999</td><td>Hoya Lente Pronta Hilux Vs Premium Organic 1.50 Bluecontrol</td></tr><tr><td>Renata ##-CENSORED</td><td>99999-9999</td><td>Hoya Vs Surfaçada Hilux Organic 1.50 Sensity 2 Cleanextra</td></tr><tr><td>Eliete ##-CENSORED</td><td>99999-9999</td><td>Hoya Amplus Organic 1.50 Cleanextra</td></tr><tr><td>Fabiano ##-CENSORED</td><td>99999-9999</td><td>Hoya Lente Pronta Hilux Vs Premium Organic 1.50 Bluecontrol</td></tr><tr><td>Marileide ##-CENSORED</td><td>99999-9999</td><td>Hoya Amplus Organic 1.50 Cleanextra</td></tr><tr><td>Marco ##-CENSORED</td><td>99999-9999</td><td>Hoya Argos Progressive Organic 1.50 Sensity 2 Cleanextra</td></tr><tr><td>Edleide ##-CENSORED</td><td>99999-9999</td><td>Hoya Amplus Organic 1.50 Cleanextra</td></tr><tr><td>Bianca ##-CENSORED</td><td>99999-9999</td><td>Hoya Lente Pronta Ultrax Poli Hard</td></tr><tr><td>Leonardo ##-CENSORED</td><td>99999-9999</td><td>Hoya Lente Pronta Hilux Vs Premium Organic 1.50 Bluecontrol</td></tr><tr><td>Miriane ##-CENSORED</td><td>99999-9999</td><td>Hoya Lente Pronta Hilux Vs Premium Organic 1.50 Bluecontrol</td></tr><tr><td>Maria ##-CENSORED</td><td>99999-9999</td><td>Hoya Amplus Organic 1.50 Cleanextra</td></tr><tr><td>Luis ##-CENSORED</td><td>99999-9999</td><td>Hoya Lente Pronta Nulux Eynoa 1.67 Hv Meiryo</td></tr><tr><td>Ligia ##-CENSORED</td><td>99999-9999</td><td>Hoya Lente Pronta Hilux Pnx Trivex Hv Aqua</td></tr><tr><td>Rosana ##-CENSORED</td><td>99999-9999</td><td>Hoya Amplus Organic 1.50 Cleanextra</td></tr><tr><td>Jose ##-CENSORED</td><td>99999-9999</td><td>Hoya Vs Surfaçada Nulux Eynoa 1.67 No-Risk Bluecontrol</td></tr><tr><td>Marcelo ##-CENSORED</td><td>99999-9999</td><td>Hoya Amplus Organic 1.50 Cleanextra</td></tr><tr><td>Carolina ##-CENSORED</td><td>99999-9999</td><td>Hoya Hoyalux Wide Pro Bks 1.50 Bluecontrol</td></tr><tr><td>Ana ##-CENSORED</td><td>99999-9999</td><td>Hoya Amplus Organic 1.50 No-Risk Bluecontrol</td></tr><tr><td>Jeniffer ##-CENSORED</td><td>99999-9999</td><td>Hoya Lente Pronta Hilux Vs Premium Organic 1.50 Bluecontrol</td></tr><tr><td>Wilson ##-CENSORED</td><td>99999-9999</td><td>Hoya Amplus Pnx Trivex No-Risk</td></tr><tr><td>Fabricio ##-CENSORED</td><td>99999-9999</td><td>Hoya Vs Surfaçada Hilux Organic 1.50 Cleanextra</td></tr><tr><td>Leila ##-CENSORED</td><td>99999-9999</td><td>Hoya Amplus Organic 1.50 Cleanextra</td></tr><tr><td>Eda ##-CENSORED</td><td>99999-9999</td><td>Hoya Amplus Organic 1.50 Cleanextra</td></tr><tr><td>Laura ##-CENSORED</td><td>99999-9999</td><td>Hoya Lente Pronta Hilux Vs Premium Organic 1.50 Bluecontrol</td></tr><tr><td>Lourival ##-CENSORED</td><td>99999-9999</td><td>Hoya Amplus Organic 1.50 Cleanextra</td></tr><tr><td>Gustavo ##-CENSORED</td><td>99999-9999</td><td>Hoya Lente Pronta Hilux Vs Premium Organic 1.50 Bluecontrol</td></tr><tr><td>Renata ##-CENSORED</td><td>99999-9999</td><td>Hoya Amplus Organic 1.50 Cleanextra</td></tr><tr><td>Alexandre ##-CENSORED</td><td>99999-9999</td><td>Hoya Hoyalux Wide Bks Trivex No-Risk Bc</td></tr><tr><td>Laura ##-CENSORED</td><td>99999-9999</td><td>Hoya Lente Pronta Hilux Organic 1.50 Hv Aqua</td></tr><tr><td>Luis ##-CENSORED</td><td>99999-9999</td><td>Hoya Amplus Organic 1.50 No-Risk</td></tr><tr><td>Monica ##-CENSORED</td><td>99999-9999</td><td>Hoya Sync III Organic 1.50 No-Risk Bluecontrol</td></tr><tr><td>Beatriz ##-CENSORED</td><td>99999-9999</td><td>Hoya Vs Surfaçada Nulux Eynoa 1.67 No-Risk Bluecontrol</td></tr><tr><td>Karina ##-CENSORED</td><td>99999-9999</td><td>Hoya Lente Pronta Hilux Vs Premium Organic 1.50 Bluecontrol</td></tr><tr><td>Gilda ##-CENSORED</td><td>99999-9999</td><td>Hoya Amplus Poli No-Risk Bluecontrol</td></tr><tr><td>Cleide ##-CENSORED</td><td>99999-9999</td><td>Hoya Argos Progressive Organic 1.50 Cleanextra</td></tr><tr><td>Ricardo ##-CENSORED</td><td>99999-9999</td><td>Hoya Hoyalux Wide Pro Bks 1.50 No-Risk Bc</td></tr><tr><td>Ana ##-CENSORED</td><td>99999-9999</td><td>Hoya Sync III Organic 1.50 No-Risk Bluecontrol</td></tr><tr><td>Roberta ##-CENSORED</td><td>99999-9999</td><td>Hoya Sync III Poli No-Risk Bluecontrol</td></tr><tr><td>Claudia ##-CENSORED</td><td>99999-9999</td><td>Hoya Sync III Organic 1.50 No-Risk Bluecontrol</td></tr><tr><td>Bianca ##-CENSORED</td><td>99999-9999</td><td>Hoya Lente Pronta Hilux Vs Premium Organic 1.50 Bluecontrol</td></tr><tr><td>Vilma ##-CENSORED</td><td>99999-9999</td><td>Hoya Amplus Organic 1.50 No-Risk</td></tr><tr><td>Elisangela ##-CENSORED</td><td>99999-9999</td><td>Hoya Sync III Pnx Trivex Hv Longlife Bluecontrol</td></tr><tr><td>Eduardo ##-CENSORED</td><td>99999-9999</td><td>Hoya Vs Surfaçada Hilux Organic 1.50 Sensity 2 Cleanextra</td></tr><tr><td>Lucas ##-CENSORED</td><td>99999-9999</td><td>Hoya Lente Pronta Hilux Vs Premium Organic 1.50 Bluecontrol</td></tr><tr><td>Renan ##-CENSORED</td><td>99999-9999</td><td>Hoya Lente Pronta Hilux Vs Premium Organic 1.50 Bluecontrol</td></tr><tr><td>Solange ##-CENSORED</td><td>99999-9999</td><td>Hoya Argos Progressive Organic 1.50 No-Risk</td></tr><tr><td>Fabiana ##-CENSORED</td><td>99999-9999</td><td>Hoya Lente Pronta Hilux Vs Premium Organic 1.50 Bluecontrol</td></tr><tr><td>Erika ##-CENSORED</td><td>99999-9999</td><td>Hoya Sync III Organic 1.50 No-Risk Bluecontrol</td></tr><tr><td>Fernando ##-CENSORED</td><td>99999-9999</td><td>Hoya Amplus Organic 1.50 Cleanextra</td></tr><tr><td>Elisangela ##-CENSORED</td><td>99999-9999</td><td>Hoya Sync III Organic 1.50 Hv Longlife Bluecontrol</td></tr><tr><td>Vanessa ##-CENSORED</td><td>99999-9999</td><td>Hoya Sync III Pnx Trivex Sensity 2 No-Risk Bluecontrol</td></tr><tr><td>Valdivia ##-CENSORED</td><td>99999-9999</td><td>Hoya Amplus Organic 1.50 Cleanextra</td></tr><tr><td>Ingrid ##-CENSORED</td><td>99999-9999</td><td>Hoya Amplus Organic 1.50 No-Risk</td></tr><tr><td>Telma ##-CENSORED</td><td>99999-9999</td><td>Hoya Sync III Organic 1.50 Sensity 2 No-Risk Bluecontrol</td></tr><tr><td>Cibele ##-CENSORED</td><td>99999-9999</td><td>Hoya Hoyalux Id Lifestyle V+ 1.50 Bluecontrol</td></tr><tr><td>Maria ##-CENSORED</td><td>99999-9999</td><td>Hoya Lente Pronta Hilux Vs Premium Organic 1.50 Bluecontrol</td></tr><tr><td>Carla ##-CENSORED</td><td>99999-9999</td><td>Hoya Sync III Organic 1.50 No-Risk Bluecontrol</td></tr><tr><td>Julio ##-CENSORED</td><td>99999-9999</td><td>Hoya Sync III Pnx Trivex No-Risk Bluecontrol</td></tr><tr><td>Jaqueline ##-CENSORED</td><td>99999-9999</td><td>Hoya Lente Pronta Nulux Eynoa 1.67 Hv Meiryo</td></tr><tr><td>Claudia ##-CENSORED</td><td>99999-9999</td><td>Hoya Sync III Organic 1.50 Hv Longlife Bluecontrol</td></tr><tr><td>José ##-CENSORED</td><td>99999-9999</td><td>Hoya Argos Progressive Poli No-Risk</td></tr><tr><td>Barbara ##-CENSORED</td><td>99999-9999</td><td>Hoya Lente Pronta Nulux Eynoa 1.67 Hv Meiryo</td></tr><tr><td>Eudete ##-CENSORED</td><td>99999-9999</td><td>Hoya Argos Progressive Organic 1.50 No-Risk</td></tr><tr><td>Priscila ##-CENSORED</td><td>99999-9999</td><td>Hoya Lente Pronta Hilux Vs Premium Organic 1.50 Bluecontrol</td></tr><tr><td>Ronald ##-CENSORED</td><td>99999-9999</td><td>Hoya Sync III Organic 1.50 Hv Longlife Bluecontrol</td></tr><tr><td>Cristina ##-CENSORED</td><td>99999-9999</td><td>Hoya Argos Progressive Eyas 2.0 1.60 No-Risk</td></tr><tr><td>Juliana ##-CENSORED</td><td>99999-9999</td><td>Hoya Sync III Organic 1.50 Hv Longlife Bluecontrol</td></tr><tr><td>Luciana ##-CENSORED</td><td>99999-9999</td><td>Hoya Vs Surfaçada Hilux Organic 1.50 No-Risk Bluecontrol</td></tr><tr><td>Vera ##-CENSORED</td><td>99999-9999</td><td>Hoya Argos Progressive Poli No-Risk</td></tr><tr><td>Gabriel ##-CENSORED</td><td>99999-9999</td><td>Hoya Lente Pronta Hilux Vs Premium Organic 1.50 Bluecontrol</td></tr><tr><td>Renata ##-CENSORED</td><td>99999-9999</td><td>Hoya Argos Progressive Organic 1.50 Hv Hard</td></tr><tr><td>Bruna ##-CENSORED</td><td>99999-9999</td><td>Hoya Visão Simples Dobro</td></tr><tr><td>Francisco ##-CENSORED</td><td>99999-9999</td><td>Hoya Argos Progressive Organic 1.50 No-Risk</td></tr><tr><td>Juraci ##-CENSORED</td><td>99999-9999</td><td>Hoya Argos Progressive Pnx Trivex Hv Hard</td></tr><tr><td>Ana ##-CENSORED</td><td>99999-9999</td><td>Hoya Argos Progressive Organic 1.50 No-Risk Bluecontrol</td></tr><tr><td>Egle ##-CENSORED</td><td>99999-9999</td><td>Hoya Sync III Pnx Trivex Hv Longlife Bluecontrol</td></tr><tr><td>Tereza ##-CENSORED</td><td>99999-9999</td><td>Hoya Argos Progressive Organic 1.50 No-Risk Bluecontrol</td></tr><tr><td>Rute ##-CENSORED</td><td>99999-9999</td><td>Hoya Hoyalux Wide Bks 1.67 No-Risk Bc</td></tr><tr><td>Elder ##-CENSORED</td><td>99999-9999</td><td>Hoya Argos Progressive Organic 1.50 No-Risk Bluecontrol</td></tr><tr><td>Messias ##-CENSORED</td><td>99999-9999</td><td>Hoya Sync III Organic 1.50 Sensity 2 No-Risk Bluecontrol</td></tr><tr><td>Eliana ##-CENSORED</td><td>99999-9999</td><td>Hoya Hoyalux Wide Bks 1.50 No-Risk Bc</td></tr><tr><td>Eliete ##-CENSORED</td><td>99999-9999</td><td>Hoya Argos Progressive Organic 1.50 Cleanextra</td></tr><tr><td>Bruna ##-CENSORED</td><td>99999-9999</td><td>Hoya Lente Pronta Hilux Vs Premium Organic 1.50 Bluecontrol</td></tr><tr><td>Alexandre ##-CENSORED</td><td>99999-9999</td><td>Hoya Argos Progressive Organic 1.50 Cleanextra</td></tr><tr><td>Janice ##-CENSORED</td><td>99999-9999</td><td>Hoya Amplus Organic 1.50 Hv Hard</td></tr><tr><td>Antonio ##-CENSORED</td><td>99999-9999</td><td>Hoya Sync III Eynoa 1.67 Hv Longlife Blue Control</td></tr><tr><td>Lucas ##-CENSORED</td><td>99999-9999</td><td>Hoya Lente Pronta Hilux Vs Premium Organic 1.50 Bluecontrol</td></tr><tr><td>Claudia ##-CENSORED</td><td>99999-9999</td><td>Hoya Hoyalux Wide Pro Bks 1.50 Cleanextra</td></tr><tr><td>Isabel ##-CENSORED</td><td>99999-9999</td><td>Hoya Sync III Organic 1.50 Hv Longlife Bluecontrol</td></tr><tr><td>Aline ##-CENSORED</td><td>99999-9999</td><td>Hoya Lente Pronta Hilux Vs Premium Organic 1.50 Bluecontrol</td></tr><tr><td>Camila ##-CENSORED</td><td>99999-9999</td><td>Hoya Lente Pronta Hilux Vs Premium Organic 1.50 Bluecontrol</td></tr><tr><td>Vagner ##-CENSORED</td><td>99999-9999</td><td>Hoya Sync III Organic 1.50 Hv Longlife Bluecontrol</td></tr><tr><td>Fabiana ##-CENSORED</td><td>99999-9999</td><td>Hoya Lente Pronta Hilux Vs Premium Organic 1.50 Bluecontrol</td></tr><tr><td>Debora ##-CENSORED</td><td>99999-9999</td><td>Hoya Sync III Organic 1.50 No-Risk Bluecontrol</td></tr><tr><td>Danielle ##-CENSORED</td><td>99999-9999</td><td>Hoya Lente Pronta Hilux Vs Premium Organic 1.50 Bluecontrol</td></tr><tr><td>Adriano ##-CENSORED</td><td>99999-9999</td><td>Hoya Lente Pronta Hilux Vs Premium Organic 1.50 Bluecontrol</td></tr><tr><td>Fernanda ##-CENSORED</td><td>99999-9999</td><td>Hoya Argos Progressive Poli No-Risk Bluecontrol</td></tr><tr><td>Vanilda ##-CENSORED</td><td>99999-9999</td><td>Hoya Hoyalux Wide Vxt 1.50 No-Risk Bc</td></tr><tr><td>Daniel ##-CENSORED</td><td>99999-9999</td><td>Hoya Lente Pronta Hilux Vs Premium Organic 1.50 Bluecontrol</td></tr><tr><td>Willians ##-CENSORED</td><td>99999-9999</td><td>Hoya Sync III Organic 1.50 Hv Longlife Bluecontrol</td></tr><tr><td>Wilson ##-CENSORED</td><td>99999-9999</td><td>Hoya Argos Progressive Organic 1.50 Cleanextra</td></tr><tr><td>Alceni ##-CENSORED</td><td>99999-9999</td><td>Hoya Argos Progressive Organic 1.50 Hv Hard</td></tr><tr><td>Adriano ##-CENSORED</td><td>99999-9999</td><td>Hoya Lente Pronta Hilux Vs Premium Organic 1.50 Bluecontrol</td></tr><tr><td>Marcolino ##-CENSORED</td><td>99999-9999</td><td>Hoya Argos Progressive Organic 1.50 No-Risk Bluecontrol</td></tr><tr><td>Tania ##-CENSORED</td><td>99999-9999</td><td>Hoya Argos Progressive Organic 1.50 No-Risk</td></tr><tr><td>Renata ##-CENSORED</td><td>99999-9999</td><td>Hoya Lente Pronta Nulux Eynoa 1.67 Hv Meiryo</td></tr><tr><td>Sophia ##-CENSORED</td><td>99999-9999</td><td>Hoya Lente Pronta Nulux Eynoa 1.67 Hv Meiryo</td></tr><tr><td>Elaine ##-CENSORED</td><td>99999-9999</td><td>Hoya Lente Pronta Nulux Eynoa 1.67 Hv Meiryo</td></tr><tr><td>Luciene ##-CENSORED</td><td>99999-9999</td><td>Hoya Sync III Organic 1.50 Hv Longlife Bluecontrol</td></tr><tr><td>Marcolino ##-CENSORED</td><td>99999-9999</td><td>Hoya Argos Progressive Poli No-Risk</td></tr><tr><td>Jafferson ##-CENSORED</td><td>99999-9999</td><td>Hoya Sync III Pnx Trivex Hv Longlife Bluecontrol</td></tr><tr><td>Roberto ##-CENSORED</td><td>99999-9999</td><td>Hoya Sync III Poli No-Risk Bluecontrol</td></tr><tr><td>Gustavo ##-CENSORED</td><td>99999-9999</td><td>Hoya Lente Pronta Hilux Pnx Trivex Hv Aqua</td></tr><tr><td>Fabricio ##-CENSORED</td><td>99999-9999</td><td>Hoya Sync III Organic 1.50 No-Risk Bluecontrol</td></tr><tr><td>Aldilene ##-CENSORED</td><td>99999-9999</td><td>Hoya Sync III Organic 1.50 No-Risk Bluecontrol</td></tr><tr><td>Ingrid ##-CENSORED</td><td>99999-9999</td><td>Hoya Visão Simples Dobro</td></tr><tr><td>Rodrigo ##-CENSORED</td><td>99999-9999</td><td>Hoya Vs Surfaçada Nulux Trueform Pnx Trivex Sensity 2 Cleanextra</td></tr><tr><td>Antonio ##-CENSORED</td><td>99999-9999</td><td>Hoya Sync III Organic 1.50 No-Risk Bluecontrol</td></tr><tr><td>Rosana ##-CENSORED</td><td>99999-9999</td><td>Hoya Argos Progressive Organic 1.50 No-Risk Bluecontrol</td></tr><tr><td>Kelly ##-CENSORED</td><td>99999-9999</td><td>Hoya Hoyalux Wide Bks 1.50 No-Risk Bc</td></tr><tr><td>Allana ##-CENSORED</td><td>99999-9999</td><td>Hoya Lente Pronta Hilux Vs Premium Pnx Trivex Bluecontrol</td></tr><tr><td>Adriana ##-CENSORED</td><td>99999-9999</td><td>Hoya Sync III Poli No-Risk Bluecontrol</td></tr><tr><td>Andrea ##-CENSORED</td><td>99999-9999</td><td>Hoya Visão Simples Dobro</td></tr><tr><td>Gabriele ##-CENSORED</td><td>99999-9999</td><td>Hoya Lente Pronta Ultrax Poli Aqua</td></tr><tr><td>Natalia ##-CENSORED</td><td>99999-9999</td><td>Hoya Lente Pronta Hilux Vs Premium Organic 1.50 Bluecontrol</td></tr><tr><td>Clarice ##-CENSORED</td><td>99999-9999</td><td>Hoya Sync III Organic 1.50 No-Risk Bluecontrol</td></tr><tr><td>Maria ##-CENSORED</td><td>99999-9999</td><td>Hoya Amplus Organic 1.50 Sensity 2 No-Risk</td></tr><tr><td>Fabio ##-CENSORED</td><td>99999-9999</td><td>Hoya Sync III Organic 1.50 No-Risk Bluecontrol</td></tr><tr><td>Fabiana ##-CENSORED</td><td>99999-9999</td><td>Hoya Sync III Organic 1.50 No-Risk Bluecontrol</td></tr><tr><td>Maria ##-CENSORED</td><td>99999-9999</td><td>Hoya Lente Pronta Nulux Eynoa 1.67 Hv Meiryo</td></tr><tr><td>Giovaldo ##-CENSORED</td><td>99999-9999</td><td>Hoya Sync III Organic 1.50 No-Risk Bluecontrol</td></tr><tr><td>Sandra ##-CENSORED</td><td>99999-9999</td><td>Hoya Argos Progressive Organic 1.50 No-Risk</td></tr><tr><td>Adriana ##-CENSORED</td><td>99999-9999</td><td>Hoya Sync III Organic 1.50 No-Risk Bluecontrol</td></tr><tr><td>Claudia ##-CENSORED</td><td>99999-9999</td><td>Hoya Sync III Organic 1.50 No-Risk Bluecontrol</td></tr><tr><td>Adriana ##-CENSORED</td><td>99999-9999</td><td>Hoya Sync III Organic 1.50 Hv Longlife Bluecontrol</td></tr><tr><td>Vera ##-CENSORED</td><td>99999-9999</td><td>Hoya Hoyalux Wide Bks 1.50 Bluecontrol</td></tr><tr><td>Patricia ##-CENSORED</td><td>99999-9999</td><td>Hoya Argos Progressive Organic 1.50 No-Risk</td></tr><tr><td>Silvia ##-CENSORED</td><td>99999-9999</td><td>Hoya Sync III Organic 1.50 No-Risk Bluecontrol</td></tr><tr><td>Marcelo ##-CENSORED</td><td>99999-9999</td><td>Hoya Sync III Organic 1.50 No-Risk Bluecontrol</td></tr><tr><td>Paulo ##-CENSORED</td><td>99999-9999</td><td>Hoya Sync III Organic 1.50 Hv Longlife Bluecontrol</td></tr><tr><td>Maria ##-CENSORED</td><td>99999-9999</td><td>Hoya Lente Pronta Nulux Eynoa 1.67 Hv Meiryo</td></tr><tr><td>Wilson ##-CENSORED</td><td>99999-9999</td><td>Hoya Sync III Organic 1.50 No-Risk Bluecontrol</td></tr><tr><td>Vanessa ##-CENSORED</td><td>99999-9999</td><td>Hoya Sync III Organic 1.50 No-Risk Bluecontrol</td></tr><tr><td>Aline ##-CENSORED</td><td>99999-9999</td><td>Hoya Sync III Eyas 2.0 1.60 No-Risk Bluecontrol</td></tr><tr><td>Maria ##-CENSORED</td><td>99999-9999</td><td>Hoya Visão Simples Dobro</td></tr><tr><td>Egle ##-CENSORED</td><td>99999-9999</td><td>Hoya Sync III Organic 1.50 Hv Longlife Bluecontrol</td></tr><tr><td>Fabio ##-CENSORED</td><td>99999-9999</td><td>Hoya Sync III Organic 1.50 Hv Longlife Bluecontrol</td></tr><tr><td>Enzo ##-CENSORED</td><td>99999-9999</td><td>Hoya Lente Pronta Nulux Eynoa 1.67 Hv Meiryo</td></tr><tr><td>Andreza ##-CENSORED</td><td>99999-9999</td><td>Hoya Sync III Organic 1.50 Hv Longlife Bluecontrol</td></tr><tr><td>Cleber ##-CENSORED</td><td>99999-9999</td><td>Hoya Vs Surfaçada Nulux Identity V+ Eynoa 1.67 Sensity 2 Hv Longlife Uvcontrol</td></tr><tr><td>Alex ##-CENSORED</td><td>99999-9999</td><td>Hoya Sync III Organic 1.50 No-Risk Bluecontrol</td></tr><tr><td>Vagner ##-CENSORED</td><td>99999-9999</td><td>Hoya Sync III Organic 1.50 No-Risk Bluecontrol</td></tr><tr><td>Eduardo ##-CENSORED</td><td>99999-9999</td><td>Hoya Miyosmart Poli</td></tr><tr><td>Eliane ##-CENSORED</td><td>99999-9999</td><td>Hoya Visão Simples Dobro</td></tr><tr><td>Eli ##-CENSORED</td><td>99999-9999</td><td>Hoya Lente Pronta Nulux Eynoa 1.67 Hv Meiryo</td></tr><tr><td>Simone ##-CENSORED</td><td>99999-9999</td><td>Hoya Sync III Organic 1.50 No-Risk Bluecontrol</td></tr><tr><td>Alessandra ##-CENSORED</td><td>99999-9999</td><td>Hoya Sync III Organic 1.50 No-Risk Bluecontrol</td></tr><tr><td>Tamires ##-CENSORED</td><td>99999-9999</td><td>Hoya Lente Pronta Nulux Eynoa 1.67 Hv Meiryo</td></tr><tr><td>Cleber ##-CENSORED</td><td>99999-9999</td><td>Hoya Visão Simples Dobro</td></tr><tr><td>Eliane ##-CENSORED</td><td>99999-9999</td><td>Hoya Sync III Organic 1.50 Hv Longlife Bluecontrol</td></tr><tr><td>Claudia ##-CENSORED</td><td>99999-9999</td><td>Hoya Visão Simples Dobro</td></tr><tr><td>Anabele ##-CENSORED</td><td>99999-9999</td><td>Hoya Lente Pronta Nulux Eynoa 1.67 Hv Meiryo</td></tr><tr><td>Daniel ##-CENSORED</td><td>99999-9999</td><td>Hoya Sync III Organic 1.50 No-Risk Bluecontrol</td></tr><tr><td>Daniel ##-CENSORED</td><td>99999-9999</td><td>Hoya Lente Pronta Nulux Eynoa 1.67 Hv Meiryo</td></tr><tr><td>Claudia ##-CENSORED</td><td>99999-9999</td><td>Hoya Sync III Organic 1.50 Hv Longlife Bluecontrol</td></tr><tr><td>Evandro ##-CENSORED</td><td>99999-9999</td><td>Hoya Sync III Organic 1.50 Hv Longlife Bluecontrol</td></tr><tr><td>Maria ##-CENSORED</td><td>99999-9999</td><td>Hoya Argos Progressive Organic 1.50 Sensity Original No-Risk Bluecontrol</td></tr><tr><td>Josilda ##-CENSORED</td><td>99999-9999</td><td>Hoya Sync III Organic 1.50 No-Risk Bluecontrol</td></tr><tr><td>Mayara ##-CENSORED</td><td>99999-9999</td><td>Hoya Lente Pronta Nulux Eynoa 1.67 Hv Meiryo</td></tr><tr><td>Thiago ##-CENSORED</td><td>99999-9999</td><td>Hoya Sync III Organic 1.50 No-Risk Bluecontrol</td></tr><tr><td>Mayara ##-CENSORED</td><td>99999-9999</td><td>Hoya Visão Simples Dobro</td></tr><tr><td>Gabriela ##-CENSORED</td><td>99999-9999</td><td>Hoya Lente Pronta Nulux Eynoa 1.67 Hv Meiryo</td></tr><tr><td>Allan ##-CENSORED</td><td>99999-9999</td><td>Hoya Sync III Organic 1.50 Sensity 2 Hv Longlife Bluecontrol</td></tr><tr><td>Mirella ##-CENSORED</td><td>99999-9999</td><td>Hoya Sync III Organic 1.50 No-Risk Bluecontrol</td></tr><tr><td>Patricia ##-CENSORED</td><td>99999-9999</td><td>Hoya Sync III Organic 1.50 No-Risk Bluecontrol</td></tr><tr><td>Lucia ##-CENSORED</td><td>99999-9999</td><td>Hoya Sync III Organic 1.50 No-Risk Bluecontrol</td></tr><tr><td>Aline ##-CENSORED</td><td>99999-9999</td><td>Hoya Lente Pronta Nulux Eynoa 1.67 Hv Meiryo</td></tr><tr><td>Ana ##-CENSORED</td><td>99999-9999</td><td>Hoya Visão Simples Dobro</td></tr><tr><td>Allan ##-CENSORED</td><td>99999-9999</td><td>Hoya Visão Simples Dobro</td></tr><tr><td>Simone ##-CENSORED</td><td>99999-9999</td><td>Hoya Sync III Organic 1.50 No-Risk Bluecontrol</td></tr><tr><td>Maria ##-CENSORED</td><td>99999-9999</td><td>Hoya Visão Simples Dobro</td></tr><tr><td>Sheila ##-CENSORED</td><td>99999-9999</td><td>Hoya Argos Progressive Organic 1.50 No-Risk Bluecontrol</td></tr><tr><td>Ana ##-CENSORED</td><td>99999-9999</td><td>Hoya Lente Pronta Nulux Eynoa 1.67 Hv Meiryo</td></tr><tr><td>Ana ##-CENSORED</td><td>99999-9999</td><td>Hoya Sync III Organic 1.50 Hv Longlife Bluecontrol</td></tr><tr><td>Fatima ##-CENSORED</td><td>99999-9999</td><td>Hoya Lente Pronta Nulux Eynoa 1.67 Hv Meiryo</td></tr><tr><td>Cibele ##-CENSORED</td><td>99999-9999</td><td>Hoya Hoyalux Id Lifestyle 3 Organic 1.50 Hv Longlife Bluecontrol</td></tr><tr><td>Paulo ##-CENSORED</td><td>99999-9999</td><td>Hoya Sync III Organic 1.50 No-Risk Bluecontrol</td></tr><tr><td>Maria ##-CENSORED</td><td>99999-9999</td><td>Hoya Sync III Organic 1.50 No-Risk Bluecontrol</td></tr><tr><td>Gislaine ##-CENSORED</td><td>99999-9999</td><td>Hoya Sync III Organic 1.50 No-Risk Bluecontrol</td></tr><tr><td>Donizete ##-CENSORED</td><td>99999-9999</td><td>Hoya Sync III Organic 1.50 Hv Longlife Bluecontrol</td></tr><tr><td>Donizete ##-CENSORED</td><td>99999-9999</td><td>Hoya Visão Simples Dobro</td></tr><tr><td>Maria ##-CENSORED</td><td>99999-9999</td><td>Hoya Sync III Organic 1.50 Hv Longlife Bluecontrol</td></tr><tr><td>Rita ##-CENSORED</td><td>99999-9999</td><td>Hoya Sync III Organic 1.50 No-Risk Bluecontrol</td></tr><tr><td>Davi ##-CENSORED</td><td>99999-9999</td><td>Hoya Lente Pronta Nulux Eynoa 1.67 Hv Meiryo</td></tr><tr><td>Marlene ##-CENSORED</td><td>99999-9999</td><td>Hoya Sync III Organic 1.50 No-Risk Bluecontrol</td></tr><tr><td>Barbara ##-CENSORED</td><td>99999-9999</td><td>Hoya Lente Pronta Nulux Eynoa 1.67 Hv Meiryo</td></tr></tbody></table></div>"
      ]
     },
     "metadata": {
      "application/vnd.databricks.v1+output": {
       "addedWidgets": {},
       "aggData": [],
       "aggError": "",
       "aggOverflow": false,
       "aggSchema": [],
       "aggSeriesLimitReached": false,
       "aggType": "",
       "arguments": {},
       "columnCustomDisplayInfos": {},
       "data": [
        [
         "Sueli ##-CENSORED",
         "99999-9999",
         "Hoya Argos Progressive Organic 1.50 No-Risk"
        ],
        [
         "Teresinha ##-CENSORED",
         "99999-9999",
         "Hoya Hoyalux Wide Bks 1.50 No-Risk"
        ],
        [
         "Guilherme ##-CENSORED",
         "99999-9999",
         "Hoya Nulux Sportive Organic 1.50 Polarizada Hv Hard"
        ],
        [
         "Erika ##-CENSORED",
         "99999-9999",
         "Hoya Amplus Organic 1.50 Cleanextra"
        ],
        [
         "Antonio ##-CENSORED",
         "99999-9999",
         "Hoya Lente Pronta Hilux Vs Premium Organic 1.50 Bluecontrol"
        ],
        [
         "Lidia ##-CENSORED",
         "99999-9999",
         "Hoya Amplus Organic 1.50 Hv Hard"
        ],
        [
         "Denis ##-CENSORED",
         "99999-9999",
         "Hoya Lente Pronta Hilux Vs Premium Organic 1.50 Bluecontrol"
        ],
        [
         "Yhasmin ##-CENSORED",
         "99999-9999",
         "Hoya Lente Pronta Hilux Pnx Trivex Hv Longlife"
        ],
        [
         "Bruna ##-CENSORED",
         "99999-9999",
         "Hoya Amplus Organic 1.50 Cleanextra"
        ],
        [
         "Angela ##-CENSORED",
         "99999-9999",
         "Hoya Lente Pronta Nulux Eynoa 1.67 Hv Meiryo"
        ],
        [
         "Vinicius ##-CENSORED",
         "99999-9999",
         "Hoya Lente Pronta Nulux Eynoa 1.67 Hv Meiryo"
        ],
        [
         "Maria ##-CENSORED",
         "99999-9999",
         "Hoya Amplus Organic 1.50 Cleanextra"
        ],
        [
         "Charles ##-CENSORED",
         "99999-9999",
         "Hoya Argos Progressive Pnx Trivex No-Risk Bluecontrol"
        ],
        [
         "Olga ##-CENSORED",
         "99999-9999",
         "Hoya Amplus Poli Cleanextra"
        ],
        [
         "Maria ##-CENSORED",
         "99999-9999",
         "Hoya Lente Pronta Hilux Vs Premium Organic 1.50 Bluecontrol"
        ],
        [
         "Maura ##-CENSORED",
         "99999-9999",
         "Hoya Hoyalux Wide Bks 1.50 Cleanextra"
        ],
        [
         "Eudete ##-CENSORED",
         "99999-9999",
         "Hoya Amplus Organic 1.50 Cleanextra"
        ],
        [
         "Washington ##-CENSORED",
         "99999-9999",
         "Hoya Lente Pronta Nulux Eynoa 1.67 Hv Meiryo"
        ],
        [
         "Angela ##-CENSORED",
         "99999-9999",
         "Hoya Amplus Organic 1.50 Cleanextra"
        ],
        [
         "Leandro ##-CENSORED",
         "99999-9999",
         "Hoya Lente Pronta Hilux Pnx Trivex Hv Aqua"
        ],
        [
         "Carina ##-CENSORED",
         "99999-9999",
         "Hoya Lente Pronta Hilux Vs Premium Organic 1.50 Bluecontrol"
        ],
        [
         "Renata ##-CENSORED",
         "99999-9999",
         "Hoya Vs Surfaçada Hilux Organic 1.50 Sensity 2 Cleanextra"
        ],
        [
         "Eliete ##-CENSORED",
         "99999-9999",
         "Hoya Amplus Organic 1.50 Cleanextra"
        ],
        [
         "Fabiano ##-CENSORED",
         "99999-9999",
         "Hoya Lente Pronta Hilux Vs Premium Organic 1.50 Bluecontrol"
        ],
        [
         "Marileide ##-CENSORED",
         "99999-9999",
         "Hoya Amplus Organic 1.50 Cleanextra"
        ],
        [
         "Marco ##-CENSORED",
         "99999-9999",
         "Hoya Argos Progressive Organic 1.50 Sensity 2 Cleanextra"
        ],
        [
         "Edleide ##-CENSORED",
         "99999-9999",
         "Hoya Amplus Organic 1.50 Cleanextra"
        ],
        [
         "Bianca ##-CENSORED",
         "99999-9999",
         "Hoya Lente Pronta Ultrax Poli Hard"
        ],
        [
         "Leonardo ##-CENSORED",
         "99999-9999",
         "Hoya Lente Pronta Hilux Vs Premium Organic 1.50 Bluecontrol"
        ],
        [
         "Miriane ##-CENSORED",
         "99999-9999",
         "Hoya Lente Pronta Hilux Vs Premium Organic 1.50 Bluecontrol"
        ],
        [
         "Maria ##-CENSORED",
         "99999-9999",
         "Hoya Amplus Organic 1.50 Cleanextra"
        ],
        [
         "Luis ##-CENSORED",
         "99999-9999",
         "Hoya Lente Pronta Nulux Eynoa 1.67 Hv Meiryo"
        ],
        [
         "Ligia ##-CENSORED",
         "99999-9999",
         "Hoya Lente Pronta Hilux Pnx Trivex Hv Aqua"
        ],
        [
         "Rosana ##-CENSORED",
         "99999-9999",
         "Hoya Amplus Organic 1.50 Cleanextra"
        ],
        [
         "Jose ##-CENSORED",
         "99999-9999",
         "Hoya Vs Surfaçada Nulux Eynoa 1.67 No-Risk Bluecontrol"
        ],
        [
         "Marcelo ##-CENSORED",
         "99999-9999",
         "Hoya Amplus Organic 1.50 Cleanextra"
        ],
        [
         "Carolina ##-CENSORED",
         "99999-9999",
         "Hoya Hoyalux Wide Pro Bks 1.50 Bluecontrol"
        ],
        [
         "Ana ##-CENSORED",
         "99999-9999",
         "Hoya Amplus Organic 1.50 No-Risk Bluecontrol"
        ],
        [
         "Jeniffer ##-CENSORED",
         "99999-9999",
         "Hoya Lente Pronta Hilux Vs Premium Organic 1.50 Bluecontrol"
        ],
        [
         "Wilson ##-CENSORED",
         "99999-9999",
         "Hoya Amplus Pnx Trivex No-Risk"
        ],
        [
         "Fabricio ##-CENSORED",
         "99999-9999",
         "Hoya Vs Surfaçada Hilux Organic 1.50 Cleanextra"
        ],
        [
         "Leila ##-CENSORED",
         "99999-9999",
         "Hoya Amplus Organic 1.50 Cleanextra"
        ],
        [
         "Eda ##-CENSORED",
         "99999-9999",
         "Hoya Amplus Organic 1.50 Cleanextra"
        ],
        [
         "Laura ##-CENSORED",
         "99999-9999",
         "Hoya Lente Pronta Hilux Vs Premium Organic 1.50 Bluecontrol"
        ],
        [
         "Lourival ##-CENSORED",
         "99999-9999",
         "Hoya Amplus Organic 1.50 Cleanextra"
        ],
        [
         "Gustavo ##-CENSORED",
         "99999-9999",
         "Hoya Lente Pronta Hilux Vs Premium Organic 1.50 Bluecontrol"
        ],
        [
         "Renata ##-CENSORED",
         "99999-9999",
         "Hoya Amplus Organic 1.50 Cleanextra"
        ],
        [
         "Alexandre ##-CENSORED",
         "99999-9999",
         "Hoya Hoyalux Wide Bks Trivex No-Risk Bc"
        ],
        [
         "Laura ##-CENSORED",
         "99999-9999",
         "Hoya Lente Pronta Hilux Organic 1.50 Hv Aqua"
        ],
        [
         "Luis ##-CENSORED",
         "99999-9999",
         "Hoya Amplus Organic 1.50 No-Risk"
        ],
        [
         "Monica ##-CENSORED",
         "99999-9999",
         "Hoya Sync III Organic 1.50 No-Risk Bluecontrol"
        ],
        [
         "Beatriz ##-CENSORED",
         "99999-9999",
         "Hoya Vs Surfaçada Nulux Eynoa 1.67 No-Risk Bluecontrol"
        ],
        [
         "Karina ##-CENSORED",
         "99999-9999",
         "Hoya Lente Pronta Hilux Vs Premium Organic 1.50 Bluecontrol"
        ],
        [
         "Gilda ##-CENSORED",
         "99999-9999",
         "Hoya Amplus Poli No-Risk Bluecontrol"
        ],
        [
         "Cleide ##-CENSORED",
         "99999-9999",
         "Hoya Argos Progressive Organic 1.50 Cleanextra"
        ],
        [
         "Ricardo ##-CENSORED",
         "99999-9999",
         "Hoya Hoyalux Wide Pro Bks 1.50 No-Risk Bc"
        ],
        [
         "Ana ##-CENSORED",
         "99999-9999",
         "Hoya Sync III Organic 1.50 No-Risk Bluecontrol"
        ],
        [
         "Roberta ##-CENSORED",
         "99999-9999",
         "Hoya Sync III Poli No-Risk Bluecontrol"
        ],
        [
         "Claudia ##-CENSORED",
         "99999-9999",
         "Hoya Sync III Organic 1.50 No-Risk Bluecontrol"
        ],
        [
         "Bianca ##-CENSORED",
         "99999-9999",
         "Hoya Lente Pronta Hilux Vs Premium Organic 1.50 Bluecontrol"
        ],
        [
         "Vilma ##-CENSORED",
         "99999-9999",
         "Hoya Amplus Organic 1.50 No-Risk"
        ],
        [
         "Elisangela ##-CENSORED",
         "99999-9999",
         "Hoya Sync III Pnx Trivex Hv Longlife Bluecontrol"
        ],
        [
         "Eduardo ##-CENSORED",
         "99999-9999",
         "Hoya Vs Surfaçada Hilux Organic 1.50 Sensity 2 Cleanextra"
        ],
        [
         "Lucas ##-CENSORED",
         "99999-9999",
         "Hoya Lente Pronta Hilux Vs Premium Organic 1.50 Bluecontrol"
        ],
        [
         "Renan ##-CENSORED",
         "99999-9999",
         "Hoya Lente Pronta Hilux Vs Premium Organic 1.50 Bluecontrol"
        ],
        [
         "Solange ##-CENSORED",
         "99999-9999",
         "Hoya Argos Progressive Organic 1.50 No-Risk"
        ],
        [
         "Fabiana ##-CENSORED",
         "99999-9999",
         "Hoya Lente Pronta Hilux Vs Premium Organic 1.50 Bluecontrol"
        ],
        [
         "Erika ##-CENSORED",
         "99999-9999",
         "Hoya Sync III Organic 1.50 No-Risk Bluecontrol"
        ],
        [
         "Fernando ##-CENSORED",
         "99999-9999",
         "Hoya Amplus Organic 1.50 Cleanextra"
        ],
        [
         "Elisangela ##-CENSORED",
         "99999-9999",
         "Hoya Sync III Organic 1.50 Hv Longlife Bluecontrol"
        ],
        [
         "Vanessa ##-CENSORED",
         "99999-9999",
         "Hoya Sync III Pnx Trivex Sensity 2 No-Risk Bluecontrol"
        ],
        [
         "Valdivia ##-CENSORED",
         "99999-9999",
         "Hoya Amplus Organic 1.50 Cleanextra"
        ],
        [
         "Ingrid ##-CENSORED",
         "99999-9999",
         "Hoya Amplus Organic 1.50 No-Risk"
        ],
        [
         "Telma ##-CENSORED",
         "99999-9999",
         "Hoya Sync III Organic 1.50 Sensity 2 No-Risk Bluecontrol"
        ],
        [
         "Cibele ##-CENSORED",
         "99999-9999",
         "Hoya Hoyalux Id Lifestyle V+ 1.50 Bluecontrol"
        ],
        [
         "Maria ##-CENSORED",
         "99999-9999",
         "Hoya Lente Pronta Hilux Vs Premium Organic 1.50 Bluecontrol"
        ],
        [
         "Carla ##-CENSORED",
         "99999-9999",
         "Hoya Sync III Organic 1.50 No-Risk Bluecontrol"
        ],
        [
         "Julio ##-CENSORED",
         "99999-9999",
         "Hoya Sync III Pnx Trivex No-Risk Bluecontrol"
        ],
        [
         "Jaqueline ##-CENSORED",
         "99999-9999",
         "Hoya Lente Pronta Nulux Eynoa 1.67 Hv Meiryo"
        ],
        [
         "Claudia ##-CENSORED",
         "99999-9999",
         "Hoya Sync III Organic 1.50 Hv Longlife Bluecontrol"
        ],
        [
         "José ##-CENSORED",
         "99999-9999",
         "Hoya Argos Progressive Poli No-Risk"
        ],
        [
         "Barbara ##-CENSORED",
         "99999-9999",
         "Hoya Lente Pronta Nulux Eynoa 1.67 Hv Meiryo"
        ],
        [
         "Eudete ##-CENSORED",
         "99999-9999",
         "Hoya Argos Progressive Organic 1.50 No-Risk"
        ],
        [
         "Priscila ##-CENSORED",
         "99999-9999",
         "Hoya Lente Pronta Hilux Vs Premium Organic 1.50 Bluecontrol"
        ],
        [
         "Ronald ##-CENSORED",
         "99999-9999",
         "Hoya Sync III Organic 1.50 Hv Longlife Bluecontrol"
        ],
        [
         "Cristina ##-CENSORED",
         "99999-9999",
         "Hoya Argos Progressive Eyas 2.0 1.60 No-Risk"
        ],
        [
         "Juliana ##-CENSORED",
         "99999-9999",
         "Hoya Sync III Organic 1.50 Hv Longlife Bluecontrol"
        ],
        [
         "Luciana ##-CENSORED",
         "99999-9999",
         "Hoya Vs Surfaçada Hilux Organic 1.50 No-Risk Bluecontrol"
        ],
        [
         "Vera ##-CENSORED",
         "99999-9999",
         "Hoya Argos Progressive Poli No-Risk"
        ],
        [
         "Gabriel ##-CENSORED",
         "99999-9999",
         "Hoya Lente Pronta Hilux Vs Premium Organic 1.50 Bluecontrol"
        ],
        [
         "Renata ##-CENSORED",
         "99999-9999",
         "Hoya Argos Progressive Organic 1.50 Hv Hard"
        ],
        [
         "Bruna ##-CENSORED",
         "99999-9999",
         "Hoya Visão Simples Dobro"
        ],
        [
         "Francisco ##-CENSORED",
         "99999-9999",
         "Hoya Argos Progressive Organic 1.50 No-Risk"
        ],
        [
         "Juraci ##-CENSORED",
         "99999-9999",
         "Hoya Argos Progressive Pnx Trivex Hv Hard"
        ],
        [
         "Ana ##-CENSORED",
         "99999-9999",
         "Hoya Argos Progressive Organic 1.50 No-Risk Bluecontrol"
        ],
        [
         "Egle ##-CENSORED",
         "99999-9999",
         "Hoya Sync III Pnx Trivex Hv Longlife Bluecontrol"
        ],
        [
         "Tereza ##-CENSORED",
         "99999-9999",
         "Hoya Argos Progressive Organic 1.50 No-Risk Bluecontrol"
        ],
        [
         "Rute ##-CENSORED",
         "99999-9999",
         "Hoya Hoyalux Wide Bks 1.67 No-Risk Bc"
        ],
        [
         "Elder ##-CENSORED",
         "99999-9999",
         "Hoya Argos Progressive Organic 1.50 No-Risk Bluecontrol"
        ],
        [
         "Messias ##-CENSORED",
         "99999-9999",
         "Hoya Sync III Organic 1.50 Sensity 2 No-Risk Bluecontrol"
        ],
        [
         "Eliana ##-CENSORED",
         "99999-9999",
         "Hoya Hoyalux Wide Bks 1.50 No-Risk Bc"
        ],
        [
         "Eliete ##-CENSORED",
         "99999-9999",
         "Hoya Argos Progressive Organic 1.50 Cleanextra"
        ],
        [
         "Bruna ##-CENSORED",
         "99999-9999",
         "Hoya Lente Pronta Hilux Vs Premium Organic 1.50 Bluecontrol"
        ],
        [
         "Alexandre ##-CENSORED",
         "99999-9999",
         "Hoya Argos Progressive Organic 1.50 Cleanextra"
        ],
        [
         "Janice ##-CENSORED",
         "99999-9999",
         "Hoya Amplus Organic 1.50 Hv Hard"
        ],
        [
         "Antonio ##-CENSORED",
         "99999-9999",
         "Hoya Sync III Eynoa 1.67 Hv Longlife Blue Control"
        ],
        [
         "Lucas ##-CENSORED",
         "99999-9999",
         "Hoya Lente Pronta Hilux Vs Premium Organic 1.50 Bluecontrol"
        ],
        [
         "Claudia ##-CENSORED",
         "99999-9999",
         "Hoya Hoyalux Wide Pro Bks 1.50 Cleanextra"
        ],
        [
         "Isabel ##-CENSORED",
         "99999-9999",
         "Hoya Sync III Organic 1.50 Hv Longlife Bluecontrol"
        ],
        [
         "Aline ##-CENSORED",
         "99999-9999",
         "Hoya Lente Pronta Hilux Vs Premium Organic 1.50 Bluecontrol"
        ],
        [
         "Camila ##-CENSORED",
         "99999-9999",
         "Hoya Lente Pronta Hilux Vs Premium Organic 1.50 Bluecontrol"
        ],
        [
         "Vagner ##-CENSORED",
         "99999-9999",
         "Hoya Sync III Organic 1.50 Hv Longlife Bluecontrol"
        ],
        [
         "Fabiana ##-CENSORED",
         "99999-9999",
         "Hoya Lente Pronta Hilux Vs Premium Organic 1.50 Bluecontrol"
        ],
        [
         "Debora ##-CENSORED",
         "99999-9999",
         "Hoya Sync III Organic 1.50 No-Risk Bluecontrol"
        ],
        [
         "Danielle ##-CENSORED",
         "99999-9999",
         "Hoya Lente Pronta Hilux Vs Premium Organic 1.50 Bluecontrol"
        ],
        [
         "Adriano ##-CENSORED",
         "99999-9999",
         "Hoya Lente Pronta Hilux Vs Premium Organic 1.50 Bluecontrol"
        ],
        [
         "Fernanda ##-CENSORED",
         "99999-9999",
         "Hoya Argos Progressive Poli No-Risk Bluecontrol"
        ],
        [
         "Vanilda ##-CENSORED",
         "99999-9999",
         "Hoya Hoyalux Wide Vxt 1.50 No-Risk Bc"
        ],
        [
         "Daniel ##-CENSORED",
         "99999-9999",
         "Hoya Lente Pronta Hilux Vs Premium Organic 1.50 Bluecontrol"
        ],
        [
         "Willians ##-CENSORED",
         "99999-9999",
         "Hoya Sync III Organic 1.50 Hv Longlife Bluecontrol"
        ],
        [
         "Wilson ##-CENSORED",
         "99999-9999",
         "Hoya Argos Progressive Organic 1.50 Cleanextra"
        ],
        [
         "Alceni ##-CENSORED",
         "99999-9999",
         "Hoya Argos Progressive Organic 1.50 Hv Hard"
        ],
        [
         "Adriano ##-CENSORED",
         "99999-9999",
         "Hoya Lente Pronta Hilux Vs Premium Organic 1.50 Bluecontrol"
        ],
        [
         "Marcolino ##-CENSORED",
         "99999-9999",
         "Hoya Argos Progressive Organic 1.50 No-Risk Bluecontrol"
        ],
        [
         "Tania ##-CENSORED",
         "99999-9999",
         "Hoya Argos Progressive Organic 1.50 No-Risk"
        ],
        [
         "Renata ##-CENSORED",
         "99999-9999",
         "Hoya Lente Pronta Nulux Eynoa 1.67 Hv Meiryo"
        ],
        [
         "Sophia ##-CENSORED",
         "99999-9999",
         "Hoya Lente Pronta Nulux Eynoa 1.67 Hv Meiryo"
        ],
        [
         "Elaine ##-CENSORED",
         "99999-9999",
         "Hoya Lente Pronta Nulux Eynoa 1.67 Hv Meiryo"
        ],
        [
         "Luciene ##-CENSORED",
         "99999-9999",
         "Hoya Sync III Organic 1.50 Hv Longlife Bluecontrol"
        ],
        [
         "Marcolino ##-CENSORED",
         "99999-9999",
         "Hoya Argos Progressive Poli No-Risk"
        ],
        [
         "Jafferson ##-CENSORED",
         "99999-9999",
         "Hoya Sync III Pnx Trivex Hv Longlife Bluecontrol"
        ],
        [
         "Roberto ##-CENSORED",
         "99999-9999",
         "Hoya Sync III Poli No-Risk Bluecontrol"
        ],
        [
         "Gustavo ##-CENSORED",
         "99999-9999",
         "Hoya Lente Pronta Hilux Pnx Trivex Hv Aqua"
        ],
        [
         "Fabricio ##-CENSORED",
         "99999-9999",
         "Hoya Sync III Organic 1.50 No-Risk Bluecontrol"
        ],
        [
         "Aldilene ##-CENSORED",
         "99999-9999",
         "Hoya Sync III Organic 1.50 No-Risk Bluecontrol"
        ],
        [
         "Ingrid ##-CENSORED",
         "99999-9999",
         "Hoya Visão Simples Dobro"
        ],
        [
         "Rodrigo ##-CENSORED",
         "99999-9999",
         "Hoya Vs Surfaçada Nulux Trueform Pnx Trivex Sensity 2 Cleanextra"
        ],
        [
         "Antonio ##-CENSORED",
         "99999-9999",
         "Hoya Sync III Organic 1.50 No-Risk Bluecontrol"
        ],
        [
         "Rosana ##-CENSORED",
         "99999-9999",
         "Hoya Argos Progressive Organic 1.50 No-Risk Bluecontrol"
        ],
        [
         "Kelly ##-CENSORED",
         "99999-9999",
         "Hoya Hoyalux Wide Bks 1.50 No-Risk Bc"
        ],
        [
         "Allana ##-CENSORED",
         "99999-9999",
         "Hoya Lente Pronta Hilux Vs Premium Pnx Trivex Bluecontrol"
        ],
        [
         "Adriana ##-CENSORED",
         "99999-9999",
         "Hoya Sync III Poli No-Risk Bluecontrol"
        ],
        [
         "Andrea ##-CENSORED",
         "99999-9999",
         "Hoya Visão Simples Dobro"
        ],
        [
         "Gabriele ##-CENSORED",
         "99999-9999",
         "Hoya Lente Pronta Ultrax Poli Aqua"
        ],
        [
         "Natalia ##-CENSORED",
         "99999-9999",
         "Hoya Lente Pronta Hilux Vs Premium Organic 1.50 Bluecontrol"
        ],
        [
         "Clarice ##-CENSORED",
         "99999-9999",
         "Hoya Sync III Organic 1.50 No-Risk Bluecontrol"
        ],
        [
         "Maria ##-CENSORED",
         "99999-9999",
         "Hoya Amplus Organic 1.50 Sensity 2 No-Risk"
        ],
        [
         "Fabio ##-CENSORED",
         "99999-9999",
         "Hoya Sync III Organic 1.50 No-Risk Bluecontrol"
        ],
        [
         "Fabiana ##-CENSORED",
         "99999-9999",
         "Hoya Sync III Organic 1.50 No-Risk Bluecontrol"
        ],
        [
         "Maria ##-CENSORED",
         "99999-9999",
         "Hoya Lente Pronta Nulux Eynoa 1.67 Hv Meiryo"
        ],
        [
         "Giovaldo ##-CENSORED",
         "99999-9999",
         "Hoya Sync III Organic 1.50 No-Risk Bluecontrol"
        ],
        [
         "Sandra ##-CENSORED",
         "99999-9999",
         "Hoya Argos Progressive Organic 1.50 No-Risk"
        ],
        [
         "Adriana ##-CENSORED",
         "99999-9999",
         "Hoya Sync III Organic 1.50 No-Risk Bluecontrol"
        ],
        [
         "Claudia ##-CENSORED",
         "99999-9999",
         "Hoya Sync III Organic 1.50 No-Risk Bluecontrol"
        ],
        [
         "Adriana ##-CENSORED",
         "99999-9999",
         "Hoya Sync III Organic 1.50 Hv Longlife Bluecontrol"
        ],
        [
         "Vera ##-CENSORED",
         "99999-9999",
         "Hoya Hoyalux Wide Bks 1.50 Bluecontrol"
        ],
        [
         "Patricia ##-CENSORED",
         "99999-9999",
         "Hoya Argos Progressive Organic 1.50 No-Risk"
        ],
        [
         "Silvia ##-CENSORED",
         "99999-9999",
         "Hoya Sync III Organic 1.50 No-Risk Bluecontrol"
        ],
        [
         "Marcelo ##-CENSORED",
         "99999-9999",
         "Hoya Sync III Organic 1.50 No-Risk Bluecontrol"
        ],
        [
         "Paulo ##-CENSORED",
         "99999-9999",
         "Hoya Sync III Organic 1.50 Hv Longlife Bluecontrol"
        ],
        [
         "Maria ##-CENSORED",
         "99999-9999",
         "Hoya Lente Pronta Nulux Eynoa 1.67 Hv Meiryo"
        ],
        [
         "Wilson ##-CENSORED",
         "99999-9999",
         "Hoya Sync III Organic 1.50 No-Risk Bluecontrol"
        ],
        [
         "Vanessa ##-CENSORED",
         "99999-9999",
         "Hoya Sync III Organic 1.50 No-Risk Bluecontrol"
        ],
        [
         "Aline ##-CENSORED",
         "99999-9999",
         "Hoya Sync III Eyas 2.0 1.60 No-Risk Bluecontrol"
        ],
        [
         "Maria ##-CENSORED",
         "99999-9999",
         "Hoya Visão Simples Dobro"
        ],
        [
         "Egle ##-CENSORED",
         "99999-9999",
         "Hoya Sync III Organic 1.50 Hv Longlife Bluecontrol"
        ],
        [
         "Fabio ##-CENSORED",
         "99999-9999",
         "Hoya Sync III Organic 1.50 Hv Longlife Bluecontrol"
        ],
        [
         "Enzo ##-CENSORED",
         "99999-9999",
         "Hoya Lente Pronta Nulux Eynoa 1.67 Hv Meiryo"
        ],
        [
         "Andreza ##-CENSORED",
         "99999-9999",
         "Hoya Sync III Organic 1.50 Hv Longlife Bluecontrol"
        ],
        [
         "Cleber ##-CENSORED",
         "99999-9999",
         "Hoya Vs Surfaçada Nulux Identity V+ Eynoa 1.67 Sensity 2 Hv Longlife Uvcontrol"
        ],
        [
         "Alex ##-CENSORED",
         "99999-9999",
         "Hoya Sync III Organic 1.50 No-Risk Bluecontrol"
        ],
        [
         "Vagner ##-CENSORED",
         "99999-9999",
         "Hoya Sync III Organic 1.50 No-Risk Bluecontrol"
        ],
        [
         "Eduardo ##-CENSORED",
         "99999-9999",
         "Hoya Miyosmart Poli"
        ],
        [
         "Eliane ##-CENSORED",
         "99999-9999",
         "Hoya Visão Simples Dobro"
        ],
        [
         "Eli ##-CENSORED",
         "99999-9999",
         "Hoya Lente Pronta Nulux Eynoa 1.67 Hv Meiryo"
        ],
        [
         "Simone ##-CENSORED",
         "99999-9999",
         "Hoya Sync III Organic 1.50 No-Risk Bluecontrol"
        ],
        [
         "Alessandra ##-CENSORED",
         "99999-9999",
         "Hoya Sync III Organic 1.50 No-Risk Bluecontrol"
        ],
        [
         "Tamires ##-CENSORED",
         "99999-9999",
         "Hoya Lente Pronta Nulux Eynoa 1.67 Hv Meiryo"
        ],
        [
         "Cleber ##-CENSORED",
         "99999-9999",
         "Hoya Visão Simples Dobro"
        ],
        [
         "Eliane ##-CENSORED",
         "99999-9999",
         "Hoya Sync III Organic 1.50 Hv Longlife Bluecontrol"
        ],
        [
         "Claudia ##-CENSORED",
         "99999-9999",
         "Hoya Visão Simples Dobro"
        ],
        [
         "Anabele ##-CENSORED",
         "99999-9999",
         "Hoya Lente Pronta Nulux Eynoa 1.67 Hv Meiryo"
        ],
        [
         "Daniel ##-CENSORED",
         "99999-9999",
         "Hoya Sync III Organic 1.50 No-Risk Bluecontrol"
        ],
        [
         "Daniel ##-CENSORED",
         "99999-9999",
         "Hoya Lente Pronta Nulux Eynoa 1.67 Hv Meiryo"
        ],
        [
         "Claudia ##-CENSORED",
         "99999-9999",
         "Hoya Sync III Organic 1.50 Hv Longlife Bluecontrol"
        ],
        [
         "Evandro ##-CENSORED",
         "99999-9999",
         "Hoya Sync III Organic 1.50 Hv Longlife Bluecontrol"
        ],
        [
         "Maria ##-CENSORED",
         "99999-9999",
         "Hoya Argos Progressive Organic 1.50 Sensity Original No-Risk Bluecontrol"
        ],
        [
         "Josilda ##-CENSORED",
         "99999-9999",
         "Hoya Sync III Organic 1.50 No-Risk Bluecontrol"
        ],
        [
         "Mayara ##-CENSORED",
         "99999-9999",
         "Hoya Lente Pronta Nulux Eynoa 1.67 Hv Meiryo"
        ],
        [
         "Thiago ##-CENSORED",
         "99999-9999",
         "Hoya Sync III Organic 1.50 No-Risk Bluecontrol"
        ],
        [
         "Mayara ##-CENSORED",
         "99999-9999",
         "Hoya Visão Simples Dobro"
        ],
        [
         "Gabriela ##-CENSORED",
         "99999-9999",
         "Hoya Lente Pronta Nulux Eynoa 1.67 Hv Meiryo"
        ],
        [
         "Allan ##-CENSORED",
         "99999-9999",
         "Hoya Sync III Organic 1.50 Sensity 2 Hv Longlife Bluecontrol"
        ],
        [
         "Mirella ##-CENSORED",
         "99999-9999",
         "Hoya Sync III Organic 1.50 No-Risk Bluecontrol"
        ],
        [
         "Patricia ##-CENSORED",
         "99999-9999",
         "Hoya Sync III Organic 1.50 No-Risk Bluecontrol"
        ],
        [
         "Lucia ##-CENSORED",
         "99999-9999",
         "Hoya Sync III Organic 1.50 No-Risk Bluecontrol"
        ],
        [
         "Aline ##-CENSORED",
         "99999-9999",
         "Hoya Lente Pronta Nulux Eynoa 1.67 Hv Meiryo"
        ],
        [
         "Ana ##-CENSORED",
         "99999-9999",
         "Hoya Visão Simples Dobro"
        ],
        [
         "Allan ##-CENSORED",
         "99999-9999",
         "Hoya Visão Simples Dobro"
        ],
        [
         "Simone ##-CENSORED",
         "99999-9999",
         "Hoya Sync III Organic 1.50 No-Risk Bluecontrol"
        ],
        [
         "Maria ##-CENSORED",
         "99999-9999",
         "Hoya Visão Simples Dobro"
        ],
        [
         "Sheila ##-CENSORED",
         "99999-9999",
         "Hoya Argos Progressive Organic 1.50 No-Risk Bluecontrol"
        ],
        [
         "Ana ##-CENSORED",
         "99999-9999",
         "Hoya Lente Pronta Nulux Eynoa 1.67 Hv Meiryo"
        ],
        [
         "Ana ##-CENSORED",
         "99999-9999",
         "Hoya Sync III Organic 1.50 Hv Longlife Bluecontrol"
        ],
        [
         "Fatima ##-CENSORED",
         "99999-9999",
         "Hoya Lente Pronta Nulux Eynoa 1.67 Hv Meiryo"
        ],
        [
         "Cibele ##-CENSORED",
         "99999-9999",
         "Hoya Hoyalux Id Lifestyle 3 Organic 1.50 Hv Longlife Bluecontrol"
        ],
        [
         "Paulo ##-CENSORED",
         "99999-9999",
         "Hoya Sync III Organic 1.50 No-Risk Bluecontrol"
        ],
        [
         "Maria ##-CENSORED",
         "99999-9999",
         "Hoya Sync III Organic 1.50 No-Risk Bluecontrol"
        ],
        [
         "Gislaine ##-CENSORED",
         "99999-9999",
         "Hoya Sync III Organic 1.50 No-Risk Bluecontrol"
        ],
        [
         "Donizete ##-CENSORED",
         "99999-9999",
         "Hoya Sync III Organic 1.50 Hv Longlife Bluecontrol"
        ],
        [
         "Donizete ##-CENSORED",
         "99999-9999",
         "Hoya Visão Simples Dobro"
        ],
        [
         "Maria ##-CENSORED",
         "99999-9999",
         "Hoya Sync III Organic 1.50 Hv Longlife Bluecontrol"
        ],
        [
         "Rita ##-CENSORED",
         "99999-9999",
         "Hoya Sync III Organic 1.50 No-Risk Bluecontrol"
        ],
        [
         "Davi ##-CENSORED",
         "99999-9999",
         "Hoya Lente Pronta Nulux Eynoa 1.67 Hv Meiryo"
        ],
        [
         "Marlene ##-CENSORED",
         "99999-9999",
         "Hoya Sync III Organic 1.50 No-Risk Bluecontrol"
        ],
        [
         "Barbara ##-CENSORED",
         "99999-9999",
         "Hoya Lente Pronta Nulux Eynoa 1.67 Hv Meiryo"
        ]
       ],
       "datasetInfos": [],
       "dbfsResultPath": null,
       "isJsonSchema": true,
       "metadata": {},
       "overflow": false,
       "plotOptions": {
        "customPlotOptions": {},
        "displayType": "table",
        "pivotAggregation": null,
        "pivotColumns": null,
        "xColumns": null,
        "yColumns": null
       },
       "removedWidgets": [],
       "schema": [
        {
         "metadata": "{}",
         "name": "Cliente",
         "type": "\"string\""
        },
        {
         "metadata": "{}",
         "name": "Telefones",
         "type": "\"string\""
        },
        {
         "metadata": "{}",
         "name": "Item_Descricao",
         "type": "\"string\""
        }
       ],
       "type": "table"
      }
     },
     "output_type": "display_data"
    }
   ],
   "source": [
    "%sql\n",
    "-- 'Hoya Customers that bought before 2024 with valid contact number' -- ### Hidding sensitive information for GitHub purpose ###\n",
    "\n",
    "SELECT\n",
    "  CONCAT(SPLIT(`Cliente`, ' ')[0], ' ##-CENSORED') AS Cliente,\n",
    "  '99999-9999' AS Telefones,\n",
    "  `Item_Descricao`\n",
    "FROM hoya_customers_campaign\n"
   ]
  },
  {
   "cell_type": "code",
   "execution_count": 0,
   "metadata": {
    "application/vnd.databricks.v1+cell": {
     "cellMetadata": {},
     "inputWidgets": {},
     "nuid": "a9a23967-4160-40b5-85fe-c151bf1e0600",
     "showTitle": false,
     "title": ""
    }
   },
   "outputs": [],
   "source": []
  }
 ],
 "metadata": {
  "application/vnd.databricks.v1+notebook": {
   "dashboards": [],
   "environmentMetadata": null,
   "language": "python",
   "notebookMetadata": {
    "pythonIndentUnit": 4
   },
   "notebookName": "Hoya Campaign - SBC",
   "widgets": {}
  }
 },
 "nbformat": 4,
 "nbformat_minor": 0
}
